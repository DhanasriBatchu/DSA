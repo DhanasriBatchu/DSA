{
  "nbformat": 4,
  "nbformat_minor": 0,
  "metadata": {
    "colab": {
      "provenance": [],
      "authorship_tag": "ABX9TyPrSwpwxZjtiaHOHCfqXQh1",
      "include_colab_link": true
    },
    "kernelspec": {
      "name": "python3",
      "display_name": "Python 3"
    },
    "language_info": {
      "name": "python"
    }
  },
  "cells": [
    {
      "cell_type": "markdown",
      "metadata": {
        "id": "view-in-github",
        "colab_type": "text"
      },
      "source": [
        "<a href=\"https://colab.research.google.com/github/DhanasriBatchu/DSA/blob/main/Index_and_slicing_operations_and_skipping_concepts.ipynb\" target=\"_parent\"><img src=\"https://colab.research.google.com/assets/colab-badge.svg\" alt=\"Open In Colab\"/></a>"
      ]
    },
    {
      "cell_type": "markdown",
      "source": [
        "**Python Data Structures**\n",
        "-  \"Strings\"\n",
        "-  \"List\"\n",
        "-  \"Set\"\n",
        "-  \"Tuples\"\n",
        "-  \"Dictionary\"\n"
      ],
      "metadata": {
        "id": "hArX5-96WXPq"
      }
    },
    {
      "cell_type": "code",
      "execution_count": null,
      "metadata": {
        "colab": {
          "base_uri": "https://localhost:8080/"
        },
        "id": "c-781tqQWLP7",
        "outputId": "6a526343-c92d-4168-c77f-9f5317243ff2"
      },
      "outputs": [
        {
          "output_type": "stream",
          "name": "stdout",
          "text": [
            "<class 'str'>\n"
          ]
        }
      ],
      "source": [
        "a = \"Python\"\n",
        "print(type(a))"
      ]
    },
    {
      "cell_type": "markdown",
      "source": [
        "**Index concept**\n",
        "- each char will have their own last name,it starts from **0**\n",
        "-"
      ],
      "metadata": {
        "id": "BXXWqDuyXULk"
      }
    },
    {
      "cell_type": "code",
      "source": [
        "#****FORWARD DIRECTION\n",
        "a = \"Python\"       # p=0, y=1, t=2, h=3, o=4, n=5\n",
        "print(a[3])  #3rd position is printed"
      ],
      "metadata": {
        "colab": {
          "base_uri": "https://localhost:8080/"
        },
        "id": "ZwOnisAEXA53",
        "outputId": "d5578f3f-f14e-42c1-e4fa-bed376ccff38"
      },
      "execution_count": null,
      "outputs": [
        {
          "output_type": "stream",
          "name": "stdout",
          "text": [
            "h\n"
          ]
        }
      ]
    },
    {
      "cell_type": "code",
      "source": [
        "a= \"Data science\"\n",
        "print(a[4])    # it prints space"
      ],
      "metadata": {
        "colab": {
          "base_uri": "https://localhost:8080/"
        },
        "id": "kTLD3tNVX2Pv",
        "outputId": "00a28b64-54bf-4881-caac-897962726fa2"
      },
      "execution_count": null,
      "outputs": [
        {
          "output_type": "stream",
          "name": "stdout",
          "text": [
            " \n"
          ]
        }
      ]
    },
    {
      "cell_type": "code",
      "source": [
        "#****BACKWARD DIRECTION\n",
        "a = \"Python\"       # p=-6, y=-5, t=-4, h=-3, o=-2, n=-1\n",
        "print(a[-3])  #3rd position is printed"
      ],
      "metadata": {
        "colab": {
          "base_uri": "https://localhost:8080/"
        },
        "id": "lHujceSRarv_",
        "outputId": "46359bc4-424e-4b48-ad51-ea57e1889a21"
      },
      "execution_count": null,
      "outputs": [
        {
          "output_type": "stream",
          "name": "stdout",
          "text": [
            "h\n"
          ]
        }
      ]
    },
    {
      "cell_type": "code",
      "source": [
        "print(a[-5])"
      ],
      "metadata": {
        "colab": {
          "base_uri": "https://localhost:8080/"
        },
        "id": "DX5lLU8JbU_b",
        "outputId": "4494701b-2f9e-4fb5-b1d4-580b7622d3d8"
      },
      "execution_count": null,
      "outputs": [
        {
          "output_type": "stream",
          "name": "stdout",
          "text": [
            "y\n"
          ]
        }
      ]
    },
    {
      "cell_type": "markdown",
      "source": [
        "**Slicing operations**\n",
        "insted of calling single char using their idex we can call multiple char"
      ],
      "metadata": {
        "id": "s33Qpjr6b7z5"
      }
    },
    {
      "cell_type": "code",
      "source": [
        "#****FORWARD DIRECTION\n",
        "a=\"Data science\"   # D=0,a=1,t=2,a=3, =4,s=5,c=6,i=7,e=8,n=9,c=10,e=11\n",
        "print(a[0:12])"
      ],
      "metadata": {
        "colab": {
          "base_uri": "https://localhost:8080/"
        },
        "id": "IjphCzkHbZd1",
        "outputId": "5d0885c5-1b79-4710-f5e7-8c28e075fff3"
      },
      "execution_count": null,
      "outputs": [
        {
          "output_type": "stream",
          "name": "stdout",
          "text": [
            "Data science\n"
          ]
        }
      ]
    },
    {
      "cell_type": "code",
      "source": [
        "a=\"Data science\"   # D=0,a=1,t=2,a=3, =4,s=5,c=6,i=7,e=8,n=9,c=10,e=11\n",
        "print(a[3:9])"
      ],
      "metadata": {
        "colab": {
          "base_uri": "https://localhost:8080/"
        },
        "id": "R0hPrV6QbvdD",
        "outputId": "7107b568-dccd-4e8b-d187-60dca6d0e318"
      },
      "execution_count": null,
      "outputs": [
        {
          "output_type": "stream",
          "name": "stdout",
          "text": [
            "a scie\n"
          ]
        }
      ]
    },
    {
      "cell_type": "code",
      "source": [
        "a=\"Data science\"   # D=0,a=1,t=2,a=3, =4,s=5,c=6,i=7,e=8,n=9,c=10,e=11\n",
        "print(a[1:8])"
      ],
      "metadata": {
        "colab": {
          "base_uri": "https://localhost:8080/"
        },
        "id": "sZeIPO4zdYMt",
        "outputId": "6a03d4b4-5056-4feb-f597-b2d1cb21cf8e"
      },
      "execution_count": null,
      "outputs": [
        {
          "output_type": "stream",
          "name": "stdout",
          "text": [
            "ata sci\n"
          ]
        }
      ]
    },
    {
      "cell_type": "code",
      "source": [
        "a=\"Data science\"   # D=0,a=1,t=2,a=3, =4,s=5,c=6,i=7,e=8,n=9,c=10,e=11\n",
        "print(a[3:])   # starting position till the end"
      ],
      "metadata": {
        "colab": {
          "base_uri": "https://localhost:8080/"
        },
        "id": "o2TR631Zdl3H",
        "outputId": "d8cdd51c-2059-48a8-bdc3-55c569753a3c"
      },
      "execution_count": null,
      "outputs": [
        {
          "output_type": "stream",
          "name": "stdout",
          "text": [
            "a science\n"
          ]
        }
      ]
    },
    {
      "cell_type": "code",
      "source": [
        "a=\"Data science\"   # D=0,a=1,t=2,a=3, =4,s=5,c=6,i=7,e=8,n=9,c=10,e=11\n",
        "print(a[:])"
      ],
      "metadata": {
        "colab": {
          "base_uri": "https://localhost:8080/"
        },
        "id": "Ptklb6mKdxOl",
        "outputId": "7da1539e-94c5-428f-b203-13d0e64c1b35"
      },
      "execution_count": null,
      "outputs": [
        {
          "output_type": "stream",
          "name": "stdout",
          "text": [
            "Data science\n"
          ]
        }
      ]
    },
    {
      "cell_type": "code",
      "source": [
        "print(a[:8])\n"
      ],
      "metadata": {
        "colab": {
          "base_uri": "https://localhost:8080/"
        },
        "id": "83OZZczPd60h",
        "outputId": "995a8a97-15db-42c4-d74e-5baceb8fd37e"
      },
      "execution_count": null,
      "outputs": [
        {
          "output_type": "stream",
          "name": "stdout",
          "text": [
            "Data sci\n"
          ]
        }
      ]
    },
    {
      "cell_type": "code",
      "source": [
        "a=\"Data science\"   # D=0,a=1,t=2,a=3, =4,s=5,c=6,i=7,e=8,n=9,c=10,e=11\n",
        "print(a[:7])   # starting position till the end"
      ],
      "metadata": {
        "colab": {
          "base_uri": "https://localhost:8080/"
        },
        "id": "GeGTTj1MeGJr",
        "outputId": "4247dc5b-b6c8-47fd-d673-cb24918650c1"
      },
      "execution_count": null,
      "outputs": [
        {
          "output_type": "stream",
          "name": "stdout",
          "text": [
            "Data sc\n"
          ]
        }
      ]
    },
    {
      "cell_type": "code",
      "source": [
        "a=\"Data science\"   # D=0,a=1,t=2,a=3, =4,s=5,c=6,i=7,e=8,n=9,c=10,e=11\n",
        "\n",
        "#:-starting, :ending, -1:reverse\n",
        "print(a[::-1])   # :-starting position,:-ending position, -1-reverse"
      ],
      "metadata": {
        "colab": {
          "base_uri": "https://localhost:8080/"
        },
        "id": "BINqgSYReO8Y",
        "outputId": "039afa7f-576a-4bfe-82f6-f4697169a29e"
      },
      "execution_count": null,
      "outputs": [
        {
          "output_type": "stream",
          "name": "stdout",
          "text": [
            "ecneics ataD\n"
          ]
        }
      ]
    },
    {
      "cell_type": "code",
      "source": [
        "#Back ward direction\n",
        "a=\"Data python\"   # D=-11,a=-10,t=-9,a=-8, =-7,p=-6, y=-5, t=-4, h=-3, o=-2, n=-1\n",
        "print(a[-6:0])"
      ],
      "metadata": {
        "colab": {
          "base_uri": "https://localhost:8080/"
        },
        "id": "ysyTmjpieVCf",
        "outputId": "64744de2-ac80-422a-f2a5-5b13f28ce851"
      },
      "execution_count": null,
      "outputs": [
        {
          "output_type": "stream",
          "name": "stdout",
          "text": [
            "\n"
          ]
        }
      ]
    },
    {
      "cell_type": "code",
      "source": [
        "# forward  D=0,a=1,t=2,a=3, =4,p=5,y=6,t=7,h=8,o=9,n=10\n",
        "# backward  D=-11,a=-10,t=-9,a=-8, =-7,p=-6, y=-5, t=-4, h=-3, o=-2, n=-1\n",
        "print(a[2:4])\n",
        "print(a[-9:-7])"
      ],
      "metadata": {
        "colab": {
          "base_uri": "https://localhost:8080/"
        },
        "id": "fAssc9V9fGvG",
        "outputId": "b267c5ee-5399-42ca-ac05-056677bad34f"
      },
      "execution_count": null,
      "outputs": [
        {
          "output_type": "stream",
          "name": "stdout",
          "text": [
            "ta\n",
            "ta\n"
          ]
        }
      ]
    },
    {
      "cell_type": "code",
      "source": [
        "print(a[-6:-1])"
      ],
      "metadata": {
        "colab": {
          "base_uri": "https://localhost:8080/"
        },
        "id": "Hz1w70AuhKCT",
        "outputId": "628ca433-bbb7-4d51-c1dd-91c7280a8939"
      },
      "execution_count": null,
      "outputs": [
        {
          "output_type": "stream",
          "name": "stdout",
          "text": [
            "pytho\n"
          ]
        }
      ]
    },
    {
      "cell_type": "markdown",
      "source": [
        "**SKIPING CHARECTERS**\n"
      ],
      "metadata": {
        "id": "72x7H1AUh_tY"
      }
    },
    {
      "cell_type": "code",
      "source": [
        "a = \"Data science\"\n",
        "print(a[::1])"
      ],
      "metadata": {
        "id": "huewSOBmiYyn",
        "colab": {
          "base_uri": "https://localhost:8080/"
        },
        "outputId": "d9b07592-8ca6-48ed-805f-d0561f3864b6"
      },
      "execution_count": null,
      "outputs": [
        {
          "output_type": "stream",
          "name": "stdout",
          "text": [
            "Data science\n"
          ]
        }
      ]
    },
    {
      "cell_type": "code",
      "source": [
        "a = \"Data science\"\n",
        "print(a[::2])  #Starting position to ending position to the end"
      ],
      "metadata": {
        "colab": {
          "base_uri": "https://localhost:8080/"
        },
        "id": "g7U1cqslh95v",
        "outputId": "03828314-b00b-4df7-b09a-2c006eff11dc"
      },
      "execution_count": null,
      "outputs": [
        {
          "output_type": "stream",
          "name": "stdout",
          "text": [
            "Dt cec\n"
          ]
        }
      ]
    },
    {
      "cell_type": "code",
      "source": [
        "a = \"Python is power\"\n",
        "print(a[::3])"
      ],
      "metadata": {
        "colab": {
          "base_uri": "https://localhost:8080/"
        },
        "id": "jHj-JdZDx4RH",
        "outputId": "f8969074-9879-4058-c888-71df85f1af98"
      },
      "execution_count": null,
      "outputs": [
        {
          "output_type": "stream",
          "name": "stdout",
          "text": [
            "Ph  w\n"
          ]
        }
      ]
    },
    {
      "cell_type": "markdown",
      "source": [
        "**STEP SIZE**"
      ],
      "metadata": {
        "id": "8gJ7A9kQysXZ"
      }
    },
    {
      "cell_type": "code",
      "source": [
        "a = \"Python is power\"\n",
        "print(a[2:9:2])  # :-starting position,:-ending position, -2-STEP SIZE\n"
      ],
      "metadata": {
        "colab": {
          "base_uri": "https://localhost:8080/"
        },
        "id": "Ka1_RtlZyWjg",
        "outputId": "040c00d6-9d68-4b2c-83a6-ca4ae365d733"
      },
      "execution_count": null,
      "outputs": [
        {
          "output_type": "stream",
          "name": "stdout",
          "text": [
            "to s\n"
          ]
        }
      ]
    },
    {
      "cell_type": "code",
      "source": [
        "a = \"Python is power\"\n",
        "print(a[:9:2])"
      ],
      "metadata": {
        "colab": {
          "base_uri": "https://localhost:8080/"
        },
        "id": "Auubq6VLyrJ9",
        "outputId": "b36b977e-9eec-4bb8-de66-993d548f954c"
      },
      "execution_count": null,
      "outputs": [
        {
          "output_type": "stream",
          "name": "stdout",
          "text": [
            "Pto s\n"
          ]
        }
      ]
    },
    {
      "cell_type": "code",
      "source": [
        "print(a[2:3])"
      ],
      "metadata": {
        "colab": {
          "base_uri": "https://localhost:8080/"
        },
        "id": "GP23BccYzbwS",
        "outputId": "9fee23d1-c054-4ef2-c8da-91ae61411119"
      },
      "execution_count": null,
      "outputs": [
        {
          "output_type": "stream",
          "name": "stdout",
          "text": [
            "t\n"
          ]
        }
      ]
    },
    {
      "cell_type": "code",
      "source": [
        "print(a[2::3])"
      ],
      "metadata": {
        "colab": {
          "base_uri": "https://localhost:8080/"
        },
        "id": "xrfDavlTz7nF",
        "outputId": "75620154-6d9d-49b9-ae39-8a3a70577213"
      },
      "execution_count": null,
      "outputs": [
        {
          "output_type": "stream",
          "name": "stdout",
          "text": [
            "tnsor\n"
          ]
        }
      ]
    },
    {
      "cell_type": "code",
      "source": [],
      "metadata": {
        "id": "wLhLCrPn0VJG"
      },
      "execution_count": null,
      "outputs": []
    }
  ]
}