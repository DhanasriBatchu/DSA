{
  "nbformat": 4,
  "nbformat_minor": 0,
  "metadata": {
    "colab": {
      "provenance": [],
      "authorship_tag": "ABX9TyPFI2krqVIgtoT5Reep3kbV",
      "include_colab_link": true
    },
    "kernelspec": {
      "name": "python3",
      "display_name": "Python 3"
    },
    "language_info": {
      "name": "python"
    }
  },
  "cells": [
    {
      "cell_type": "markdown",
      "metadata": {
        "id": "view-in-github",
        "colab_type": "text"
      },
      "source": [
        "<a href=\"https://colab.research.google.com/github/DhanasriBatchu/DSA/blob/main/Strings.ipynb\" target=\"_parent\"><img src=\"https://colab.research.google.com/assets/colab-badge.svg\" alt=\"Open In Colab\"/></a>"
      ]
    },
    {
      "cell_type": "markdown",
      "source": [
        "**Python Data Structures**\n",
        "\n",
        "*   Strings\n",
        "*   list\n",
        "*   Tuple\n",
        "*   Sets\n",
        "*   Dictionary\n"
      ],
      "metadata": {
        "id": "TRNhq9XO1hvJ"
      }
    },
    {
      "cell_type": "markdown",
      "source": [
        "**MUTABLE**\n",
        "\n",
        "*   Mutable meanse we can chage the memory Allocation.\n",
        "       - **MUTABLE DATA STRUCTURES**\n",
        " *   List\n",
        " *   Sets\n",
        " *   Dictionary\n",
        "\n",
        "**IMMUTABLE**\n",
        "*   Immutable meanse we can't chage the memory ALLOCATION.\n",
        "      - **IMMUTABLE DATA STRUCTURES**\n",
        " *    Strings\n",
        " *    Tuple\n",
        "\n"
      ],
      "metadata": {
        "id": "3t3WCfK218od"
      }
    },
    {
      "cell_type": "markdown",
      "source": [
        "**String**\n",
        "\n",
        "1.   Immutable\n",
        "2.   Can't increase memory space\n",
        "3.   Can't change memory space\n",
        "\n",
        "\n",
        "\n",
        "\n"
      ],
      "metadata": {
        "id": "RjPLj5xQ5MJh"
      }
    },
    {
      "cell_type": "code",
      "source": [
        "a='python'\n",
        "print(a[1])"
      ],
      "metadata": {
        "colab": {
          "base_uri": "https://localhost:8080/"
        },
        "id": "v0cRSpL43YcL",
        "outputId": "1c031581-4848-4406-80dc-6ff6a837f6f5"
      },
      "execution_count": null,
      "outputs": [
        {
          "output_type": "stream",
          "name": "stdout",
          "text": [
            "y\n"
          ]
        }
      ]
    },
    {
      "cell_type": "code",
      "source": [
        "# Updating Char:\n",
        "\n",
        "a[1] = A"
      ],
      "metadata": {
        "colab": {
          "base_uri": "https://localhost:8080/",
          "height": 176
        },
        "id": "d1vbYPNZ4a_O",
        "outputId": "aed23885-4a96-4215-bce6-330fc87412c8"
      },
      "execution_count": null,
      "outputs": [
        {
          "output_type": "error",
          "ename": "NameError",
          "evalue": "name 'A' is not defined",
          "traceback": [
            "\u001b[0;31m---------------------------------------------------------------------------\u001b[0m",
            "\u001b[0;31mNameError\u001b[0m                                 Traceback (most recent call last)",
            "\u001b[0;32m/tmp/ipython-input-4-1468504609.py\u001b[0m in \u001b[0;36m<cell line: 0>\u001b[0;34m()\u001b[0m\n\u001b[1;32m      1\u001b[0m \u001b[0;31m# Updating string:\u001b[0m\u001b[0;34m\u001b[0m\u001b[0;34m\u001b[0m\u001b[0m\n\u001b[1;32m      2\u001b[0m \u001b[0;34m\u001b[0m\u001b[0m\n\u001b[0;32m----> 3\u001b[0;31m \u001b[0ma\u001b[0m\u001b[0;34m[\u001b[0m\u001b[0;36m1\u001b[0m\u001b[0;34m]\u001b[0m \u001b[0;34m=\u001b[0m \u001b[0mA\u001b[0m\u001b[0;34m\u001b[0m\u001b[0;34m\u001b[0m\u001b[0m\n\u001b[0m",
            "\u001b[0;31mNameError\u001b[0m: name 'A' is not defined"
          ]
        }
      ]
    },
    {
      "cell_type": "code",
      "source": [
        "a=\"python\"\n",
        "\n",
        "# Deleting Char:\n",
        "\n",
        "del a[3]"
      ],
      "metadata": {
        "colab": {
          "base_uri": "https://localhost:8080/",
          "height": 176
        },
        "id": "5Y7DXrF14shv",
        "outputId": "ed91bb34-1d4f-46a4-aed9-10229c2af9b6"
      },
      "execution_count": null,
      "outputs": [
        {
          "output_type": "error",
          "ename": "TypeError",
          "evalue": "'str' object doesn't support item deletion",
          "traceback": [
            "\u001b[0;31m---------------------------------------------------------------------------\u001b[0m",
            "\u001b[0;31mTypeError\u001b[0m                                 Traceback (most recent call last)",
            "\u001b[0;32m/tmp/ipython-input-6-1524165811.py\u001b[0m in \u001b[0;36m<cell line: 0>\u001b[0;34m()\u001b[0m\n\u001b[1;32m      3\u001b[0m \u001b[0;31m# Deleting string:\u001b[0m\u001b[0;34m\u001b[0m\u001b[0;34m\u001b[0m\u001b[0m\n\u001b[1;32m      4\u001b[0m \u001b[0;34m\u001b[0m\u001b[0m\n\u001b[0;32m----> 5\u001b[0;31m \u001b[0;32mdel\u001b[0m \u001b[0ma\u001b[0m\u001b[0;34m[\u001b[0m\u001b[0;36m3\u001b[0m\u001b[0;34m]\u001b[0m\u001b[0;34m\u001b[0m\u001b[0;34m\u001b[0m\u001b[0m\n\u001b[0m",
            "\u001b[0;31mTypeError\u001b[0m: 'str' object doesn't support item deletion"
          ]
        }
      ]
    },
    {
      "cell_type": "code",
      "source": [
        "a=\"python\"\n",
        "\n",
        "# we cant add char:\n",
        "\n",
        "a[3]='a'"
      ],
      "metadata": {
        "colab": {
          "base_uri": "https://localhost:8080/",
          "height": 176
        },
        "id": "ksAizCJG5CBy",
        "outputId": "d736e96b-f727-4e87-c63f-30e4d04c7e30"
      },
      "execution_count": null,
      "outputs": [
        {
          "output_type": "error",
          "ename": "TypeError",
          "evalue": "'str' object does not support item assignment",
          "traceback": [
            "\u001b[0;31m---------------------------------------------------------------------------\u001b[0m",
            "\u001b[0;31mTypeError\u001b[0m                                 Traceback (most recent call last)",
            "\u001b[0;32m/tmp/ipython-input-7-639611624.py\u001b[0m in \u001b[0;36m<cell line: 0>\u001b[0;34m()\u001b[0m\n\u001b[1;32m      3\u001b[0m \u001b[0;31m# add char:\u001b[0m\u001b[0;34m\u001b[0m\u001b[0;34m\u001b[0m\u001b[0m\n\u001b[1;32m      4\u001b[0m \u001b[0;34m\u001b[0m\u001b[0m\n\u001b[0;32m----> 5\u001b[0;31m \u001b[0ma\u001b[0m\u001b[0;34m[\u001b[0m\u001b[0;36m3\u001b[0m\u001b[0;34m]\u001b[0m\u001b[0;34m=\u001b[0m\u001b[0;34m'a'\u001b[0m\u001b[0;34m\u001b[0m\u001b[0;34m\u001b[0m\u001b[0m\n\u001b[0m",
            "\u001b[0;31mTypeError\u001b[0m: 'str' object does not support item assignment"
          ]
        }
      ]
    },
    {
      "cell_type": "markdown",
      "source": [
        "Task"
      ],
      "metadata": {
        "id": "6pHO9Os_7LMm"
      }
    },
    {
      "cell_type": "code",
      "source": [
        "value = 'python,java'\n",
        "del value\n",
        "print(value)"
      ],
      "metadata": {
        "colab": {
          "base_uri": "https://localhost:8080/",
          "height": 176
        },
        "id": "sC-6cg6E553U",
        "outputId": "56f7c127-b018-4f82-edf1-656493e57cc5"
      },
      "execution_count": null,
      "outputs": [
        {
          "output_type": "error",
          "ename": "NameError",
          "evalue": "name 'value' is not defined",
          "traceback": [
            "\u001b[0;31m---------------------------------------------------------------------------\u001b[0m",
            "\u001b[0;31mNameError\u001b[0m                                 Traceback (most recent call last)",
            "\u001b[0;32m/tmp/ipython-input-9-183349890.py\u001b[0m in \u001b[0;36m<cell line: 0>\u001b[0;34m()\u001b[0m\n\u001b[1;32m      1\u001b[0m \u001b[0mvalue\u001b[0m \u001b[0;34m=\u001b[0m \u001b[0;34m'python,java'\u001b[0m\u001b[0;34m\u001b[0m\u001b[0;34m\u001b[0m\u001b[0m\n\u001b[1;32m      2\u001b[0m \u001b[0;32mdel\u001b[0m \u001b[0mvalue\u001b[0m\u001b[0;34m\u001b[0m\u001b[0;34m\u001b[0m\u001b[0m\n\u001b[0;32m----> 3\u001b[0;31m \u001b[0mprint\u001b[0m\u001b[0;34m(\u001b[0m\u001b[0mvalue\u001b[0m\u001b[0;34m)\u001b[0m\u001b[0;34m\u001b[0m\u001b[0;34m\u001b[0m\u001b[0m\n\u001b[0m",
            "\u001b[0;31mNameError\u001b[0m: name 'value' is not defined"
          ]
        }
      ]
    },
    {
      "cell_type": "markdown",
      "source": [
        "**concatination**"
      ],
      "metadata": {
        "id": "Wuhb4_AL7pLJ"
      }
    },
    {
      "cell_type": "code",
      "source": [
        "a = 'python '\n",
        "b = 'java'\n",
        "c = a+b\n",
        "print(c)"
      ],
      "metadata": {
        "colab": {
          "base_uri": "https://localhost:8080/"
        },
        "id": "VaGpoqt_7W_s",
        "outputId": "d7606914-d2c2-4e8a-afca-0c1f17d10109"
      },
      "execution_count": null,
      "outputs": [
        {
          "output_type": "stream",
          "name": "stdout",
          "text": [
            "python java\n"
          ]
        }
      ]
    },
    {
      "cell_type": "code",
      "source": [
        " 'python ' *5\n"
      ],
      "metadata": {
        "colab": {
          "base_uri": "https://localhost:8080/",
          "height": 35
        },
        "id": "BtXbCUOJ76dZ",
        "outputId": "ce57290e-58c4-458f-edd2-7de0356dfcac"
      },
      "execution_count": null,
      "outputs": [
        {
          "output_type": "execute_result",
          "data": {
            "text/plain": [
              "'python python python python python '"
            ],
            "application/vnd.google.colaboratory.intrinsic+json": {
              "type": "string"
            }
          },
          "metadata": {},
          "execution_count": 15
        }
      ]
    },
    {
      "cell_type": "markdown",
      "source": [
        " **Membership Function**"
      ],
      "metadata": {
        "id": "_ooIS_Xx8bUc"
      }
    },
    {
      "cell_type": "code",
      "source": [
        "a = 'python,java'\n",
        "\n",
        "print('python' in a)\n",
        "print('of' in a)\n",
        "print('java' not in a)"
      ],
      "metadata": {
        "colab": {
          "base_uri": "https://localhost:8080/"
        },
        "id": "nlu7NHro8Oz7",
        "outputId": "d942554d-d8ca-4fb5-e480-d4e648b3b733"
      },
      "execution_count": null,
      "outputs": [
        {
          "output_type": "stream",
          "name": "stdout",
          "text": [
            "True\n",
            "False\n",
            "False\n"
          ]
        }
      ]
    },
    {
      "cell_type": "markdown",
      "source": [
        "'Math operation using strings'"
      ],
      "metadata": {
        "id": "Rqya_4Hf9eoQ"
      }
    },
    {
      "cell_type": "markdown",
      "source": [
        "**Ascii values**\n",
        "--Ascii values is the value given for each and every char\n",
        "-  A-65 B=66 .........Z=91\n",
        "-  a=97 b=98 .........z=123"
      ],
      "metadata": {
        "id": "dmOY4YAg-Vrx"
      }
    },
    {
      "cell_type": "code",
      "source": [
        "value1 = 'ab'\n",
        "value2 = 'AB'\n",
        "\n",
        "\n",
        "\n",
        "print(value1>value2)\n",
        "print(value1<value2)\n"
      ],
      "metadata": {
        "colab": {
          "base_uri": "https://localhost:8080/"
        },
        "id": "t1JYORwe8vQF",
        "outputId": "b042eb81-4a52-46fd-c2fb-7f9ecb9dc37e"
      },
      "execution_count": null,
      "outputs": [
        {
          "output_type": "stream",
          "name": "stdout",
          "text": [
            "True\n",
            "False\n"
          ]
        }
      ]
    },
    {
      "cell_type": "markdown",
      "source": [
        "Operations on strings\n"
      ],
      "metadata": {
        "id": "KxYn7KAB_HCo"
      }
    },
    {
      "cell_type": "code",
      "source": [
        "a = 'python '\n",
        "b = 'java'\n",
        "print(a==b)\n",
        "print(a!=b)\n",
        "print(a>b)\n",
        "print(a<b)"
      ],
      "metadata": {
        "colab": {
          "base_uri": "https://localhost:8080/"
        },
        "id": "9jivII199cO7",
        "outputId": "75e4c8fe-1d42-4d0b-e90d-37dfcd490e88"
      },
      "execution_count": null,
      "outputs": [
        {
          "output_type": "stream",
          "name": "stdout",
          "text": [
            "False\n",
            "True\n",
            "True\n",
            "False\n"
          ]
        }
      ]
    },
    {
      "cell_type": "markdown",
      "source": [
        "**PRE DEFINED FUNCTIONS**\n",
        "-"
      ],
      "metadata": {
        "id": "2EQuhD2q_1De"
      }
    },
    {
      "cell_type": "code",
      "source": [
        "# Captilalize : this method is used to capital the starting letter of a str\n",
        "\n",
        "a='java'\n",
        "print(a.capitalize())"
      ],
      "metadata": {
        "colab": {
          "base_uri": "https://localhost:8080/"
        },
        "id": "BzZW-cA_nnWU",
        "outputId": "bf44959b-3c1b-4b9c-c879-83e3f31df59c"
      },
      "execution_count": null,
      "outputs": [
        {
          "output_type": "stream",
          "name": "stdout",
          "text": [
            "Java\n"
          ]
        }
      ]
    },
    {
      "cell_type": "code",
      "source": [
        "b='data science'\n",
        "print(b.capitalize())"
      ],
      "metadata": {
        "colab": {
          "base_uri": "https://localhost:8080/"
        },
        "id": "TZHD28-Hsy0K",
        "outputId": "da9151bd-ce77-4f77-928a-59c278ba361a"
      },
      "execution_count": null,
      "outputs": [
        {
          "output_type": "stream",
          "name": "stdout",
          "text": [
            "Data science\n"
          ]
        }
      ]
    },
    {
      "cell_type": "code",
      "source": [
        "# lower : it going to lower the each and every char in the given string\n",
        "# if the char in string is capital letters meanse lower fun is going to make it small\n",
        "            #if it already small meanse it is going tpo take as it is\n",
        "\n",
        "a = \"ABCD\"\n",
        "print(a.lower())"
      ],
      "metadata": {
        "colab": {
          "base_uri": "https://localhost:8080/"
        },
        "id": "64gxZIH5tHXO",
        "outputId": "10116d71-eeec-4bd8-9734-4974b8147826"
      },
      "execution_count": null,
      "outputs": [
        {
          "output_type": "stream",
          "name": "stdout",
          "text": [
            "abcd\n"
          ]
        }
      ]
    },
    {
      "cell_type": "code",
      "source": [
        "a = \"ABcd\"\n",
        "print(a.lower())\n"
      ],
      "metadata": {
        "colab": {
          "base_uri": "https://localhost:8080/"
        },
        "id": "vBW-wTADwoYB",
        "outputId": "ea31006b-d4ac-4d7d-aaf0-63ba64613d4d"
      },
      "execution_count": null,
      "outputs": [
        {
          "output_type": "stream",
          "name": "stdout",
          "text": [
            "abcd\n"
          ]
        }
      ]
    },
    {
      "cell_type": "code",
      "source": [
        "# Upper : this method is used to capital the each and every char in str\n",
        "\n",
        "a = 'java'\n",
        "print(a.upper())"
      ],
      "metadata": {
        "colab": {
          "base_uri": "https://localhost:8080/"
        },
        "id": "NM93ZjMpwylg",
        "outputId": "873f1346-d41a-4154-e555-a56d78153dfc"
      },
      "execution_count": null,
      "outputs": [
        {
          "output_type": "stream",
          "name": "stdout",
          "text": [
            "JAVA\n"
          ]
        }
      ]
    },
    {
      "cell_type": "code",
      "source": [
        "a = 'JAva'\n",
        "print(a.upper())"
      ],
      "metadata": {
        "colab": {
          "base_uri": "https://localhost:8080/"
        },
        "id": "A9C8eAgLxUvm",
        "outputId": "3206dd50-d4de-41c9-cd3b-d4e82feb1e8c"
      },
      "execution_count": null,
      "outputs": [
        {
          "output_type": "stream",
          "name": "stdout",
          "text": [
            "JAVA\n"
          ]
        }
      ]
    },
    {
      "cell_type": "code",
      "source": [
        "#Index method is used to find the index of the char\n",
        "a = 'python is best'\n",
        "print(a.index('b'))"
      ],
      "metadata": {
        "colab": {
          "base_uri": "https://localhost:8080/"
        },
        "id": "fechTK7oxYtu",
        "outputId": "90e35519-00c2-4602-dce4-dfc77cc8f01d"
      },
      "execution_count": null,
      "outputs": [
        {
          "output_type": "stream",
          "name": "stdout",
          "text": [
            "10\n"
          ]
        }
      ]
    },
    {
      "cell_type": "code",
      "source": [
        "a = 'python is best and java is best'\n",
        "print(a.index('best'))        #For word it is going to check the starting char and if the word matches it will gives us index value of a first char in a word"
      ],
      "metadata": {
        "colab": {
          "base_uri": "https://localhost:8080/"
        },
        "id": "D4ne6rpcx-H8",
        "outputId": "eb048ad6-4a2d-4159-bcbf-70992bbbc10f"
      },
      "execution_count": null,
      "outputs": [
        {
          "output_type": "stream",
          "name": "stdout",
          "text": [
            "10\n"
          ]
        }
      ]
    },
    {
      "cell_type": "code",
      "source": [
        "a = 'python is best'\n",
        "print(a.index('best'))"
      ],
      "metadata": {
        "colab": {
          "base_uri": "https://localhost:8080/"
        },
        "id": "shCGV1i4yQj2",
        "outputId": "2fe96709-888a-40ba-cdae-7107684a5098"
      },
      "execution_count": null,
      "outputs": [
        {
          "output_type": "stream",
          "name": "stdout",
          "text": [
            "10\n"
          ]
        }
      ]
    },
    {
      "cell_type": "code",
      "source": [
        "a = 'python is best and java is best'\n",
        "print(a.index('best'))"
      ],
      "metadata": {
        "colab": {
          "base_uri": "https://localhost:8080/"
        },
        "id": "fMR9hxDdzPTo",
        "outputId": "884ad700-2461-43b0-be64-118f71ca3578"
      },
      "execution_count": null,
      "outputs": [
        {
          "output_type": "stream",
          "name": "stdout",
          "text": [
            "10\n"
          ]
        }
      ]
    },
    {
      "cell_type": "code",
      "source": [
        "a = 'python is best and java is best'\n",
        "print(a.index('best' ,13))"
      ],
      "metadata": {
        "colab": {
          "base_uri": "https://localhost:8080/"
        },
        "id": "i8NsblWtzVF8",
        "outputId": "96cb7d6e-6f0c-4307-b2f5-9175e9eb2fff"
      },
      "execution_count": null,
      "outputs": [
        {
          "output_type": "stream",
          "name": "stdout",
          "text": [
            "27\n"
          ]
        }
      ]
    },
    {
      "cell_type": "code",
      "source": [
        "a = 'python is best and java is best'\n",
        "print(a.index('best' ,7,30))"
      ],
      "metadata": {
        "colab": {
          "base_uri": "https://localhost:8080/"
        },
        "id": "CxBFGJ6Fzkp4",
        "outputId": "3d38025d-b778-4162-f3a2-35cc58731c33"
      },
      "execution_count": null,
      "outputs": [
        {
          "output_type": "stream",
          "name": "stdout",
          "text": [
            "10\n"
          ]
        }
      ]
    },
    {
      "cell_type": "markdown",
      "source": [
        "**Replace**\n",
        "- Since strings are mutable we can not add or delete a char from the string it meanse we can not add a memory space but in the memory space itself we can replace a char but with index values"
      ],
      "metadata": {
        "id": "KJnlaah10DBq"
      }
    },
    {
      "cell_type": "code",
      "source": [
        "a = 'python'\n",
        "print(a[3])"
      ],
      "metadata": {
        "colab": {
          "base_uri": "https://localhost:8080/"
        },
        "id": "bh1O_gWJYtkQ",
        "outputId": "23866a1a-191d-4442-ad4c-f4df9a3001e3"
      },
      "execution_count": null,
      "outputs": [
        {
          "output_type": "stream",
          "name": "stdout",
          "text": [
            "h\n"
          ]
        }
      ]
    },
    {
      "cell_type": "code",
      "source": [
        "# it is not possible\n",
        "\n",
        "a[3]:'A'\n"
      ],
      "metadata": {
        "id": "e0mxS4HVzxq6"
      },
      "execution_count": null,
      "outputs": []
    },
    {
      "cell_type": "code",
      "source": [
        "# But in python we are having pre trained methods by python software developers\n",
        "#Using replace method we can replace a char in the same memory space\n",
        "a=\"python \"\n",
        "a.replace('h','A')   #where ever we have h replace with A"
      ],
      "metadata": {
        "colab": {
          "base_uri": "https://localhost:8080/",
          "height": 35
        },
        "id": "t0Rldmu12zU5",
        "outputId": "e23374a7-f6ae-40ec-8071-533e4c8649d3"
      },
      "execution_count": null,
      "outputs": [
        {
          "output_type": "execute_result",
          "data": {
            "text/plain": [
              "'pytAon '"
            ],
            "application/vnd.google.colaboratory.intrinsic+json": {
              "type": "string"
            }
          },
          "metadata": {},
          "execution_count": 4
        }
      ]
    },
    {
      "cell_type": "code",
      "source": [
        "# Another example\n",
        "\n",
        "a='I am a data analyst'\n",
        "b=a.replace('a','d')\n",
        "print(a)\n",
        "print(b)"
      ],
      "metadata": {
        "colab": {
          "base_uri": "https://localhost:8080/"
        },
        "id": "tgABB4Zq3oMJ",
        "outputId": "9190dd83-cc62-4523-bb6b-9933549cb5f6"
      },
      "execution_count": null,
      "outputs": [
        {
          "output_type": "stream",
          "name": "stdout",
          "text": [
            "I am a data analyst\n",
            "I dm d ddtd dndlyst\n"
          ]
        }
      ]
    },
    {
      "cell_type": "code",
      "source": [
        "# Another example\n",
        "\n",
        "a='I am a data Scientist'\n",
        "b=a.replace('a','d')\n",
        "print(a)\n",
        "print(b)"
      ],
      "metadata": {
        "colab": {
          "base_uri": "https://localhost:8080/"
        },
        "id": "WJH3bsEtaPeZ",
        "outputId": "a580a33b-ff1c-4cd0-8bb0-8536f9203683"
      },
      "execution_count": null,
      "outputs": [
        {
          "output_type": "stream",
          "name": "stdout",
          "text": [
            "I am a data Scientist\n",
            "I dm d ddtd Scientist\n"
          ]
        }
      ]
    },
    {
      "cell_type": "code",
      "source": [
        "# Another example\n",
        "\n",
        "a='I am a data Scientist'\n",
        "b=a.replace('a','d', 3) # 3 parameters meanse:checking 3 occurances of a and get replaced\n",
        "print(a)\n",
        "print(b)"
      ],
      "metadata": {
        "colab": {
          "base_uri": "https://localhost:8080/"
        },
        "id": "0KS0piVAgw1u",
        "outputId": "207dcdd9-7491-443d-95d1-e51c7d6fdfc8"
      },
      "execution_count": null,
      "outputs": [
        {
          "output_type": "stream",
          "name": "stdout",
          "text": [
            "I am a data Scientist\n",
            "I dm d ddta Scientist\n"
          ]
        }
      ]
    },
    {
      "cell_type": "code",
      "source": [
        "# Another example\n",
        "\n",
        "a='I am a data Scientist'\n",
        "b=a.replace('a','d', 5) # 5 parameters meanse:checking 5 occurances of a and get replaced\n",
        "print(a)\n",
        "print(b)"
      ],
      "metadata": {
        "colab": {
          "base_uri": "https://localhost:8080/"
        },
        "id": "w3X7VJdWa6KB",
        "outputId": "d5c8ef78-7aa0-4d79-847e-0fa7cdb1db17"
      },
      "execution_count": null,
      "outputs": [
        {
          "output_type": "stream",
          "name": "stdout",
          "text": [
            "I am a data Scientist\n",
            "I dm d ddtd Scientist\n"
          ]
        }
      ]
    },
    {
      "cell_type": "code",
      "source": [
        "a = 'I am a  Data Scientist and i am Artificial engineer'\n",
        "b=a.replace('am','do', 1)\n",
        "print(a)\n",
        "print(b)"
      ],
      "metadata": {
        "colab": {
          "base_uri": "https://localhost:8080/"
        },
        "id": "GMb7I3OkgBZp",
        "outputId": "326386b9-e0ab-411a-97e2-a3bcee741855"
      },
      "execution_count": null,
      "outputs": [
        {
          "output_type": "stream",
          "name": "stdout",
          "text": [
            "I am a  Data Scientist and i am Artificial engineer\n",
            "I do a  Data Scientist and i am Artificial engineer\n"
          ]
        }
      ]
    },
    {
      "cell_type": "markdown",
      "source": [
        "- isalpha : This is going to generate a boolean outputcome\n",
        "- it is going to check weather every char in every string is alphabet or not"
      ],
      "metadata": {
        "id": "duNK3ISfhcJ6"
      }
    },
    {
      "cell_type": "code",
      "source": [
        "a = 'python is very powerfull'\n",
        "\n",
        "print(a.isalpha())  #"
      ],
      "metadata": {
        "colab": {
          "base_uri": "https://localhost:8080/"
        },
        "id": "nV7WNSBHhOiZ",
        "outputId": "38bfe89a-9943-4001-9802-561db9ae62d7"
      },
      "execution_count": null,
      "outputs": [
        {
          "output_type": "stream",
          "name": "stdout",
          "text": [
            "False\n"
          ]
        }
      ]
    },
    {
      "cell_type": "code",
      "source": [
        "a = 'pythonisverypowerfull'\n",
        "\n",
        "print(a.isalpha())"
      ],
      "metadata": {
        "colab": {
          "base_uri": "https://localhost:8080/"
        },
        "id": "3R6fMY2GiXdH",
        "outputId": "928db7cc-6703-4cf8-8e8d-a7195e9d332b"
      },
      "execution_count": null,
      "outputs": [
        {
          "output_type": "stream",
          "name": "stdout",
          "text": [
            "True\n"
          ]
        }
      ]
    },
    {
      "cell_type": "code",
      "source": [
        "a = 'pythonisverypowerfull123'\n",
        "\n",
        "print(a.isalpha())"
      ],
      "metadata": {
        "colab": {
          "base_uri": "https://localhost:8080/"
        },
        "id": "exqxV7Dgicpq",
        "outputId": "592a0340-366b-4643-bbe0-447363459d3a"
      },
      "execution_count": null,
      "outputs": [
        {
          "output_type": "stream",
          "name": "stdout",
          "text": [
            "False\n"
          ]
        }
      ]
    },
    {
      "cell_type": "markdown",
      "source": [
        "- isdigit : it is going to check weather each char in given str is numerical value or not :[outcome-boolean]"
      ],
      "metadata": {
        "id": "Y36GomvGi0Az"
      }
    },
    {
      "cell_type": "code",
      "source": [
        "\n",
        "a = 'python is very powerfull '\n",
        "\n",
        "print(a.isdigit())"
      ],
      "metadata": {
        "colab": {
          "base_uri": "https://localhost:8080/"
        },
        "id": "aJpNWlwQiym9",
        "outputId": "925e0fc8-8bab-4ce5-e125-d3d172f228ae"
      },
      "execution_count": null,
      "outputs": [
        {
          "output_type": "stream",
          "name": "stdout",
          "text": [
            "False\n"
          ]
        }
      ]
    },
    {
      "cell_type": "code",
      "source": [
        "a = '123456890'\n",
        "\n",
        "print(a.isdigit())"
      ],
      "metadata": {
        "colab": {
          "base_uri": "https://localhost:8080/"
        },
        "id": "-M48q62njUGe",
        "outputId": "8294eec8-4c0f-44ad-c5dd-f708cb523e59"
      },
      "execution_count": null,
      "outputs": [
        {
          "output_type": "stream",
          "name": "stdout",
          "text": [
            "True\n"
          ]
        }
      ]
    },
    {
      "cell_type": "code",
      "source": [
        "a = '12345.6890'\n",
        "\n",
        "print(a.isdigit())"
      ],
      "metadata": {
        "colab": {
          "base_uri": "https://localhost:8080/"
        },
        "id": "VsAki5M_jnXX",
        "outputId": "e751767b-4948-4265-d074-7a2a26a9075e"
      },
      "execution_count": null,
      "outputs": [
        {
          "output_type": "stream",
          "name": "stdout",
          "text": [
            "False\n"
          ]
        }
      ]
    },
    {
      "cell_type": "markdown",
      "source": [
        "alphanum : which is going to check weather given string having alphabet and numerical value"
      ],
      "metadata": {
        "id": "rC-O8ql0j7HD"
      }
    },
    {
      "cell_type": "code",
      "source": [
        "a = \"python\"\n",
        "print(a.isalnum())"
      ],
      "metadata": {
        "colab": {
          "base_uri": "https://localhost:8080/"
        },
        "id": "eRRukjc-j1i1",
        "outputId": "c28794f3-2a69-4db7-bfe5-5921f1c01d34"
      },
      "execution_count": null,
      "outputs": [
        {
          "output_type": "stream",
          "name": "stdout",
          "text": [
            "True\n"
          ]
        }
      ]
    },
    {
      "cell_type": "code",
      "source": [
        "a = \"python123\"\n",
        "print(a.isalnum())"
      ],
      "metadata": {
        "colab": {
          "base_uri": "https://localhost:8080/"
        },
        "id": "uk9Uqe1RkV4I",
        "outputId": "79f67f28-ec47-4780-be5e-f7d478531ed3"
      },
      "execution_count": null,
      "outputs": [
        {
          "output_type": "stream",
          "name": "stdout",
          "text": [
            "True\n"
          ]
        }
      ]
    },
    {
      "cell_type": "code",
      "source": [
        "a = \"python12.3\"\n",
        "print(a.isalnum())"
      ],
      "metadata": {
        "colab": {
          "base_uri": "https://localhost:8080/"
        },
        "id": "Pbs8qLSxkh9X",
        "outputId": "bee1f9e9-39fe-4b5e-b690-e57dae24adae"
      },
      "execution_count": null,
      "outputs": [
        {
          "output_type": "stream",
          "name": "stdout",
          "text": [
            "False\n"
          ]
        }
      ]
    },
    {
      "cell_type": "markdown",
      "source": [
        "- isdecimal  it meanse it will check given each char in str is int and float"
      ],
      "metadata": {
        "id": "bjdNwNKXk8r5"
      }
    },
    {
      "cell_type": "code",
      "source": [
        "a = \"python12.3\"\n",
        "print(a.isdecimal())"
      ],
      "metadata": {
        "colab": {
          "base_uri": "https://localhost:8080/"
        },
        "id": "0ARFUNKukw8r",
        "outputId": "8b8e4538-df99-4bff-e569-5eabff86b544"
      },
      "execution_count": null,
      "outputs": [
        {
          "output_type": "stream",
          "name": "stdout",
          "text": [
            "False\n"
          ]
        }
      ]
    },
    {
      "cell_type": "code",
      "source": [
        "a = \"123\"\n",
        "print(a.isdecimal())"
      ],
      "metadata": {
        "colab": {
          "base_uri": "https://localhost:8080/"
        },
        "id": "PddGGnMXk2Xo",
        "outputId": "b0bf578f-067f-43e0-c0cb-d0db2226dab9"
      },
      "execution_count": null,
      "outputs": [
        {
          "output_type": "stream",
          "name": "stdout",
          "text": [
            "True\n"
          ]
        }
      ]
    },
    {
      "cell_type": "code",
      "source": [
        "a = \"12.3\"\n",
        "print(a.isdecimal())"
      ],
      "metadata": {
        "colab": {
          "base_uri": "https://localhost:8080/"
        },
        "id": "8KxHGottlWeX",
        "outputId": "283d830c-0758-4cfd-899a-afde5c4c91e5"
      },
      "execution_count": null,
      "outputs": [
        {
          "output_type": "stream",
          "name": "stdout",
          "text": [
            "False\n"
          ]
        }
      ]
    },
    {
      "cell_type": "markdown",
      "source": [
        "- 'islower'- which meanse it is going to check weather the given str starts with lower char or not[outcome comes in Boolean values]"
      ],
      "metadata": {
        "id": "GImP0QO7mRKQ"
      }
    },
    {
      "cell_type": "code",
      "source": [
        "a = 'python'\n",
        "print(a.islower())"
      ],
      "metadata": {
        "colab": {
          "base_uri": "https://localhost:8080/"
        },
        "id": "avg_xq9wlibt",
        "outputId": "1d8dcf81-c6d9-4e22-9852-7913f3da102d"
      },
      "execution_count": null,
      "outputs": [
        {
          "output_type": "stream",
          "name": "stdout",
          "text": [
            "True\n"
          ]
        }
      ]
    },
    {
      "cell_type": "code",
      "source": [
        "a = 'Python'\n",
        "print(a.islower())"
      ],
      "metadata": {
        "colab": {
          "base_uri": "https://localhost:8080/"
        },
        "id": "jY_6LwxEmOiv",
        "outputId": "d3919462-cb37-48c3-d3b3-72096978cccb"
      },
      "execution_count": null,
      "outputs": [
        {
          "output_type": "stream",
          "name": "stdout",
          "text": [
            "False\n"
          ]
        }
      ]
    },
    {
      "cell_type": "markdown",
      "source": [
        "- isupper- checks each char is upper or not[prints boolean values]"
      ],
      "metadata": {
        "id": "WnvcLFGxne0M"
      }
    },
    {
      "cell_type": "code",
      "source": [
        "a = 'python'\n",
        "print(a.isupper())"
      ],
      "metadata": {
        "colab": {
          "base_uri": "https://localhost:8080/"
        },
        "id": "zvRRV4pQmcii",
        "outputId": "8f0b7cbc-a140-49a5-b6f4-aa3449a88569"
      },
      "execution_count": null,
      "outputs": [
        {
          "output_type": "stream",
          "name": "stdout",
          "text": [
            "False\n"
          ]
        }
      ]
    },
    {
      "cell_type": "code",
      "source": [
        "a = 'Python'\n",
        "print(a.isupper())"
      ],
      "metadata": {
        "colab": {
          "base_uri": "https://localhost:8080/"
        },
        "id": "jo-0wnPeoVkj",
        "outputId": "f60fb469-02ae-4627-f14a-946beb22ccd4"
      },
      "execution_count": null,
      "outputs": [
        {
          "output_type": "stream",
          "name": "stdout",
          "text": [
            "False\n"
          ]
        }
      ]
    },
    {
      "cell_type": "code",
      "source": [
        "a = 'PYTHON'\n",
        "print(a.isupper())"
      ],
      "metadata": {
        "colab": {
          "base_uri": "https://localhost:8080/"
        },
        "id": "Q49ZbOWsoa0Q",
        "outputId": "3773e5ef-8745-4b7b-bb06-7a1cd3291ddc"
      },
      "execution_count": null,
      "outputs": [
        {
          "output_type": "stream",
          "name": "stdout",
          "text": [
            "True\n"
          ]
        }
      ]
    },
    {
      "cell_type": "markdown",
      "source": [
        "- Title is going to convert 1st char as capital letter in every word\n",
        "- diff blw title and capitalize method\n",
        "    - capitalize is going to capital the first char in the given string\n",
        "    - title is going to capitalize all the starting char in the each word"
      ],
      "metadata": {
        "id": "mJ_RMafzoiHu"
      }
    },
    {
      "cell_type": "code",
      "source": [
        "a = 'python'\n",
        "print(a.title())"
      ],
      "metadata": {
        "colab": {
          "base_uri": "https://localhost:8080/"
        },
        "id": "jW2nAQFjoeMw",
        "outputId": "d4a81384-6989-4d88-97b9-0bf9f16a4cb7"
      },
      "execution_count": null,
      "outputs": [
        {
          "output_type": "stream",
          "name": "stdout",
          "text": [
            "Python\n"
          ]
        }
      ]
    },
    {
      "cell_type": "code",
      "source": [
        "a = 'python is powerfull'\n",
        "print(a.title())\n",
        "print(a.capitalize())"
      ],
      "metadata": {
        "colab": {
          "base_uri": "https://localhost:8080/"
        },
        "id": "9FQb5KmSo3Du",
        "outputId": "b1c98898-0365-4b53-aeb0-0e22a37398a5"
      },
      "execution_count": null,
      "outputs": [
        {
          "output_type": "stream",
          "name": "stdout",
          "text": [
            "Python Is Powerfull\n",
            "Python is powerfull\n"
          ]
        }
      ]
    },
    {
      "cell_type": "markdown",
      "source": [
        "- swap case meanse viceversa\n",
        "     - upper case converted into lower case"
      ],
      "metadata": {
        "id": "qOhLJ2jKtngo"
      }
    },
    {
      "cell_type": "code",
      "source": [
        "a = 'i am doing great'\n",
        "print(a.swapcase())  #Lower case converted into upper case"
      ],
      "metadata": {
        "colab": {
          "base_uri": "https://localhost:8080/"
        },
        "id": "jlfnJiKkp1U2",
        "outputId": "ecb8e5c0-3037-4ad6-b814-5964a2b29fd1"
      },
      "execution_count": null,
      "outputs": [
        {
          "output_type": "stream",
          "name": "stdout",
          "text": [
            "I AM DOING GREAT\n"
          ]
        }
      ]
    },
    {
      "cell_type": "code",
      "source": [
        "a = 'I AM DOING GREAT'\n",
        "print(a.swapcase())  #upper case converted into lower case"
      ],
      "metadata": {
        "colab": {
          "base_uri": "https://localhost:8080/"
        },
        "id": "E9e-T_kUt3lp",
        "outputId": "3ab5910f-ec6e-499c-cf91-ff97522c8806"
      },
      "execution_count": null,
      "outputs": [
        {
          "output_type": "stream",
          "name": "stdout",
          "text": [
            "i am doing great\n"
          ]
        }
      ]
    },
    {
      "cell_type": "markdown",
      "source": [
        "- count = 'it counts the no of occurances of a char"
      ],
      "metadata": {
        "id": "XBQm9RVSubPJ"
      }
    },
    {
      "cell_type": "code",
      "source": [
        "a = 'i am a data scientist'\n",
        "print(a.count('a')) # a's in a"
      ],
      "metadata": {
        "colab": {
          "base_uri": "https://localhost:8080/"
        },
        "id": "FuP4DLgduS5c",
        "outputId": "8762d306-33e1-4051-ba3a-b48d9debdd4c"
      },
      "execution_count": null,
      "outputs": [
        {
          "output_type": "stream",
          "name": "stdout",
          "text": [
            "4\n"
          ]
        }
      ]
    },
    {
      "cell_type": "code",
      "source": [
        "a = 'i am a data scientist'\n",
        "print(a.count('i')) # i's in a"
      ],
      "metadata": {
        "colab": {
          "base_uri": "https://localhost:8080/"
        },
        "id": "uPWvG5JguvKO",
        "outputId": "10664e15-df55-4c10-adc1-96f8cdf17529"
      },
      "execution_count": null,
      "outputs": [
        {
          "output_type": "stream",
          "name": "stdout",
          "text": [
            "3\n"
          ]
        }
      ]
    },
    {
      "cell_type": "code",
      "source": [
        "a = 'i am a data scientist data'\n",
        "print(a.count('data',1,11))  #check data from index 1 to 11"
      ],
      "metadata": {
        "colab": {
          "base_uri": "https://localhost:8080/"
        },
        "id": "j-RgJ7uWvBuN",
        "outputId": "ceb95799-908e-4661-ed9e-3fae8991754c"
      },
      "execution_count": null,
      "outputs": [
        {
          "output_type": "stream",
          "name": "stdout",
          "text": [
            "1\n"
          ]
        }
      ]
    },
    {
      "cell_type": "code",
      "source": [],
      "metadata": {
        "id": "Ew8E6dbsvW2b"
      },
      "execution_count": null,
      "outputs": []
    }
  ]
}