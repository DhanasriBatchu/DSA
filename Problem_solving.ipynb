{
  "nbformat": 4,
  "nbformat_minor": 0,
  "metadata": {
    "colab": {
      "provenance": [],
      "authorship_tag": "ABX9TyP3SaQmaiQNSSTeuwawGSkc",
      "include_colab_link": true
    },
    "kernelspec": {
      "name": "python3",
      "display_name": "Python 3"
    },
    "language_info": {
      "name": "python"
    }
  },
  "cells": [
    {
      "cell_type": "markdown",
      "metadata": {
        "id": "view-in-github",
        "colab_type": "text"
      },
      "source": [
        "<a href=\"https://colab.research.google.com/github/DhanasriBatchu/DSA/blob/main/Problem_solving.ipynb\" target=\"_parent\"><img src=\"https://colab.research.google.com/assets/colab-badge.svg\" alt=\"Open In Colab\"/></a>"
      ]
    },
    {
      "cell_type": "markdown",
      "source": [
        "**PERFECT NO'S**\n",
        "-  Find a given number is a perfect number or **not**\n",
        "\n",
        "    - 6-1*2**3=6"
      ],
      "metadata": {
        "id": "ZbkZaXMuQbzN"
      }
    },
    {
      "cell_type": "code",
      "execution_count": null,
      "metadata": {
        "colab": {
          "base_uri": "https://localhost:8080/"
        },
        "id": "JQxQfWitQSgS",
        "outputId": "c88d8b7a-d799-4cf2-d158-35ad2246fb5c"
      },
      "outputs": [
        {
          "output_type": "stream",
          "name": "stdout",
          "text": [
            "6 - perfect number\n"
          ]
        }
      ],
      "source": [
        "a = 6\n",
        "count = 0\n",
        "for i in range(1, a):\n",
        "  if a % i == 0:\n",
        "    count=count+i\n",
        "if count == a:\n",
        "  print(a,\"- perfect number\")\n",
        "else:\n",
        "  print(a,\"- not a perfect number\")\n",
        "\n"
      ]
    },
    {
      "cell_type": "markdown",
      "source": [
        "-  Find the given number is a palindrome or not\n",
        "    - 1221 - 1221(reverse)"
      ],
      "metadata": {
        "id": "UVtdGPUOTUHU"
      }
    },
    {
      "cell_type": "code",
      "source": [
        "a = 121\n",
        "temp = a\n",
        "\n",
        "sum = 0\n",
        "while a>0:\n",
        "  num = a%10\n",
        "  sum = (sum*10)+num\n",
        "  a = a//10\n",
        "if temp == sum:\n",
        "  print(sum,\"- palindrome\")\n",
        "else:\n",
        "  print(sum,\"- not a palindrome\")"
      ],
      "metadata": {
        "colab": {
          "base_uri": "https://localhost:8080/"
        },
        "id": "oSPqRqz7RIZh",
        "outputId": "ed041fc3-ebed-4a4f-a2ed-f47d61c21f2c"
      },
      "execution_count": null,
      "outputs": [
        {
          "output_type": "stream",
          "name": "stdout",
          "text": [
            "121 - palindrome\n"
          ]
        }
      ]
    },
    {
      "cell_type": "markdown",
      "source": [
        "-  GIven number is a amstrong number\n",
        "\n",
        "   -  153 - 1^3 + 5^3 + 3^3  = 153"
      ],
      "metadata": {
        "id": "Y5xdnHf4k3w8"
      }
    },
    {
      "cell_type": "code",
      "source": [
        "a = 153\n",
        "temp =a   # 153\n",
        "sum =0\n",
        "while a>0:\n",
        "  res = a%10\n",
        "  sum = sum+res**3\n",
        "  a = a//10\n",
        "if temp == sum:\n",
        "  print(sum,\"- amstrong number\")\n",
        "else:\n",
        "  print(sum,\"- not a amstrong number\")"
      ],
      "metadata": {
        "id": "X-w4XoKWV73u",
        "colab": {
          "base_uri": "https://localhost:8080/"
        },
        "outputId": "c34ab70d-ec5b-4414-bc3f-d7893f476641"
      },
      "execution_count": 4,
      "outputs": [
        {
          "output_type": "stream",
          "name": "stdout",
          "text": [
            "153 - amstrong number\n"
          ]
        }
      ]
    },
    {
      "cell_type": "markdown",
      "source": [
        "-  Fibnocci series of a given number\n",
        "\n",
        "   -  0,1 = 0+ 1=1,1+ 2=3,2+ 3=5,3+ 5=8,5+ 8=13\n",
        "    - 0,1 - 0,1,2,3,5,8,13"
      ],
      "metadata": {
        "id": "lz_52hkZmpo4"
      }
    },
    {
      "cell_type": "code",
      "source": [
        "number = 8\n",
        "a = 0\n",
        "b = 1\n",
        "print(a,end = \" \")\n",
        "print(b,end = \" \")\n",
        "for i in range(6):\n",
        "  c = a+b\n",
        "  print(c,end = \" \")\n",
        "  a = b\n",
        "  b = c"
      ],
      "metadata": {
        "colab": {
          "base_uri": "https://localhost:8080/"
        },
        "id": "2UOXHJFiml5g",
        "outputId": "22798efc-2a78-4220-c357-a9bee1139dc9"
      },
      "execution_count": 5,
      "outputs": [
        {
          "output_type": "stream",
          "name": "stdout",
          "text": [
            "0 1 1 2 3 5 8 13 "
          ]
        }
      ]
    },
    {
      "cell_type": "markdown",
      "source": [
        "-  Given number is a strong number\n",
        "   -  145\n",
        "   -1 =1\n",
        "   -4 =4*3*2*1 =24\n",
        "   -5 =5*4*3*2*1 =125      -------------   1+24+125= 145"
      ],
      "metadata": {
        "id": "YEFOD7AzpqJX"
      }
    },
    {
      "cell_type": "code",
      "source": [
        "a = 145\n",
        "temp = a\n",
        "sum = 0\n",
        "while a > 0:\n",
        "  res = a % 10\n",
        "  fact = 1\n",
        "  for i in range(1,res+1):\n",
        "    fact = fact*i\n",
        "  sum = sum+fact\n",
        "  a = a//10\n",
        "if temp == sum:\n",
        "  print(sum,\"- strong number\")\n",
        "else:\n",
        "  print(sum,\"- not a strong number\")"
      ],
      "metadata": {
        "colab": {
          "base_uri": "https://localhost:8080/"
        },
        "id": "Lrvl_1B9pni1",
        "outputId": "15c0469f-a4f0-4e87-d845-43fd4e74cc4d"
      },
      "execution_count": 7,
      "outputs": [
        {
          "output_type": "stream",
          "name": "stdout",
          "text": [
            "145 - strong number\n"
          ]
        }
      ]
    },
    {
      "cell_type": "code",
      "source": [],
      "metadata": {
        "id": "hX_MuTSNuqcq"
      },
      "execution_count": null,
      "outputs": []
    }
  ]
}