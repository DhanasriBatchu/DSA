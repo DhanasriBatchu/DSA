{
  "nbformat": 4,
  "nbformat_minor": 0,
  "metadata": {
    "colab": {
      "provenance": [],
      "authorship_tag": "ABX9TyNgCO38plpgze8EtDySKwk3",
      "include_colab_link": true
    },
    "kernelspec": {
      "name": "python3",
      "display_name": "Python 3"
    },
    "language_info": {
      "name": "python"
    }
  },
  "cells": [
    {
      "cell_type": "markdown",
      "metadata": {
        "id": "view-in-github",
        "colab_type": "text"
      },
      "source": [
        "<a href=\"https://colab.research.google.com/github/DhanasriBatchu/DSA/blob/main/Problem_solving.ipynb\" target=\"_parent\"><img src=\"https://colab.research.google.com/assets/colab-badge.svg\" alt=\"Open In Colab\"/></a>"
      ]
    },
    {
      "cell_type": "markdown",
      "source": [
        "**PERFECT NO'S**\n",
        "-  Find a given number is a perfect number or **not**"
      ],
      "metadata": {
        "id": "ZbkZaXMuQbzN"
      }
    },
    {
      "cell_type": "code",
      "execution_count": null,
      "metadata": {
        "colab": {
          "base_uri": "https://localhost:8080/"
        },
        "id": "JQxQfWitQSgS",
        "outputId": "c88d8b7a-d799-4cf2-d158-35ad2246fb5c"
      },
      "outputs": [
        {
          "output_type": "stream",
          "name": "stdout",
          "text": [
            "6 - perfect number\n"
          ]
        }
      ],
      "source": [
        "a = 6\n",
        "count = 0\n",
        "for i in range(1, a):\n",
        "  if a % i == 0:\n",
        "    count=count+i\n",
        "if count == a:\n",
        "  print(a,\"- perfect number\")\n",
        "else:\n",
        "  print(a,\"- not a perfect number\")\n",
        "\n"
      ]
    },
    {
      "cell_type": "markdown",
      "source": [
        "-  Find the given number is a palindrome or not"
      ],
      "metadata": {
        "id": "UVtdGPUOTUHU"
      }
    },
    {
      "cell_type": "code",
      "source": [
        "a = 121\n",
        "temp = a\n",
        "\n",
        "sum = 0\n",
        "while a>0:\n",
        "  num = a%10\n",
        "  sum = (sum*10)+num\n",
        "  a = a//10\n",
        "if temp == sum:\n",
        "  print(sum,\"- palindrome\")\n",
        "else:\n",
        "  print(sum,\"- not a palindrome\")"
      ],
      "metadata": {
        "colab": {
          "base_uri": "https://localhost:8080/"
        },
        "id": "oSPqRqz7RIZh",
        "outputId": "ed041fc3-ebed-4a4f-a2ed-f47d61c21f2c"
      },
      "execution_count": null,
      "outputs": [
        {
          "output_type": "stream",
          "name": "stdout",
          "text": [
            "121 - palindrome\n"
          ]
        }
      ]
    },
    {
      "cell_type": "code",
      "source": [],
      "metadata": {
        "id": "X-w4XoKWV73u"
      },
      "execution_count": null,
      "outputs": []
    }
  ]
}