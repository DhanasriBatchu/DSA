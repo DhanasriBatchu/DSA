{
  "nbformat": 4,
  "nbformat_minor": 0,
  "metadata": {
    "colab": {
      "provenance": [],
      "authorship_tag": "ABX9TyP71fua1YpVqU1CF4vWs5AA",
      "include_colab_link": true
    },
    "kernelspec": {
      "name": "python3",
      "display_name": "Python 3"
    },
    "language_info": {
      "name": "python"
    }
  },
  "cells": [
    {
      "cell_type": "markdown",
      "metadata": {
        "id": "view-in-github",
        "colab_type": "text"
      },
      "source": [
        "<a href=\"https://colab.research.google.com/github/DhanasriBatchu/DSA/blob/main/DS_with_Conditional%26control_statements_and_Functions.ipynb\" target=\"_parent\"><img src=\"https://colab.research.google.com/assets/colab-badge.svg\" alt=\"Open In Colab\"/></a>"
      ]
    },
    {
      "cell_type": "markdown",
      "source": [
        "**Strings**\n",
        "  - 'write a for loop to the existing string and chech what happens'"
      ],
      "metadata": {
        "id": "qI_QWc0M2FIb"
      }
    },
    {
      "cell_type": "code",
      "execution_count": null,
      "metadata": {
        "colab": {
          "base_uri": "https://localhost:8080/"
        },
        "id": "C2aVhboM0doF",
        "outputId": "d9ad33f9-e992-4ffe-b1f8-1f3ce40d99a1"
      },
      "outputs": [
        {
          "output_type": "stream",
          "name": "stdout",
          "text": [
            "1 2 3 4 5 6 7 8 9 10 "
          ]
        }
      ],
      "source": [
        "for i in range(1,11):  # we are using to specify source and destination\n",
        "  print(i,end=\" \")"
      ]
    },
    {
      "cell_type": "code",
      "source": [
        "\n",
        "# when using for loop for data structures there is no need to use range we already have a source:\n",
        "# we passing a for loop:Variable in loop is going to access each charecter at every new iteration:\n",
        "\n",
        "a = 'python data'\n",
        "for i in a:\n",
        "  print(i,end=\" \")"
      ],
      "metadata": {
        "colab": {
          "base_uri": "https://localhost:8080/"
        },
        "id": "3nHv4Rmo9eOm",
        "outputId": "2c8b3559-f703-434d-a736-a3e0160545f8"
      },
      "execution_count": null,
      "outputs": [
        {
          "output_type": "stream",
          "name": "stdout",
          "text": [
            "p y t h o n   d a t a "
          ]
        }
      ]
    },
    {
      "cell_type": "code",
      "source": [
        "# given a string please remove the vowels :\n",
        "# Vowels = [AEIOUaeiou]\n",
        "# input : python data\n",
        "# output : pythn dt\n",
        "\n",
        "a = 'python Data'\n",
        "c=[]\n",
        "for i in a:\n",
        "  if i not in 'aeiouAEIOU':\n",
        "    c.append(i)\n",
        "print(c)"
      ],
      "metadata": {
        "colab": {
          "base_uri": "https://localhost:8080/"
        },
        "id": "IazkQGGq4S2q",
        "outputId": "eaea9a92-2dbb-4d08-a902-93a800d02c1f"
      },
      "execution_count": null,
      "outputs": [
        {
          "output_type": "stream",
          "name": "stdout",
          "text": [
            "['p', 'y', 't', 'h', 'n', ' ', 'D', 't']\n"
          ]
        }
      ]
    },
    {
      "cell_type": "code",
      "source": [
        "a = 'python Data'\n",
        "c=[]\n",
        "for i in a:\n",
        "  if i not in 'aeiouAEIOU':\n",
        "    c.append(i)\n",
        "print(\" \".join(c))"
      ],
      "metadata": {
        "colab": {
          "base_uri": "https://localhost:8080/"
        },
        "id": "mC9s_Eug7m9_",
        "outputId": "f0c63b56-8969-4801-8e14-4173e2cf9dd4"
      },
      "execution_count": null,
      "outputs": [
        {
          "output_type": "stream",
          "name": "stdout",
          "text": [
            "p y t h n   D t\n"
          ]
        }
      ]
    },
    {
      "cell_type": "code",
      "source": [
        "a = 'python Data'\n",
        "c= ''\n",
        "for i in a:\n",
        "  if i not in 'aeiouAEIOU':\n",
        "    c = c + i\n",
        "print(c)"
      ],
      "metadata": {
        "colab": {
          "base_uri": "https://localhost:8080/"
        },
        "id": "Uxgox9Qo91E3",
        "outputId": "3e3c5f1b-34c1-4152-dc69-6fd13e7c0720"
      },
      "execution_count": null,
      "outputs": [
        {
          "output_type": "stream",
          "name": "stdout",
          "text": [
            "pythn Dt\n"
          ]
        }
      ]
    },
    {
      "cell_type": "markdown",
      "source": [
        "**List**"
      ],
      "metadata": {
        "id": "__CfG1UW-qi4"
      }
    },
    {
      "cell_type": "code",
      "source": [
        "a =[10,50,150,200]\n",
        "for i in a:\n",
        "  print(i)"
      ],
      "metadata": {
        "colab": {
          "base_uri": "https://localhost:8080/"
        },
        "id": "03l9f0A_-CBF",
        "outputId": "b64fd4bb-7ae1-4f4d-80f8-995ec9c6203c"
      },
      "execution_count": null,
      "outputs": [
        {
          "output_type": "stream",
          "name": "stdout",
          "text": [
            "10\n",
            "50\n",
            "150\n",
            "200\n"
          ]
        }
      ]
    },
    {
      "cell_type": "code",
      "source": [
        "# in a list i will provide some values please find only the odd numbers:\n",
        "\n",
        "a = [10,13,15,19,22,45,78,51]\n",
        "for i in a:\n",
        "  if i %2 != 0:\n",
        "    print('odd -',i)"
      ],
      "metadata": {
        "colab": {
          "base_uri": "https://localhost:8080/"
        },
        "id": "yoq8tS8O-3Sc",
        "outputId": "df2bad4c-f61e-4d6b-8df4-8811c7eca0e6"
      },
      "execution_count": null,
      "outputs": [
        {
          "output_type": "stream",
          "name": "stdout",
          "text": [
            "odd - 13\n",
            "odd - 15\n",
            "odd - 19\n",
            "odd - 45\n",
            "odd - 51\n"
          ]
        }
      ]
    },
    {
      "cell_type": "code",
      "source": [
        "# in a list i will provide some values please find only the odd numbers:\n",
        "\n",
        "a = [[10,13,15,19,22,45,78,51]]\n",
        "for i in a:\n",
        "    print(i)"
      ],
      "metadata": {
        "colab": {
          "base_uri": "https://localhost:8080/"
        },
        "id": "C0lWg8wC_7_b",
        "outputId": "56f859a8-c53a-451a-a293-889242b0caa7"
      },
      "execution_count": null,
      "outputs": [
        {
          "output_type": "stream",
          "name": "stdout",
          "text": [
            "[10, 13, 15, 19, 22, 45, 78, 51]\n"
          ]
        }
      ]
    },
    {
      "cell_type": "code",
      "source": [
        "a = [[10,13,15,19,22,45,78,51]]\n",
        "for i in a:\n",
        "  for j in i:\n",
        "      print(j)"
      ],
      "metadata": {
        "colab": {
          "base_uri": "https://localhost:8080/"
        },
        "id": "GH0MKSKXAlZj",
        "outputId": "6645cfd6-85ea-42a2-8799-c34a43098a9b"
      },
      "execution_count": null,
      "outputs": [
        {
          "output_type": "stream",
          "name": "stdout",
          "text": [
            "10\n",
            "13\n",
            "15\n",
            "19\n",
            "22\n",
            "45\n",
            "78\n",
            "51\n"
          ]
        }
      ]
    },
    {
      "cell_type": "code",
      "source": [
        "a = [[10,13,15,19,22,45,78,51]]\n",
        "for i in a:\n",
        "  for j in i:\n",
        "    if j %2 != 0:\n",
        "\n",
        "      print('odd',j)"
      ],
      "metadata": {
        "colab": {
          "base_uri": "https://localhost:8080/"
        },
        "id": "fTmrhhUOB1Kz",
        "outputId": "561ae1e1-24ce-4896-feba-983488d34d6b"
      },
      "execution_count": null,
      "outputs": [
        {
          "output_type": "stream",
          "name": "stdout",
          "text": [
            "odd 13\n",
            "odd 15\n",
            "odd 19\n",
            "odd 45\n",
            "odd 51\n"
          ]
        }
      ]
    },
    {
      "cell_type": "code",
      "source": [
        "def fun(a):\n",
        "    for i in a:\n",
        "        for j in i:\n",
        "            if j %2 != 0:\n",
        "                print('odd',j)\n",
        "\n",
        "a = [[10,13,15,19,22,45,78,51]]    # while calling a function; i am sending a variable a also to the function\n",
        "fun(a)"
      ],
      "metadata": {
        "colab": {
          "base_uri": "https://localhost:8080/"
        },
        "id": "SJJe4u3BDfpj",
        "outputId": "ef60f04b-d6e7-4a25-f718-c909ae5f887a"
      },
      "execution_count": null,
      "outputs": [
        {
          "output_type": "stream",
          "name": "stdout",
          "text": [
            "odd 13\n",
            "odd 15\n",
            "odd 19\n",
            "odd 45\n",
            "odd 51\n"
          ]
        }
      ]
    },
    {
      "cell_type": "code",
      "source": [
        "a = [[10,13,15,19,22,45,78,51]]\n",
        "\n",
        "def fun(a):\n",
        "    for i in a:\n",
        "        for j in i:\n",
        "            if j %2 != 0:\n",
        "                print('odd',j)\n",
        "fun(a)   #  while calling the functions; i am sending variable a also to the function"
      ],
      "metadata": {
        "colab": {
          "base_uri": "https://localhost:8080/"
        },
        "id": "6r4HfePBDngG",
        "outputId": "d1da968e-9c5f-403e-d57e-ed331e4cd049"
      },
      "execution_count": null,
      "outputs": [
        {
          "output_type": "stream",
          "name": "stdout",
          "text": [
            "odd 13\n",
            "odd 15\n",
            "odd 19\n",
            "odd 45\n",
            "odd 51\n"
          ]
        }
      ]
    },
    {
      "cell_type": "markdown",
      "source": [
        "**Tuple**"
      ],
      "metadata": {
        "id": "0ddCr2Xe5IkK"
      }
    },
    {
      "cell_type": "code",
      "source": [
        "#Tuple\n",
        "\n",
        "a = (10,13,15,19,22,45,78,51)\n",
        "for i in a:\n",
        "  if i %2==0:\n",
        "    print(\"even-\",i)\n",
        ""
      ],
      "metadata": {
        "id": "yIH2ZpNuExqv",
        "colab": {
          "base_uri": "https://localhost:8080/"
        },
        "outputId": "b2863029-09cf-414c-8218-f24e125acb1d"
      },
      "execution_count": 8,
      "outputs": [
        {
          "output_type": "stream",
          "name": "stdout",
          "text": [
            "even- 10\n",
            "even- 22\n",
            "even- 78\n"
          ]
        }
      ]
    },
    {
      "cell_type": "code",
      "source": [
        "a = (10,13,15,19,22,45,78,51)\n",
        "def even(b):\n",
        " for i in b:\n",
        "  if i %2==0:\n",
        "    print(\"even-\",i)\n",
        "\n",
        "even(a)"
      ],
      "metadata": {
        "colab": {
          "base_uri": "https://localhost:8080/"
        },
        "id": "Xj0WczrZ5cWw",
        "outputId": "c08733ba-c144-4683-e7ab-ea912b95aa10"
      },
      "execution_count": 11,
      "outputs": [
        {
          "output_type": "stream",
          "name": "stdout",
          "text": [
            "even- 10\n",
            "even- 22\n",
            "even- 78\n"
          ]
        }
      ]
    },
    {
      "cell_type": "markdown",
      "source": [
        "**Sets**"
      ],
      "metadata": {
        "id": "4ZoMrgOH7c7Y"
      }
    },
    {
      "cell_type": "code",
      "source": [
        "#sets\n",
        "a = {10,13,15,19,22,45,78,51}\n",
        "for i in a:\n",
        "  if i %2==0:\n",
        "    print(\"even-\",i)"
      ],
      "metadata": {
        "colab": {
          "base_uri": "https://localhost:8080/"
        },
        "id": "qZM1-9F0619p",
        "outputId": "bf6eb7fd-1747-4780-f74f-b8a2621ccd90"
      },
      "execution_count": 17,
      "outputs": [
        {
          "output_type": "stream",
          "name": "stdout",
          "text": [
            "even- 10\n",
            "even- 78\n",
            "even- 22\n"
          ]
        }
      ]
    },
    {
      "cell_type": "code",
      "source": [
        "a={10,13,15,19,22,45,78,51}\n",
        "for i in a:\n",
        "  print(i)"
      ],
      "metadata": {
        "colab": {
          "base_uri": "https://localhost:8080/"
        },
        "id": "5zRf_5Vh7IR8",
        "outputId": "2bbab2f2-3d84-4693-8f5d-f79858b7569d"
      },
      "execution_count": 16,
      "outputs": [
        {
          "output_type": "stream",
          "name": "stdout",
          "text": [
            "10\n",
            "45\n",
            "13\n",
            "78\n",
            "15\n",
            "19\n",
            "51\n",
            "22\n"
          ]
        }
      ]
    },
    {
      "cell_type": "markdown",
      "source": [
        "**Dictionary**\n"
      ],
      "metadata": {
        "id": "byHfNDK2-Ezj"
      }
    },
    {
      "cell_type": "code",
      "source": [
        "a = {'python':100,'java':200,'ai':300}\n",
        "for i in a:\n",
        "  print(i)"
      ],
      "metadata": {
        "colab": {
          "base_uri": "https://localhost:8080/"
        },
        "id": "8URJSNcN8Euk",
        "outputId": "fc734437-36f8-4350-f8c2-096bbf8309e3"
      },
      "execution_count": 18,
      "outputs": [
        {
          "output_type": "stream",
          "name": "stdout",
          "text": [
            "python\n",
            "java\n",
            "ai\n"
          ]
        }
      ]
    },
    {
      "cell_type": "code",
      "source": [
        "a = {'python':100,'java':200,'ai':300}\n",
        "print(a.keys())"
      ],
      "metadata": {
        "id": "vcW23bNF-YH7",
        "outputId": "24f2f2a4-328e-4626-f59f-f78aa86ecadb",
        "colab": {
          "base_uri": "https://localhost:8080/"
        }
      },
      "execution_count": 20,
      "outputs": [
        {
          "output_type": "stream",
          "name": "stdout",
          "text": [
            "dict_keys(['python', 'java', 'ai'])\n"
          ]
        }
      ]
    },
    {
      "cell_type": "code",
      "source": [
        "print(a.values())"
      ],
      "metadata": {
        "id": "9hzuJ9M7-g6k",
        "outputId": "74ca813a-ceae-4e5d-e815-97c446d3f2b9",
        "colab": {
          "base_uri": "https://localhost:8080/"
        }
      },
      "execution_count": 21,
      "outputs": [
        {
          "output_type": "stream",
          "name": "stdout",
          "text": [
            "dict_values([100, 200, 300])\n"
          ]
        }
      ]
    },
    {
      "cell_type": "code",
      "source": [
        "print(a.items())"
      ],
      "metadata": {
        "id": "SAS_l3ki-mvR",
        "outputId": "6f6f0ef7-1eb7-4b46-e182-09b94d56b480",
        "colab": {
          "base_uri": "https://localhost:8080/"
        }
      },
      "execution_count": 22,
      "outputs": [
        {
          "output_type": "stream",
          "name": "stdout",
          "text": [
            "dict_items([('python', 100), ('java', 200), ('ai', 300)])\n"
          ]
        }
      ]
    },
    {
      "cell_type": "code",
      "source": [
        "a = {'python':100,'java':200,'ai':300}\n",
        "for i in a:\n",
        "  print(i, '----',a[i])"
      ],
      "metadata": {
        "id": "oQgUum58-o87",
        "outputId": "22196a94-5322-4973-a996-f59f906674af",
        "colab": {
          "base_uri": "https://localhost:8080/"
        }
      },
      "execution_count": 25,
      "outputs": [
        {
          "output_type": "stream",
          "name": "stdout",
          "text": [
            "python ---- 100\n",
            "java ---- 200\n",
            "ai ---- 300\n"
          ]
        }
      ]
    },
    {
      "cell_type": "code",
      "source": [
        "a = {'python':100,'java':200,'ai':300}\n",
        "print(a.items())\n",
        "print()\n",
        "\n",
        "for i,j in a.items():\n",
        "    print(i,\"-\", j)"
      ],
      "metadata": {
        "id": "oukIMhDL_Qe5",
        "outputId": "0a86c247-27c8-4844-eb32-517c0e703770",
        "colab": {
          "base_uri": "https://localhost:8080/"
        }
      },
      "execution_count": 34,
      "outputs": [
        {
          "output_type": "stream",
          "name": "stdout",
          "text": [
            "dict_items([('python', 100), ('java', 200), ('ai', 300)])\n",
            "\n",
            "python - 100\n",
            "java - 200\n",
            "ai - 300\n"
          ]
        }
      ]
    },
    {
      "cell_type": "code",
      "source": [
        "# Find the count of each charecter in 1 name\n",
        "#input-Dhana sri\n",
        "#o/p- {D:1,h:1,a:2,n:1, :1,s:1,r:1,i:1}\n",
        "# i want o/p in dict format so lets take some empty set\n",
        "\n",
        "d = {}\n",
        "a = 'Dhana sri'\n",
        "for i in a:\n",
        "  if i not in d:\n",
        "    d[i] = 1\n",
        "  else:\n",
        "    d[i]=d[i]+1\n",
        "print(d)"
      ],
      "metadata": {
        "id": "xo6-YmBMAFrV",
        "outputId": "9e024542-163f-4446-a114-4662666c4da8",
        "colab": {
          "base_uri": "https://localhost:8080/"
        }
      },
      "execution_count": 44,
      "outputs": [
        {
          "output_type": "stream",
          "name": "stdout",
          "text": [
            "{'D': 1, 'h': 1, 'a': 2, 'n': 1, ' ': 1, 's': 1, 'r': 1, 'i': 1}\n"
          ]
        }
      ]
    },
    {
      "cell_type": "code",
      "source": [
        "c = {}\n",
        "c['p']=10\n",
        "c['t']=100\n",
        "c"
      ],
      "metadata": {
        "id": "sCLsFt1jDNB0",
        "outputId": "fe4c34a3-bc20-4f56-dc8d-bc7bcb359b09",
        "colab": {
          "base_uri": "https://localhost:8080/"
        }
      },
      "execution_count": 47,
      "outputs": [
        {
          "output_type": "execute_result",
          "data": {
            "text/plain": [
              "{'p': 10, 't': 100}"
            ]
          },
          "metadata": {},
          "execution_count": 47
        }
      ]
    },
    {
      "cell_type": "code",
      "source": [
        "c['t']=500\n",
        "c"
      ],
      "metadata": {
        "id": "OILZVyb-Krg1",
        "outputId": "3fcbc3a7-db59-4b69-dc92-b4aebf8ec34e",
        "colab": {
          "base_uri": "https://localhost:8080/"
        }
      },
      "execution_count": 49,
      "outputs": [
        {
          "output_type": "execute_result",
          "data": {
            "text/plain": [
              "{'p': 10, 't': 500}"
            ]
          },
          "metadata": {},
          "execution_count": 49
        }
      ]
    },
    {
      "cell_type": "code",
      "source": [
        "a = 'team'\n",
        "d = {}\n",
        "def count_char(a):\n",
        "  for i in a:\n",
        "    if i not in d:\n",
        "      d[i] = 1\n",
        "    else:\n",
        "      d[i]=d[i]+1\n",
        "\n",
        "count_char(a)\n",
        "print(d)\n"
      ],
      "metadata": {
        "id": "wDdETJLfLfsv",
        "outputId": "386ed82c-1faa-4481-a91d-1f17896232de",
        "colab": {
          "base_uri": "https://localhost:8080/"
        }
      },
      "execution_count": 60,
      "outputs": [
        {
          "output_type": "stream",
          "name": "stdout",
          "text": [
            "{'t': 1, 'e': 1, 'a': 1, 'm': 1}\n"
          ]
        }
      ]
    },
    {
      "cell_type": "code",
      "source": [],
      "metadata": {
        "id": "MDskUKgaN0Of"
      },
      "execution_count": null,
      "outputs": []
    }
  ]
}