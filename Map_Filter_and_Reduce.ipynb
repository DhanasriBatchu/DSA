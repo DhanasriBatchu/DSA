{
  "nbformat": 4,
  "nbformat_minor": 0,
  "metadata": {
    "colab": {
      "provenance": [],
      "authorship_tag": "ABX9TyMjxquByI0SvldqtNSpLEGz",
      "include_colab_link": true
    },
    "kernelspec": {
      "name": "python3",
      "display_name": "Python 3"
    },
    "language_info": {
      "name": "python"
    }
  },
  "cells": [
    {
      "cell_type": "markdown",
      "metadata": {
        "id": "view-in-github",
        "colab_type": "text"
      },
      "source": [
        "<a href=\"https://colab.research.google.com/github/DhanasriBatchu/DSA/blob/main/Map_Filter_and_Reduce.ipynb\" target=\"_parent\"><img src=\"https://colab.research.google.com/assets/colab-badge.svg\" alt=\"Open In Colab\"/></a>"
      ]
    },
    {
      "cell_type": "markdown",
      "source": [
        "** Map,Filter,Reduce **\n",
        "- map,filter,reduce concepts are used to excecute a functionif a function accepts a loop using map,filter we can take controll over loops.\n",
        "- map, filter advantages\n",
        "     - less no of lines of code\n",
        "     - fast excecution\n",
        "- syntax- remove memory space : (fun,iterables)"
      ],
      "metadata": {
        "id": "F_IpAGermt_z"
      }
    },
    {
      "cell_type": "code",
      "execution_count": null,
      "metadata": {
        "colab": {
          "base_uri": "https://localhost:8080/"
        },
        "id": "EAlA69fdmdaR",
        "outputId": "ef6406b1-a69c-4c90-eada-285b9edcd688"
      },
      "outputs": [
        {
          "output_type": "stream",
          "name": "stdout",
          "text": [
            "odd: 21\n",
            "None\n",
            "even: 22\n",
            "None\n",
            "odd: 23\n",
            "None\n",
            "even: 24\n",
            "None\n",
            "odd: 25\n",
            "None\n",
            "even: 26\n",
            "None\n",
            "odd: 27\n",
            "None\n",
            "even: 28\n",
            "None\n",
            "odd: 29\n",
            "None\n",
            "even: 30\n",
            "None\n"
          ]
        }
      ],
      "source": [
        "#using functions from value 21 to 31 find even,odd values\n",
        "\n",
        "def fun(a):\n",
        "  if a%2==0:\n",
        "    print(\"even:\",a)\n",
        "  else:\n",
        "    print(\"odd:\",a)\n",
        "for i in range(21,31):\n",
        "  res = fun(i)\n",
        "  print(res)"
      ]
    },
    {
      "cell_type": "code",
      "source": [
        "def fun(a):\n",
        "  if a%2==0:\n",
        "    return \"even:\",a\n",
        "  else:\n",
        "    return \"odd:\",a\n",
        "for i in range(21,31):\n",
        "  res = fun(i)\n",
        "  print(res)"
      ],
      "metadata": {
        "colab": {
          "base_uri": "https://localhost:8080/"
        },
        "id": "uSgzK6G5pX1j",
        "outputId": "d287da75-8e3a-46ae-af59-2d64697be1ec"
      },
      "execution_count": null,
      "outputs": [
        {
          "output_type": "stream",
          "name": "stdout",
          "text": [
            "('odd:', 21)\n",
            "('even:', 22)\n",
            "('odd:', 23)\n",
            "('even:', 24)\n",
            "('odd:', 25)\n",
            "('even:', 26)\n",
            "('odd:', 27)\n",
            "('even:', 28)\n",
            "('odd:', 29)\n",
            "('even:', 30)\n"
          ]
        }
      ]
    },
    {
      "cell_type": "code",
      "source": [
        "def even_odd(num):\n",
        "    if num%2==0:\n",
        "        return \" {} is even\".format(num)\n",
        "    else:\n",
        "        return \" {} is odd\".format(num)\n",
        "for i in map(even_odd,range(21,31)):\n",
        "    print(i)"
      ],
      "metadata": {
        "colab": {
          "base_uri": "https://localhost:8080/"
        },
        "id": "yfB23WLwqlhB",
        "outputId": "df6c89d8-96fa-4a16-b059-7a4b04c454d3"
      },
      "execution_count": null,
      "outputs": [
        {
          "output_type": "stream",
          "name": "stdout",
          "text": [
            " 21 is odd\n",
            " 22 is even\n",
            " 23 is odd\n",
            " 24 is even\n",
            " 25 is odd\n",
            " 26 is even\n",
            " 27 is odd\n",
            " 28 is even\n",
            " 29 is odd\n",
            " 30 is even\n"
          ]
        }
      ]
    },
    {
      "cell_type": "code",
      "source": [
        "def even_odd(num):\n",
        "    if num%2==0:\n",
        "        print(\"even:\",a)\n",
        "    else:\n",
        "       print(\"odd:\",a)\n",
        "b = [21,22,23,24,25,26,27,28,29,30]\n",
        "sol = map(even_odd,b)\n",
        "print(sol)\n"
      ],
      "metadata": {
        "colab": {
          "base_uri": "https://localhost:8080/"
        },
        "id": "zZgu3IDQqx39",
        "outputId": "bc9d28d5-be73-4d02-c769-4f781c53fc18"
      },
      "execution_count": null,
      "outputs": [
        {
          "output_type": "stream",
          "name": "stdout",
          "text": [
            "<map object at 0x7f06ea6cee60>\n"
          ]
        }
      ]
    },
    {
      "cell_type": "code",
      "source": [
        "def fun(a):\n",
        "    if a%2==0:\n",
        "        print(\"even:\",a)\n",
        "    else:\n",
        "       print(\"odd:\",a)\n",
        "b = [21,22,23,24,25,26,27,28,29,30]\n",
        "sol=list(map(fun,b))\n",
        "print(sol)"
      ],
      "metadata": {
        "colab": {
          "base_uri": "https://localhost:8080/"
        },
        "id": "9ONksfXsrQas",
        "outputId": "449d84ab-f9d9-4f54-e567-0fc13d4c7bd6"
      },
      "execution_count": null,
      "outputs": [
        {
          "output_type": "stream",
          "name": "stdout",
          "text": [
            "odd: 21\n",
            "even: 22\n",
            "odd: 23\n",
            "even: 24\n",
            "odd: 25\n",
            "even: 26\n",
            "odd: 27\n",
            "even: 28\n",
            "odd: 29\n",
            "even: 30\n",
            "[None, None, None, None, None, None, None, None, None, None]\n"
          ]
        }
      ]
    },
    {
      "cell_type": "code",
      "source": [
        "def fun(a):\n",
        "    if a%2==0:\n",
        "        print(\"even:\",a)\n",
        "    else:\n",
        "       print(\"odd:\",a)\n",
        "b = [21,22,23,24,25,26,27,28,29,30]\n",
        "sol=list(map(fun,b))"
      ],
      "metadata": {
        "colab": {
          "base_uri": "https://localhost:8080/"
        },
        "id": "NyEvI1gCrxQA",
        "outputId": "14626724-aa6e-452a-c73b-dd2d8ed47d2d"
      },
      "execution_count": null,
      "outputs": [
        {
          "output_type": "stream",
          "name": "stdout",
          "text": [
            "odd: 21\n",
            "even: 22\n",
            "odd: 23\n",
            "even: 24\n",
            "odd: 25\n",
            "even: 26\n",
            "odd: 27\n",
            "even: 28\n",
            "odd: 29\n",
            "even: 30\n"
          ]
        }
      ]
    },
    {
      "cell_type": "code",
      "source": [
        "# we normally use return for any unwanted none or some thing\n",
        "\n",
        "def fun(a):\n",
        "  if a%2==0:\n",
        "    return \"even:\",a\n",
        "  else:\n",
        "    return \"odd:\",a\n",
        "b = [21,22,23,24,25,26,27,28,29,30]\n",
        "sol = list(map(fun,b))\n",
        "print(sol)"
      ],
      "metadata": {
        "colab": {
          "base_uri": "https://localhost:8080/"
        },
        "id": "GyWkGQxesoUm",
        "outputId": "ee415d32-d423-46e1-f90f-1cb05c53983a"
      },
      "execution_count": null,
      "outputs": [
        {
          "output_type": "stream",
          "name": "stdout",
          "text": [
            "[('odd:', 21), ('even:', 22), ('odd:', 23), ('even:', 24), ('odd:', 25), ('even:', 26), ('odd:', 27), ('even:', 28), ('odd:', 29), ('even:', 30)]\n"
          ]
        }
      ]
    },
    {
      "cell_type": "code",
      "source": [
        "\n",
        "def fun(a):\n",
        "  if a%2==0:\n",
        "    return \"even:\",a\n",
        "  else:\n",
        "    return \"odd:\",a\n",
        "b = [21,22,23,24,25,26,27,28,29,30]\n",
        "sol = list(map(fun,b))"
      ],
      "metadata": {
        "id": "Bs4IMmJHtHPX"
      },
      "execution_count": null,
      "outputs": []
    },
    {
      "cell_type": "code",
      "source": [],
      "metadata": {
        "id": "WuiaepDCtMgJ"
      },
      "execution_count": null,
      "outputs": []
    }
  ]
}