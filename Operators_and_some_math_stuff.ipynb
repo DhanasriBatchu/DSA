{
  "nbformat": 4,
  "nbformat_minor": 0,
  "metadata": {
    "colab": {
      "provenance": [],
      "authorship_tag": "ABX9TyPAadTzsBHEAsgZG+IDGU4/",
      "include_colab_link": true
    },
    "kernelspec": {
      "name": "python3",
      "display_name": "Python 3"
    },
    "language_info": {
      "name": "python"
    }
  },
  "cells": [
    {
      "cell_type": "markdown",
      "metadata": {
        "id": "view-in-github",
        "colab_type": "text"
      },
      "source": [
        "<a href=\"https://colab.research.google.com/github/DhanasriBatchu/DSA/blob/main/Operators_and_some_math_stuff.ipynb\" target=\"_parent\"><img src=\"https://colab.research.google.com/assets/colab-badge.svg\" alt=\"Open In Colab\"/></a>"
      ]
    },
    {
      "cell_type": "markdown",
      "source": [
        "**1. Arithmetic Operators**\n",
        "-Used for mathematical operations:\n",
        "\n",
        "  - + : Addition (a + b)\n",
        "  - - : Subtraction (a - b)\n",
        "  - * : Multiplication (a * b)\n",
        "  - / : Division (a / b)\n",
        "  - % : Modulus (remainder) (a % b)\n",
        "  - ** : Exponentiation (a ** b)\n",
        "  - // : Floor Division (a // b)\n",
        "\n",
        "**2. Comparison (Relational) Operators**\n",
        "- Used to compare two values:\n",
        "\n",
        "  - == : Equal to (a == b)\n",
        "  - != : Not equal to (a != b)\n",
        "  - > : Greater than (a > b)\n",
        "  - < : Less than (a < b)\n",
        "  - >= : Greater than or equal to (a >= b)\n",
        "  - <= : Less than or equal to (a <= b)\n",
        "\n",
        "\n",
        "**5. Assignment Operators**\n",
        "-Used to assign values to variables:\n",
        "\n",
        "  - = : Assign (a = b)\n",
        "  - += : Add and assign (a += b)\n",
        "  - -= : Subtract and assign (a -= b)\n",
        "  - *= : Multiply and assign (a *= b)\n",
        "  - /= : Divide and assign (a /= b)\n",
        "  - %= : Modulus and assign (a %= b)\n",
        "  - **= : Exponentiation and assign (a **= b)\n",
        "  - //= : Floor division and assign (a //= b)\n",
        "  - &=, |=, ^=, <<=, >>= : Bitwise operations and assign\n"
      ],
      "metadata": {
        "id": "-k0HGg1TREeN"
      }
    },
    {
      "cell_type": "code",
      "source": [
        "#Addition(+)\n",
        "a=10\n",
        "b=20\n",
        "print(a+b)"
      ],
      "metadata": {
        "colab": {
          "base_uri": "https://localhost:8080/"
        },
        "id": "ulu_9NhvRDyS",
        "outputId": "38493fa0-8ee4-46eb-a9ce-6f7adcdd4a29"
      },
      "execution_count": null,
      "outputs": [
        {
          "output_type": "stream",
          "name": "stdout",
          "text": [
            "30\n"
          ]
        }
      ]
    },
    {
      "cell_type": "code",
      "execution_count": null,
      "metadata": {
        "colab": {
          "base_uri": "https://localhost:8080/"
        },
        "id": "jizEFroqP99x",
        "outputId": "142ddb65-2b7d-4734-bb97-eac701036de0"
      },
      "outputs": [
        {
          "output_type": "stream",
          "name": "stdout",
          "text": [
            "-10\n"
          ]
        }
      ],
      "source": [
        "#Subtraction(-)\n",
        "a=10\n",
        "b=20\n",
        "print(a-b)"
      ]
    },
    {
      "cell_type": "code",
      "source": [
        "#multiplication(*)\n",
        "a=10\n",
        "b=20\n",
        "print(a*b)"
      ],
      "metadata": {
        "colab": {
          "base_uri": "https://localhost:8080/"
        },
        "id": "l_MLSg_mSQA1",
        "outputId": "15ac3f9d-e2ac-42dd-dc02-8ec18416021d"
      },
      "execution_count": null,
      "outputs": [
        {
          "output_type": "stream",
          "name": "stdout",
          "text": [
            "200\n"
          ]
        }
      ]
    },
    {
      "cell_type": "markdown",
      "source": [
        "40)20(0.5\n",
        "*  00\n",
        "---\n",
        "*  200\n",
        "*  200\n",
        "---\n",
        "-  0\n",
        "\n",
        "\n",
        "\n",
        "\n",
        "\n",
        "   "
      ],
      "metadata": {
        "id": "8FZSwszjS49X"
      }
    },
    {
      "cell_type": "code",
      "source": [
        "#Division\n",
        "a=10\n",
        "b=30\n",
        "print(a/b)"
      ],
      "metadata": {
        "colab": {
          "base_uri": "https://localhost:8080/"
        },
        "id": "fs29p9Eef_G_",
        "outputId": "9a0bb29a-944c-4512-f8c7-712215afb851"
      },
      "execution_count": null,
      "outputs": [
        {
          "output_type": "stream",
          "name": "stdout",
          "text": [
            "0.3333333333333333\n"
          ]
        }
      ]
    },
    {
      "cell_type": "code",
      "source": [
        "#Division\n",
        "a=20\n",
        "b=40\n",
        "print(a/b)"
      ],
      "metadata": {
        "colab": {
          "base_uri": "https://localhost:8080/"
        },
        "id": "gkRjEFrNSfcC",
        "outputId": "1ff6992c-dc02-4c9a-f895-a654b923dda0"
      },
      "execution_count": null,
      "outputs": [
        {
          "output_type": "stream",
          "name": "stdout",
          "text": [
            "0.5\n"
          ]
        }
      ]
    },
    {
      "cell_type": "code",
      "source": [
        "#Floor Division(//)  #Division which will not accept decimal after\n",
        "a=20\n",
        "b=40\n",
        "print(a//b)"
      ],
      "metadata": {
        "colab": {
          "base_uri": "https://localhost:8080/"
        },
        "id": "FrB-bq7SSj4O",
        "outputId": "38c02ebf-ade8-402a-cf00-7daed57b88a0"
      },
      "execution_count": null,
      "outputs": [
        {
          "output_type": "stream",
          "name": "stdout",
          "text": [
            "0\n"
          ]
        }
      ]
    },
    {
      "cell_type": "code",
      "source": [
        "#Floor Division(//)\n",
        "a=20\n",
        "b=40\n",
        "print(a//b)"
      ],
      "metadata": {
        "colab": {
          "base_uri": "https://localhost:8080/"
        },
        "id": "zaHLKEnoeACj",
        "outputId": "d759b6e6-7f53-4bf9-ea4d-18b1cfc30820"
      },
      "execution_count": null,
      "outputs": [
        {
          "output_type": "stream",
          "name": "stdout",
          "text": [
            "0\n"
          ]
        }
      ]
    },
    {
      "cell_type": "markdown",
      "source": [
        "20)40(20\n",
        "*  40\n",
        "---\n",
        "*  0\n",
        "\n"
      ],
      "metadata": {
        "id": "2WDn5BOChjiG"
      }
    },
    {
      "cell_type": "code",
      "source": [
        "#Modulus(%)\n",
        "a=10\n",
        "b=5\n",
        "print(a%b)"
      ],
      "metadata": {
        "colab": {
          "base_uri": "https://localhost:8080/"
        },
        "id": "HzzFgB2ZSsO5",
        "outputId": "d52bf64a-d0db-440e-f4ce-4024d00b2c29"
      },
      "execution_count": null,
      "outputs": [
        {
          "output_type": "stream",
          "name": "stdout",
          "text": [
            "0\n"
          ]
        }
      ]
    },
    {
      "cell_type": "code",
      "source": [
        "#Modulus(%)\n",
        "a=12\n",
        "b=5\n",
        "print(a%b)"
      ],
      "metadata": {
        "colab": {
          "base_uri": "https://localhost:8080/"
        },
        "id": "K-KpQYKDg-hA",
        "outputId": "aa306c3c-fd39-409b-b617-54563c0afd7f"
      },
      "execution_count": null,
      "outputs": [
        {
          "output_type": "stream",
          "name": "stdout",
          "text": [
            "2\n"
          ]
        }
      ]
    },
    {
      "cell_type": "code",
      "source": [
        "#difference b/w = and ==\n",
        "a=50            #Assaining the right value to left\n",
        "print(a)\n",
        "a=50\n",
        "b=50\n",
        "print(a==b)      #checks weather is it equal or not\n",
        "b=40\n",
        "print(a==b)"
      ],
      "metadata": {
        "colab": {
          "base_uri": "https://localhost:8080/"
        },
        "id": "Nq_4BzgQpnpY",
        "outputId": "89350072-2c25-4652-a1f6-8dd930fd32c4"
      },
      "execution_count": null,
      "outputs": [
        {
          "output_type": "stream",
          "name": "stdout",
          "text": [
            "50\n",
            "True\n",
            "False\n"
          ]
        }
      ]
    },
    {
      "cell_type": "code",
      "source": [
        "# Grater than(>)\n",
        "a=50\n",
        "b=100\n",
        "print(b>a)"
      ],
      "metadata": {
        "colab": {
          "base_uri": "https://localhost:8080/"
        },
        "id": "l9U6wjMWqWxL",
        "outputId": "88cf189b-a8ea-43ac-e792-9cabc5345311"
      },
      "execution_count": null,
      "outputs": [
        {
          "output_type": "stream",
          "name": "stdout",
          "text": [
            "True\n"
          ]
        }
      ]
    },
    {
      "cell_type": "code",
      "source": [
        "# Less than(<)\n",
        "a=50\n",
        "b=100\n",
        "print(b<a)"
      ],
      "metadata": {
        "colab": {
          "base_uri": "https://localhost:8080/"
        },
        "id": "F_nxgBtGrmUe",
        "outputId": "08951c1c-c365-4c02-99f8-63c2d44be393"
      },
      "execution_count": null,
      "outputs": [
        {
          "output_type": "stream",
          "name": "stdout",
          "text": [
            "False\n"
          ]
        }
      ]
    },
    {
      "cell_type": "code",
      "source": [
        "# grater than equal to(>=)\n",
        "a=50\n",
        "b=100\n",
        "print(b>=a)"
      ],
      "metadata": {
        "colab": {
          "base_uri": "https://localhost:8080/"
        },
        "id": "ffcJMxmqrvrl",
        "outputId": "8424751d-2860-4031-ba21-b310e7af061a"
      },
      "execution_count": null,
      "outputs": [
        {
          "output_type": "stream",
          "name": "stdout",
          "text": [
            "True\n"
          ]
        }
      ]
    },
    {
      "cell_type": "code",
      "source": [
        "# less than equal to(<=)\n",
        "a=50\n",
        "b=100\n",
        "print(b<=a)"
      ],
      "metadata": {
        "colab": {
          "base_uri": "https://localhost:8080/"
        },
        "id": "pI1NE9VPscDB",
        "outputId": "b6793f05-b767-4787-e66d-5c16ef163e9f"
      },
      "execution_count": null,
      "outputs": [
        {
          "output_type": "stream",
          "name": "stdout",
          "text": [
            "False\n"
          ]
        }
      ]
    },
    {
      "cell_type": "markdown",
      "source": [
        "**POW**\n",
        "- pow function accepts 2 parameters and also 3 if required"
      ],
      "metadata": {
        "id": "st-XIlVPtYHg"
      }
    },
    {
      "cell_type": "code",
      "source": [
        "2*12*8"
      ],
      "metadata": {
        "colab": {
          "base_uri": "https://localhost:8080/"
        },
        "id": "h8niPzmUsmMU",
        "outputId": "ce70ea37-4abb-4ea6-b022-42ca2e52cd15"
      },
      "execution_count": null,
      "outputs": [
        {
          "output_type": "execute_result",
          "data": {
            "text/plain": [
              "96"
            ]
          },
          "metadata": {},
          "execution_count": 32
        }
      ]
    },
    {
      "cell_type": "code",
      "source": [
        "2**3"
      ],
      "metadata": {
        "colab": {
          "base_uri": "https://localhost:8080/"
        },
        "id": "7HceT9qltdbt",
        "outputId": "97304e0a-c7ee-45e2-f626-070ac888b7bf"
      },
      "execution_count": null,
      "outputs": [
        {
          "output_type": "execute_result",
          "data": {
            "text/plain": [
              "8"
            ]
          },
          "metadata": {},
          "execution_count": 35
        }
      ]
    },
    {
      "cell_type": "code",
      "source": [
        "pow(2,5)"
      ],
      "metadata": {
        "colab": {
          "base_uri": "https://localhost:8080/"
        },
        "id": "1-erRCtdtg9f",
        "outputId": "0d9c7496-1ace-449e-f62c-c41228d3f466"
      },
      "execution_count": null,
      "outputs": [
        {
          "output_type": "execute_result",
          "data": {
            "text/plain": [
              "32"
            ]
          },
          "metadata": {},
          "execution_count": 37
        }
      ]
    },
    {
      "cell_type": "markdown",
      "source": [],
      "metadata": {
        "id": "PmVeXaddu-no"
      }
    },
    {
      "cell_type": "code",
      "source": [
        "pow(2,5,6)   #1st 2 power and result will be in modular"
      ],
      "metadata": {
        "colab": {
          "base_uri": "https://localhost:8080/"
        },
        "id": "fTdkswLkto20",
        "outputId": "daa643a6-7ae9-46b6-e65d-18ad265c9940"
      },
      "execution_count": null,
      "outputs": [
        {
          "output_type": "execute_result",
          "data": {
            "text/plain": [
              "2"
            ]
          },
          "metadata": {},
          "execution_count": 38
        }
      ]
    },
    {
      "cell_type": "markdown",
      "source": [
        "6)32(6\n",
        "*  30\n",
        "---\n",
        "* (2)==ans\n",
        "\n",
        "\n",
        "-  2*2*2*2*2=32"
      ],
      "metadata": {
        "id": "5_iy0M8TvC_j"
      }
    },
    {
      "cell_type": "code",
      "source": [
        "import math"
      ],
      "metadata": {
        "id": "nhdY9SSPtwbn"
      },
      "execution_count": null,
      "outputs": []
    },
    {
      "cell_type": "code",
      "source": [
        "math.factorial(5)"
      ],
      "metadata": {
        "colab": {
          "base_uri": "https://localhost:8080/"
        },
        "id": "cfLPm9dOwG-T",
        "outputId": "9d5df4ae-cafc-4e7a-9247-67826f6c649c"
      },
      "execution_count": null,
      "outputs": [
        {
          "output_type": "execute_result",
          "data": {
            "text/plain": [
              "120"
            ]
          },
          "metadata": {},
          "execution_count": 41
        }
      ]
    },
    {
      "cell_type": "code",
      "source": [
        "math.pow(5,2)"
      ],
      "metadata": {
        "colab": {
          "base_uri": "https://localhost:8080/"
        },
        "id": "em1YDuECwQjd",
        "outputId": "47cd25f1-6fb6-4470-bd6b-61e298112f6c"
      },
      "execution_count": null,
      "outputs": [
        {
          "output_type": "execute_result",
          "data": {
            "text/plain": [
              "25.0"
            ]
          },
          "metadata": {},
          "execution_count": 43
        }
      ]
    },
    {
      "cell_type": "code",
      "source": [
        "2*10"
      ],
      "metadata": {
        "colab": {
          "base_uri": "https://localhost:8080/"
        },
        "id": "OzE8zWMawX69",
        "outputId": "91c104f4-c80c-452b-de87-77ddafadaeb7"
      },
      "execution_count": null,
      "outputs": [
        {
          "output_type": "execute_result",
          "data": {
            "text/plain": [
              "20"
            ]
          },
          "metadata": {},
          "execution_count": 44
        }
      ]
    },
    {
      "cell_type": "code",
      "source": [
        "\"2\"*5"
      ],
      "metadata": {
        "colab": {
          "base_uri": "https://localhost:8080/",
          "height": 35
        },
        "id": "KHqeB712wfWC",
        "outputId": "a1bfecc8-5b8a-4508-b6a1-0117239f3afe"
      },
      "execution_count": null,
      "outputs": [
        {
          "output_type": "execute_result",
          "data": {
            "text/plain": [
              "'22222'"
            ],
            "application/vnd.google.colaboratory.intrinsic+json": {
              "type": "string"
            }
          },
          "metadata": {},
          "execution_count": 45
        }
      ]
    },
    {
      "cell_type": "code",
      "source": [
        "\"python \"*10"
      ],
      "metadata": {
        "colab": {
          "base_uri": "https://localhost:8080/",
          "height": 35
        },
        "id": "PJED_zM0wjt0",
        "outputId": "7984104a-fe63-477b-9bf6-a65939821abb"
      },
      "execution_count": null,
      "outputs": [
        {
          "output_type": "execute_result",
          "data": {
            "text/plain": [
              "'python python python python python python python python python python '"
            ],
            "application/vnd.google.colaboratory.intrinsic+json": {
              "type": "string"
            }
          },
          "metadata": {},
          "execution_count": 46
        }
      ]
    },
    {
      "cell_type": "markdown",
      "source": [
        "**PRECISION WIDTH AND FIELD WIDTH**"
      ],
      "metadata": {
        "id": "uEYjgbU-wuyK"
      }
    },
    {
      "cell_type": "code",
      "source": [
        "pie=22/7"
      ],
      "metadata": {
        "id": "HDdZtoBBThY4"
      },
      "execution_count": 6,
      "outputs": []
    },
    {
      "cell_type": "code",
      "source": [
        "pie = 22/7\n",
        "print(pie)"
      ],
      "metadata": {
        "colab": {
          "base_uri": "https://localhost:8080/"
        },
        "id": "QGOjyATfw1Gt",
        "outputId": "bcd9b0b7-9bc5-43e6-b841-ebb221047ca7"
      },
      "execution_count": null,
      "outputs": [
        {
          "output_type": "stream",
          "name": "stdout",
          "text": [
            "3.142857142857143\n"
          ]
        }
      ]
    },
    {
      "cell_type": "code",
      "source": [
        "#Default it will accept 6 decimal values\n",
        "print(\"The value is %f\" %pie)"
      ],
      "metadata": {
        "colab": {
          "base_uri": "https://localhost:8080/"
        },
        "id": "oFTP8YATw5QG",
        "outputId": "fdfa8a0c-305c-4099-f2ca-3bb9cf10af14"
      },
      "execution_count": 8,
      "outputs": [
        {
          "output_type": "stream",
          "name": "stdout",
          "text": [
            "The value is 3.142857\n"
          ]
        }
      ]
    },
    {
      "cell_type": "code",
      "source": [
        "# it will accept 3 decimal values\n",
        "print(\"The value is %.3f\" %pie)"
      ],
      "metadata": {
        "id": "E4AI23q8xr6Z",
        "colab": {
          "base_uri": "https://localhost:8080/"
        },
        "outputId": "70d3a3e1-f571-4573-bf23-60f2ab72a7c6"
      },
      "execution_count": 12,
      "outputs": [
        {
          "output_type": "stream",
          "name": "stdout",
          "text": [
            "The value is 3.143\n"
          ]
        }
      ]
    },
    {
      "cell_type": "code",
      "source": [
        "# it will accept 1 decimal values\n",
        "print(\"The value is %.1f\" %pie)"
      ],
      "metadata": {
        "colab": {
          "base_uri": "https://localhost:8080/"
        },
        "id": "oVCxggWaT6_C",
        "outputId": "ad36056b-1052-45fb-bda8-ae41f10650a1"
      },
      "execution_count": 10,
      "outputs": [
        {
          "output_type": "stream",
          "name": "stdout",
          "text": [
            "The value is 3.1\n"
          ]
        }
      ]
    }
  ]
}