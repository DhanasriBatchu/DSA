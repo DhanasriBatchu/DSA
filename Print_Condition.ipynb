{
  "nbformat": 4,
  "nbformat_minor": 0,
  "metadata": {
    "colab": {
      "provenance": [],
      "authorship_tag": "ABX9TyOIoKEbpeJx6AIA7oc2+Z/U",
      "include_colab_link": true
    },
    "kernelspec": {
      "name": "python3",
      "display_name": "Python 3"
    },
    "language_info": {
      "name": "python"
    }
  },
  "cells": [
    {
      "cell_type": "markdown",
      "metadata": {
        "id": "view-in-github",
        "colab_type": "text"
      },
      "source": [
        "<a href=\"https://colab.research.google.com/github/DhanasriBatchu/DSA/blob/main/Print_Condition.ipynb\" target=\"_parent\"><img src=\"https://colab.research.google.com/assets/colab-badge.svg\" alt=\"Open In Colab\"/></a>"
      ]
    },
    {
      "cell_type": "markdown",
      "source": [
        "**Print condition**\n"
      ],
      "metadata": {
        "id": "T9naSKPuJKXA"
      }
    },
    {
      "cell_type": "code",
      "execution_count": null,
      "metadata": {
        "colab": {
          "base_uri": "https://localhost:8080/"
        },
        "id": "TjgB9v5kI3XO",
        "outputId": "9c67b409-18c1-482d-e287-a0f5745608d8"
      },
      "outputs": [
        {
          "output_type": "stream",
          "name": "stdout",
          "text": [
            "Python is power full\n"
          ]
        }
      ],
      "source": [
        "#Single code\n",
        "\n",
        "print('Python is power full')\n"
      ]
    },
    {
      "cell_type": "code",
      "source": [
        "#Double code\n",
        "\n",
        "print(\"Python is power full\")"
      ],
      "metadata": {
        "colab": {
          "base_uri": "https://localhost:8080/"
        },
        "id": "92Je4YdQJxgD",
        "outputId": "213ea66b-5467-44a3-c2ed-f8126457176b"
      },
      "execution_count": null,
      "outputs": [
        {
          "output_type": "stream",
          "name": "stdout",
          "text": [
            "Python is power full\n"
          ]
        }
      ]
    },
    {
      "cell_type": "code",
      "source": [
        "#Triple code (double code)  -Huge text\n",
        "\n",
        "print(\"\"\"i am some one who is very joyfull\n",
        "and smootest person\n",
        "so many of them are in danger..\"\"\")"
      ],
      "metadata": {
        "colab": {
          "base_uri": "https://localhost:8080/"
        },
        "id": "bndD0luqJ47H",
        "outputId": "671d3cba-1732-48df-eb2b-d4724283d51c"
      },
      "execution_count": null,
      "outputs": [
        {
          "output_type": "stream",
          "name": "stdout",
          "text": [
            "i am some one who is very joyfull\n",
            "and smootest person\n",
            "so many of them are in danger..\n"
          ]
        }
      ]
    },
    {
      "cell_type": "code",
      "source": [
        "#Triple code -Huge text\n",
        "\n",
        "print(\"\"\"i am some one who is very joyfull.\"\"\")"
      ],
      "metadata": {
        "colab": {
          "base_uri": "https://localhost:8080/"
        },
        "id": "7dp-aTguMXJ9",
        "outputId": "a01738b1-7ead-40f8-d0ba-21909b9510ea"
      },
      "execution_count": null,
      "outputs": [
        {
          "output_type": "stream",
          "name": "stdout",
          "text": [
            "i am some one who is very joyfull.\n"
          ]
        }
      ]
    },
    {
      "cell_type": "code",
      "source": [
        "#Triple code (double code)  -Huge text\n",
        "\n",
        "print(\"\"\"\n",
        "i am some one who is very joyfull\n",
        "and smootest person\n",
        "\n",
        "so many of them are in danger.\n",
        "\"\"\")"
      ],
      "metadata": {
        "colab": {
          "base_uri": "https://localhost:8080/"
        },
        "id": "ul71k19hKIxy",
        "outputId": "dec16f7d-65d3-4e16-d0c6-8a794f39aef0"
      },
      "execution_count": null,
      "outputs": [
        {
          "output_type": "stream",
          "name": "stdout",
          "text": [
            "\n",
            "i am some one who is very joyfull\n",
            "and smootest person\n",
            "\n",
            "so many of them are in danger.\n",
            "\n"
          ]
        }
      ]
    },
    {
      "cell_type": "markdown",
      "source": [
        "**Print condition**\n",
        "- adding print condition\n",
        "-- *(,) comma\n",
        "-- *(+) plus\n",
        "-- *(%) percentile\n"
      ],
      "metadata": {
        "id": "pgwSUTysNiHN"
      }
    },
    {
      "cell_type": "markdown",
      "source": [
        "**( , )operator\n",
        "- it is used to add space by comma operator\n",
        "\n",
        "- and it can add the next word\n",
        "- in this we used  \n",
        "      - *int\n",
        "      - *float\n",
        "      - *str"
      ],
      "metadata": {
        "id": "ZvlnsulASB-B"
      }
    },
    {
      "cell_type": "code",
      "source": [
        "Age = 20\n",
        "print(\"Myname is Dhanu my age is\",Age)\n"
      ],
      "metadata": {
        "colab": {
          "base_uri": "https://localhost:8080/"
        },
        "id": "trauhMtiL4DU",
        "outputId": "d41cbecc-f806-41c9-9ac2-e801597118c1"
      },
      "execution_count": null,
      "outputs": [
        {
          "output_type": "stream",
          "name": "stdout",
          "text": [
            "Myname is Dhanu my age is 20\n"
          ]
        }
      ]
    },
    {
      "cell_type": "code",
      "source": [
        "Age=20\n",
        "course= \"python\"\n",
        "amount=0\n",
        "print(\"My age is\",Age,\"i am learning\",course,\"amount is\",amount)"
      ],
      "metadata": {
        "colab": {
          "base_uri": "https://localhost:8080/"
        },
        "id": "DGv_k9SKO8di",
        "outputId": "16dea401-8171-422b-874a-0e0dbcd9ebc7"
      },
      "execution_count": null,
      "outputs": [
        {
          "output_type": "stream",
          "name": "stdout",
          "text": [
            "My age is 20 i am learning python amount is 0\n"
          ]
        }
      ]
    },
    {
      "cell_type": "markdown",
      "source": [
        "**( + )operator       \n",
        "**rule1**\n",
        "- every variable is in str format\n",
        "- it is just used to add\n",
        "- it is not going to provide space\n",
        "        - *str"
      ],
      "metadata": {
        "id": "5aYiKaGUSp-A"
      }
    },
    {
      "cell_type": "code",
      "source": [
        "a='python'\n",
        "print(\"I am learning\"+a)"
      ],
      "metadata": {
        "id": "JQsCVKy3Prv4",
        "colab": {
          "base_uri": "https://localhost:8080/"
        },
        "outputId": "f5da3e25-1e28-40d0-ea1f-9e7af03ed0ce"
      },
      "execution_count": 2,
      "outputs": [
        {
          "output_type": "stream",
          "name": "stdout",
          "text": [
            "I am learningpython\n"
          ]
        }
      ]
    },
    {
      "cell_type": "code",
      "source": [
        "a='python'\n",
        "print(\"I am learning \"+a)  #we can give the space after learning"
      ],
      "metadata": {
        "colab": {
          "base_uri": "https://localhost:8080/"
        },
        "id": "QnrdYF06Ap6O",
        "outputId": "8cb6667e-73f8-4a4b-8467-b36fdc72a992"
      },
      "execution_count": 3,
      "outputs": [
        {
          "output_type": "stream",
          "name": "stdout",
          "text": [
            "I am learning python\n"
          ]
        }
      ]
    },
    {
      "cell_type": "code",
      "source": [
        "a='python'\n",
        "print(\"I am learning\"+\" \"+a)  # we can take using personalised space"
      ],
      "metadata": {
        "colab": {
          "base_uri": "https://localhost:8080/"
        },
        "id": "y6FAELwZBDVp",
        "outputId": "250e929b-40f9-43d6-8abb-a05a36e19d25"
      },
      "execution_count": 5,
      "outputs": [
        {
          "output_type": "stream",
          "name": "stdout",
          "text": [
            "I am learning python\n"
          ]
        }
      ]
    },
    {
      "cell_type": "code",
      "source": [
        "age=20  # it can not add an intiger with a string\n",
        "print(\"My age is\"+age)"
      ],
      "metadata": {
        "colab": {
          "base_uri": "https://localhost:8080/",
          "height": 158
        },
        "id": "0HUBMyJVBVVy",
        "outputId": "0d72139e-7a4e-4f6b-d12b-63619981cdcd"
      },
      "execution_count": 8,
      "outputs": [
        {
          "output_type": "error",
          "ename": "TypeError",
          "evalue": "can only concatenate str (not \"int\") to str",
          "traceback": [
            "\u001b[0;31m---------------------------------------------------------------------------\u001b[0m",
            "\u001b[0;31mTypeError\u001b[0m                                 Traceback (most recent call last)",
            "\u001b[0;32m/tmp/ipython-input-8-950950800.py\u001b[0m in \u001b[0;36m<cell line: 0>\u001b[0;34m()\u001b[0m\n\u001b[1;32m      1\u001b[0m \u001b[0mage\u001b[0m\u001b[0;34m=\u001b[0m\u001b[0;36m20\u001b[0m  \u001b[0;31m# it can not add an intiger with a string\u001b[0m\u001b[0;34m\u001b[0m\u001b[0;34m\u001b[0m\u001b[0m\n\u001b[0;32m----> 2\u001b[0;31m \u001b[0mprint\u001b[0m\u001b[0;34m(\u001b[0m\u001b[0;34m\"My age is\"\u001b[0m\u001b[0;34m+\u001b[0m\u001b[0mage\u001b[0m\u001b[0;34m)\u001b[0m\u001b[0;34m\u001b[0m\u001b[0;34m\u001b[0m\u001b[0m\n\u001b[0m",
            "\u001b[0;31mTypeError\u001b[0m: can only concatenate str (not \"int\") to str"
          ]
        }
      ]
    },
    {
      "cell_type": "code",
      "source": [
        "age=20  # we can give it as str(age)\n",
        "print(\"My age is \"+str(age))"
      ],
      "metadata": {
        "colab": {
          "base_uri": "https://localhost:8080/"
        },
        "id": "LelA_1OXBx5t",
        "outputId": "a6ca54ec-a923-4487-e52a-b41a830a2f1f"
      },
      "execution_count": 10,
      "outputs": [
        {
          "output_type": "stream",
          "name": "stdout",
          "text": [
            "My age is 20\n"
          ]
        }
      ]
    },
    {
      "cell_type": "code",
      "source": [
        "age=\" 20  \"\n",
        "print(\"My age is \"+age)"
      ],
      "metadata": {
        "colab": {
          "base_uri": "https://localhost:8080/"
        },
        "id": "pZDe3Z-LC-GS",
        "outputId": "2ac8ea48-a4ab-4201-c429-7df512c76fa9"
      },
      "execution_count": 14,
      "outputs": [
        {
          "output_type": "stream",
          "name": "stdout",
          "text": [
            "My age is  20  \n"
          ]
        }
      ]
    },
    {
      "cell_type": "code",
      "source": [
        "amount = 20.0\n",
        "print(\"My age is \"+str(amount))"
      ],
      "metadata": {
        "colab": {
          "base_uri": "https://localhost:8080/"
        },
        "id": "MD69pJH0DQdW",
        "outputId": "6384fd99-9bbe-43f6-8a3e-b82e0ae8c7aa"
      },
      "execution_count": 19,
      "outputs": [
        {
          "output_type": "stream",
          "name": "stdout",
          "text": [
            "My age is 20.0\n"
          ]
        }
      ]
    },
    {
      "cell_type": "code",
      "source": [
        "Age=20\n",
        "course= \"python\"\n",
        "amount=0\n",
        "print(\"My age is \"+str(Age)+ \" I am learning \"+(course)+ \" amount is \"+ str(amount))"
      ],
      "metadata": {
        "colab": {
          "base_uri": "https://localhost:8080/"
        },
        "id": "oUh_B8hXDoYY",
        "outputId": "78b6cbbe-0c51-41b1-bd5c-34c561f2e41d"
      },
      "execution_count": 31,
      "outputs": [
        {
          "output_type": "stream",
          "name": "stdout",
          "text": [
            "My age is 20 I am learning python amount is 0\n"
          ]
        }
      ]
    },
    {
      "cell_type": "markdown",
      "source": [
        "** PERCENTILE (%) **\n",
        "\n",
        "*   int====%d\n",
        "*   float===%f\n",
        "*   string===%s\n",
        "         -int\n",
        "         -str\n",
        "         -float\n",
        "\n"
      ],
      "metadata": {
        "id": "3YaS4d7GGac9"
      }
    },
    {
      "cell_type": "code",
      "source": [
        "#int===%d\n",
        "age=20\n",
        "print(\"My age is %d\"%(age))"
      ],
      "metadata": {
        "colab": {
          "base_uri": "https://localhost:8080/"
        },
        "id": "HuzP4kXgGYxv",
        "outputId": "d58a1728-f8cf-4ecc-d7a7-7171474a845d"
      },
      "execution_count": 32,
      "outputs": [
        {
          "output_type": "stream",
          "name": "stdout",
          "text": [
            "My ag is 20\n"
          ]
        }
      ]
    },
    {
      "cell_type": "code",
      "source": [
        "#int===%d\n",
        "age=20\n",
        "print(\"%d is my age\"%(age))"
      ],
      "metadata": {
        "colab": {
          "base_uri": "https://localhost:8080/"
        },
        "id": "mQqzSbqWIhCX",
        "outputId": "b5f78a92-d456-4d71-86d3-ff73aea803b6"
      },
      "execution_count": 36,
      "outputs": [
        {
          "output_type": "stream",
          "name": "stdout",
          "text": [
            "20 is my age\n"
          ]
        }
      ]
    },
    {
      "cell_type": "code",
      "source": [
        "#int===%d\n",
        "age=20\n",
        "print(\"My ag is %\"%(age))"
      ],
      "metadata": {
        "colab": {
          "base_uri": "https://localhost:8080/",
          "height": 176
        },
        "id": "fVvsISxgIyMj",
        "outputId": "3f6c86d8-8001-49fc-da18-20b70dc55db6"
      },
      "execution_count": 37,
      "outputs": [
        {
          "output_type": "error",
          "ename": "ValueError",
          "evalue": "incomplete format",
          "traceback": [
            "\u001b[0;31m---------------------------------------------------------------------------\u001b[0m",
            "\u001b[0;31mValueError\u001b[0m                                Traceback (most recent call last)",
            "\u001b[0;32m/tmp/ipython-input-37-490219255.py\u001b[0m in \u001b[0;36m<cell line: 0>\u001b[0;34m()\u001b[0m\n\u001b[1;32m      1\u001b[0m \u001b[0;31m#int===%d\u001b[0m\u001b[0;34m\u001b[0m\u001b[0;34m\u001b[0m\u001b[0m\n\u001b[1;32m      2\u001b[0m \u001b[0mage\u001b[0m\u001b[0;34m=\u001b[0m\u001b[0;36m20\u001b[0m\u001b[0;34m\u001b[0m\u001b[0;34m\u001b[0m\u001b[0m\n\u001b[0;32m----> 3\u001b[0;31m \u001b[0mprint\u001b[0m\u001b[0;34m(\u001b[0m\u001b[0;34m\"My ag is %\"\u001b[0m\u001b[0;34m%\u001b[0m\u001b[0;34m(\u001b[0m\u001b[0mage\u001b[0m\u001b[0;34m)\u001b[0m\u001b[0;34m)\u001b[0m\u001b[0;34m\u001b[0m\u001b[0;34m\u001b[0m\u001b[0m\n\u001b[0m",
            "\u001b[0;31mValueError\u001b[0m: incomplete format"
          ]
        }
      ]
    },
    {
      "cell_type": "code",
      "source": [
        "#str===%s\n",
        "course=\"Python\"\n",
        "print(\"My ag is %s\"%(course))"
      ],
      "metadata": {
        "colab": {
          "base_uri": "https://localhost:8080/"
        },
        "id": "PL-Xmse9ErvK",
        "outputId": "e8471d4e-279b-4168-9ed3-afbfa919120e"
      },
      "execution_count": 33,
      "outputs": [
        {
          "output_type": "stream",
          "name": "stdout",
          "text": [
            "My ag is Python\n"
          ]
        }
      ]
    },
    {
      "cell_type": "code",
      "source": [
        "#float===%f\n",
        "amount=0\n",
        "print(\"My ag is %f\"%(amount))"
      ],
      "metadata": {
        "colab": {
          "base_uri": "https://localhost:8080/"
        },
        "id": "4t25wTXqH9zv",
        "outputId": "3303bc7f-99fb-4f98-b9b8-ff212bc5014c"
      },
      "execution_count": 35,
      "outputs": [
        {
          "output_type": "stream",
          "name": "stdout",
          "text": [
            "My ag is 0.000000\n"
          ]
        }
      ]
    },
    {
      "cell_type": "markdown",
      "source": [
        " Expected output - My age is 20 I am learning python amount is 0"
      ],
      "metadata": {
        "id": "axNnSonJJF1i"
      }
    },
    {
      "cell_type": "code",
      "source": [
        "Age=20\n",
        "course= \"python\"\n",
        "amount=0\n",
        "print(\"My age is %d I am learning %s amount is %f\" %(Age,course,amount))"
      ],
      "metadata": {
        "colab": {
          "base_uri": "https://localhost:8080/"
        },
        "id": "B0ljD7kmIPsq",
        "outputId": "083717e5-8dec-49ab-ec40-81048ac6d817"
      },
      "execution_count": 40,
      "outputs": [
        {
          "output_type": "stream",
          "name": "stdout",
          "text": [
            "My age is 20 I am learning python amount is 0.000000\n"
          ]
        }
      ]
    },
    {
      "cell_type": "code",
      "source": [
        "Age=20    #we want to as follows\n",
        "course= \"python\"\n",
        "amount=0\n",
        "print(\"My age is %d I am learning %s amount is %f\" %(course,age,amount))"
      ],
      "metadata": {
        "colab": {
          "base_uri": "https://localhost:8080/",
          "height": 176
        },
        "id": "N1x-xFovJtfV",
        "outputId": "bfe7310d-23ec-4d2e-f1e2-f52dc30f7854"
      },
      "execution_count": 42,
      "outputs": [
        {
          "output_type": "error",
          "ename": "TypeError",
          "evalue": "%d format: a real number is required, not str",
          "traceback": [
            "\u001b[0;31m---------------------------------------------------------------------------\u001b[0m",
            "\u001b[0;31mTypeError\u001b[0m                                 Traceback (most recent call last)",
            "\u001b[0;32m/tmp/ipython-input-42-2396673363.py\u001b[0m in \u001b[0;36m<cell line: 0>\u001b[0;34m()\u001b[0m\n\u001b[1;32m      2\u001b[0m \u001b[0mcourse\u001b[0m\u001b[0;34m=\u001b[0m \u001b[0;34m\"python\"\u001b[0m\u001b[0;34m\u001b[0m\u001b[0;34m\u001b[0m\u001b[0m\n\u001b[1;32m      3\u001b[0m \u001b[0mamount\u001b[0m\u001b[0;34m=\u001b[0m\u001b[0;36m0\u001b[0m\u001b[0;34m\u001b[0m\u001b[0;34m\u001b[0m\u001b[0m\n\u001b[0;32m----> 4\u001b[0;31m \u001b[0mprint\u001b[0m\u001b[0;34m(\u001b[0m\u001b[0;34m\"My age is %d I am learning %s amount is %f\"\u001b[0m \u001b[0;34m%\u001b[0m\u001b[0;34m(\u001b[0m\u001b[0mcourse\u001b[0m\u001b[0;34m,\u001b[0m\u001b[0mage\u001b[0m\u001b[0;34m,\u001b[0m\u001b[0mamount\u001b[0m\u001b[0;34m)\u001b[0m\u001b[0;34m)\u001b[0m\u001b[0;34m\u001b[0m\u001b[0;34m\u001b[0m\u001b[0m\n\u001b[0m",
            "\u001b[0;31mTypeError\u001b[0m: %d format: a real number is required, not str"
          ]
        }
      ]
    },
    {
      "cell_type": "code",
      "source": [
        "Age=20\n",
        "course= \"python\"\n",
        "amount=0\n",
        "print(\"My age is %d I am learning %s amount is %f\" %(amount,course,age))     #we can change it"
      ],
      "metadata": {
        "colab": {
          "base_uri": "https://localhost:8080/"
        },
        "id": "LqV-d3FbKWWl",
        "outputId": "5fdf3488-5826-4dd1-bcf0-585f9865d8e7"
      },
      "execution_count": 44,
      "outputs": [
        {
          "output_type": "stream",
          "name": "stdout",
          "text": [
            "My age is 0 I am learning python amount is 20.000000\n"
          ]
        }
      ]
    },
    {
      "cell_type": "markdown",
      "source": [
        "**Two more print condition in current python**\n",
        "\n",
        "\n",
        "*   .format {}\n",
        "*   using f {}\n",
        "\n",
        "\n"
      ],
      "metadata": {
        "id": "dr3tg_7jLzST"
      }
    },
    {
      "cell_type": "code",
      "source": [
        "age=20\n",
        "print(\"My age is {a}\")"
      ],
      "metadata": {
        "colab": {
          "base_uri": "https://localhost:8080/"
        },
        "id": "Dytyt3UYKyu0",
        "outputId": "4afecc14-6acd-406f-88c8-eb852f20e68a"
      },
      "execution_count": 45,
      "outputs": [
        {
          "output_type": "stream",
          "name": "stdout",
          "text": [
            "M y age is {a}\n"
          ]
        }
      ]
    },
    {
      "cell_type": "code",
      "source": [
        "age=20\n",
        "print(\"My age is {}\".format(age))"
      ],
      "metadata": {
        "colab": {
          "base_uri": "https://localhost:8080/"
        },
        "id": "4hSmNlEiMNyH",
        "outputId": "c18c931b-116a-4490-a2b1-e804999d456d"
      },
      "execution_count": 49,
      "outputs": [
        {
          "output_type": "stream",
          "name": "stdout",
          "text": [
            "My age is 20\n"
          ]
        }
      ]
    },
    {
      "cell_type": "code",
      "source": [
        "Age=20\n",
        "course= \"python\"\n",
        "amount=0\n",
        "print(\"My age is {} I am learning {} amount is {}\" .format(Age,course,amount))"
      ],
      "metadata": {
        "colab": {
          "base_uri": "https://localhost:8080/"
        },
        "id": "3RpTfJ3xMfZ2",
        "outputId": "fdecf377-9fa1-45ca-e8a2-28ba1e05b1cf"
      },
      "execution_count": 56,
      "outputs": [
        {
          "output_type": "stream",
          "name": "stdout",
          "text": [
            "My age is 20 I am learning python amount is 0\n"
          ]
        }
      ]
    },
    {
      "cell_type": "code",
      "source": [
        "Age=20\n",
        "course= \"python\"\n",
        "amount=0\n",
        "print(\"My age is {} I am learning {} amount is {}\" .format(amount,course,Age))"
      ],
      "metadata": {
        "colab": {
          "base_uri": "https://localhost:8080/"
        },
        "id": "DHJrTpNiM4pS",
        "outputId": "e444c991-2aba-46d7-a380-79e8e4a39d81"
      },
      "execution_count": 57,
      "outputs": [
        {
          "output_type": "stream",
          "name": "stdout",
          "text": [
            "My age is 0 I am learning python amount is 20\n"
          ]
        }
      ]
    },
    {
      "cell_type": "code",
      "source": [
        "age=20\n",
        "print(f\"My age is {age}\")"
      ],
      "metadata": {
        "colab": {
          "base_uri": "https://localhost:8080/"
        },
        "id": "IDIsGUTENsE4",
        "outputId": "0cd5b5a0-e3a6-4f67-cd06-8a268bbf073c"
      },
      "execution_count": 59,
      "outputs": [
        {
          "output_type": "stream",
          "name": "stdout",
          "text": [
            "My age is 20\n"
          ]
        }
      ]
    },
    {
      "cell_type": "code",
      "source": [
        "Age=20\n",
        "course= \"python\"\n",
        "amount=0\n",
        "print(f\"My age is {Age} I am learning {course} amount is {amount}\")"
      ],
      "metadata": {
        "colab": {
          "base_uri": "https://localhost:8080/"
        },
        "id": "nyJ1uIQjN18i",
        "outputId": "f9f11278-9cf5-4bdb-c42d-2be496f75834"
      },
      "execution_count": 60,
      "outputs": [
        {
          "output_type": "stream",
          "name": "stdout",
          "text": [
            "My age is 20 I am learning python amount is 0\n"
          ]
        }
      ]
    },
    {
      "cell_type": "code",
      "source": [],
      "metadata": {
        "id": "UkqT3wRvOKZX"
      },
      "execution_count": null,
      "outputs": []
    }
  ]
}