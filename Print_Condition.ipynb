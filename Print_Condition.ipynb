{
  "nbformat": 4,
  "nbformat_minor": 0,
  "metadata": {
    "colab": {
      "provenance": [],
      "authorship_tag": "ABX9TyPU5LmqiXIrWRyZqDboMc3+",
      "include_colab_link": true
    },
    "kernelspec": {
      "name": "python3",
      "display_name": "Python 3"
    },
    "language_info": {
      "name": "python"
    }
  },
  "cells": [
    {
      "cell_type": "markdown",
      "metadata": {
        "id": "view-in-github",
        "colab_type": "text"
      },
      "source": [
        "<a href=\"https://colab.research.google.com/github/DhanasriBatchu/DSA/blob/main/Print_Condition.ipynb\" target=\"_parent\"><img src=\"https://colab.research.google.com/assets/colab-badge.svg\" alt=\"Open In Colab\"/></a>"
      ]
    },
    {
      "cell_type": "markdown",
      "source": [
        "**PRINT CONDITION**\\\n",
        "- Adding a print condition to 3 different variables"
      ],
      "metadata": {
        "id": "i8V_AbnBXDMY"
      }
    },
    {
      "cell_type": "code",
      "execution_count": null,
      "metadata": {
        "id": "PWGGgo56UVhz",
        "colab": {
          "base_uri": "https://localhost:8080/"
        },
        "outputId": "cd138518-f4cf-4895-d70b-3b472b525d10"
      },
      "outputs": [
        {
          "output_type": "stream",
          "name": "stdout",
          "text": [
            "Python is powerfull\n"
          ]
        }
      ],
      "source": [
        "#Single quote\n",
        "print('Python is powerfull')"
      ]
    },
    {
      "cell_type": "code",
      "source": [
        "#Double quote\n",
        "print(\"Python is powerfull\")"
      ],
      "metadata": {
        "id": "H3k2LK3GVojb",
        "colab": {
          "base_uri": "https://localhost:8080/"
        },
        "outputId": "50502e8a-3f1d-4cae-c922-d2e22b9b4623"
      },
      "execution_count": null,
      "outputs": [
        {
          "output_type": "stream",
          "name": "stdout",
          "text": [
            "Python is powerfull\n"
          ]
        }
      ]
    },
    {
      "cell_type": "code",
      "source": [
        "#Triple code((Single code)):Multiple lines\n",
        "print('''Iam learning Python.\n",
        "Python is eassy to understand,\n",
        "I luved it''')"
      ],
      "metadata": {
        "id": "cc_uB0g_V3zZ",
        "colab": {
          "base_uri": "https://localhost:8080/"
        },
        "outputId": "1267ff6e-cf9b-46f2-d585-b63e39ddf335"
      },
      "execution_count": null,
      "outputs": [
        {
          "output_type": "stream",
          "name": "stdout",
          "text": [
            "Iam learning Python.\n",
            "Python is eassy to understand,\n",
            "I luved it\n"
          ]
        }
      ]
    },
    {
      "cell_type": "code",
      "source": [
        "#Triple code((Double code)):Multiple lines\n",
        "print(\"\"\"Iam learning Python.\n",
        "Python is eassy to understand,\n",
        "I luved it\"\"\")"
      ],
      "metadata": {
        "id": "fYQ_xctMWgyG",
        "colab": {
          "base_uri": "https://localhost:8080/"
        },
        "outputId": "cb991568-6a5e-472c-f025-077cb987252b"
      },
      "execution_count": null,
      "outputs": [
        {
          "output_type": "stream",
          "name": "stdout",
          "text": [
            "Iam learning Python.\n",
            "Python is eassy to understand,\n",
            "I luved it\n"
          ]
        }
      ]
    },
    {
      "cell_type": "markdown",
      "source": [
        "- Adding print conditions to 3diff data types\n",
        "      - 'we use \",\" \"+\" \"%\"'"
      ],
      "metadata": {
        "id": "GI6_jl-vYHU6"
      }
    },
    {
      "cell_type": "code",
      "source": [
        "Age = 20\n",
        "print(\"My age is,Age\")#onetab space for ,"
      ],
      "metadata": {
        "id": "7cfRhAwCYg_A",
        "colab": {
          "base_uri": "https://localhost:8080/"
        },
        "outputId": "18d51fe1-b3d1-4e29-ca53-6d482a698482"
      },
      "execution_count": null,
      "outputs": [
        {
          "output_type": "stream",
          "name": "stdout",
          "text": [
            "My age is,Age\n"
          ]
        }
      ]
    },
    {
      "cell_type": "code",
      "source": [
        "# Using \"+\"\n",
        "name='Dhana sri'\n",
        "age =20\n",
        "course=\"python\"\n",
        "\n",
        "print(\"My Name is \",name,'and i am learning',course,'my age is',age)"
      ],
      "metadata": {
        "id": "fg83DbIMa4g2",
        "colab": {
          "base_uri": "https://localhost:8080/"
        },
        "outputId": "ac5d583f-7d94-4c75-a6c8-97df05d511cb"
      },
      "execution_count": null,
      "outputs": [
        {
          "output_type": "stream",
          "name": "stdout",
          "text": [
            "My Name is  Dhana sri and i am learning python my age is 20\n"
          ]
        }
      ]
    },
    {
      "cell_type": "markdown",
      "source": [
        "**USING + OPERATOR**\n",
        "- Rule 1 : Every Variable should be in string format\n",
        "- Rule 2 :\n",
        "\n"
      ],
      "metadata": {
        "id": "thOUhimhel-j"
      }
    },
    {
      "cell_type": "code",
      "source": [
        "# + operator\n",
        "# + operator doest provide u the space\n",
        "a= \"python\"\n",
        "print(\"I am Learning \"+a)\n",
        "print(\"I am learning \"+\" \"+a) #out put will be I ma learning+ python"
      ],
      "metadata": {
        "id": "NkVR325seli6",
        "colab": {
          "base_uri": "https://localhost:8080/"
        },
        "outputId": "05eb3d29-a776-491b-d3a2-434bd6587411"
      },
      "execution_count": null,
      "outputs": [
        {
          "output_type": "stream",
          "name": "stdout",
          "text": [
            "I am Learning python\n",
            "I am learning  python\n"
          ]
        }
      ]
    },
    {
      "cell_type": "code",
      "source": [
        "age = 30\n",
        "print(\"My age is \"+str(age))\n",
        "\n",
        "age = '30.90'\n",
        "print(\"My age is \"+age)"
      ],
      "metadata": {
        "id": "fhy_nj-miyG3",
        "colab": {
          "base_uri": "https://localhost:8080/"
        },
        "outputId": "d274e50b-bda2-4f87-8623-b998a149b7c3"
      },
      "execution_count": null,
      "outputs": [
        {
          "output_type": "stream",
          "name": "stdout",
          "text": [
            "My age is 30\n",
            "My age is 30.90\n"
          ]
        }
      ]
    },
    {
      "cell_type": "code",
      "source": [
        "name='Dhana sri'\n",
        "age ='20'\n",
        "course=\"python\"\n",
        "\n",
        "print(\"My Name is \"+name,'and i am learning '+course,'my age is '+age)"
      ],
      "metadata": {
        "id": "n7wgOE2ijgHK",
        "colab": {
          "base_uri": "https://localhost:8080/"
        },
        "outputId": "fea5735c-9823-4837-d1e8-95681e403e56"
      },
      "execution_count": null,
      "outputs": [
        {
          "output_type": "stream",
          "name": "stdout",
          "text": [
            "My Name is Dhana sri and i am learning python my age is 20\n"
          ]
        }
      ]
    },
    {
      "cell_type": "code",
      "source": [
        "name='Dhana sri'\n",
        "age =20\n",
        "course=\"python\"\n",
        "\n",
        "print(\"My Name is \"+name,'and i am learning '+course,'my age is '+str(age))"
      ],
      "metadata": {
        "colab": {
          "base_uri": "https://localhost:8080/"
        },
        "id": "Qiv5sVUabae6",
        "outputId": "98f7e1c2-5d13-4f07-9741-be54451bc3b6"
      },
      "execution_count": null,
      "outputs": [
        {
          "output_type": "stream",
          "name": "stdout",
          "text": [
            "My Name is Dhana sri and i am learning python my age is 20\n"
          ]
        }
      ]
    },
    {
      "cell_type": "markdown",
      "source": [
        "**USING %**\n",
        "- 'int : %d\n",
        "- 'float : %f\n",
        "- 'str : %s\n",
        "---\n",
        "\n"
      ],
      "metadata": {
        "id": "-K9NDLyScGWR"
      }
    },
    {
      "cell_type": "code",
      "source": [
        "Age = 20\n",
        "\n",
        "print('My age is %d'%Age)"
      ],
      "metadata": {
        "colab": {
          "base_uri": "https://localhost:8080/"
        },
        "id": "S38ov48Bc8-y",
        "outputId": "e0740188-0ff0-4319-8307-9e67126a9a1d"
      },
      "execution_count": null,
      "outputs": [
        {
          "output_type": "stream",
          "name": "stdout",
          "text": [
            "My age is 20\n"
          ]
        }
      ]
    },
    {
      "cell_type": "code",
      "source": [
        "Age =30\n",
        "\n",
        "print('%d is my age'%Age)"
      ],
      "metadata": {
        "colab": {
          "base_uri": "https://localhost:8080/"
        },
        "id": "uTrE7FxKdSXX",
        "outputId": "31cd468b-e49a-4509-e815-28b55c62b9b4"
      },
      "execution_count": null,
      "outputs": [
        {
          "output_type": "stream",
          "name": "stdout",
          "text": [
            "30 is my age\n"
          ]
        }
      ]
    },
    {
      "cell_type": "code",
      "source": [
        "amount = 50.2\n",
        "\n",
        "print('The amount is %f'%(amount))"
      ],
      "metadata": {
        "colab": {
          "base_uri": "https://localhost:8080/"
        },
        "id": "oBF1CSS2detE",
        "outputId": "fca1f421-59ce-4e31-b020-38abb11aaae9"
      },
      "execution_count": null,
      "outputs": [
        {
          "output_type": "stream",
          "name": "stdout",
          "text": [
            "The amount is 50.200000\n"
          ]
        }
      ]
    },
    {
      "cell_type": "code",
      "source": [
        "course = 'python'\n",
        "\n",
        "print(\"I am learning %s\"%(course))\n",
        "\n"
      ],
      "metadata": {
        "colab": {
          "base_uri": "https://localhost:8080/"
        },
        "id": "8rojZ3xDe9bu",
        "outputId": "af7bd3d2-b246-48cb-8a70-644bd8bb2b15"
      },
      "execution_count": null,
      "outputs": [
        {
          "output_type": "stream",
          "name": "stdout",
          "text": [
            "I am learning python\n"
          ]
        }
      ]
    },
    {
      "cell_type": "code",
      "source": [
        "name='Dhana sri'\n",
        "age =20\n",
        "course='python'\n",
        "\n",
        "print(\"My Name is %s and i am learning %d my age is %s%(name,course,age)\")"
      ],
      "metadata": {
        "colab": {
          "base_uri": "https://localhost:8080/"
        },
        "id": "1xIBzJq7fkWE",
        "outputId": "69fa630f-38c6-415f-edce-d6cfe92295ca"
      },
      "execution_count": null,
      "outputs": [
        {
          "output_type": "stream",
          "name": "stdout",
          "text": [
            "My Name is %s and i am learning %d my age is %s%(name,course,age)\n"
          ]
        }
      ]
    },
    {
      "cell_type": "code",
      "source": [
        "name='Dhana sri'\n",
        "age =20\n",
        "course='python'\n",
        "\n",
        "print(\"My Name is %s and i am learning %d my age is %s%(course,name,age)\")#error we follow the rule by not changing"
      ],
      "metadata": {
        "colab": {
          "base_uri": "https://localhost:8080/"
        },
        "id": "Zz-nq1gDglCb",
        "outputId": "1ee60594-b2f1-4c91-e28b-a89c17b8b2ff"
      },
      "execution_count": null,
      "outputs": [
        {
          "output_type": "stream",
          "name": "stdout",
          "text": [
            "My Name is %s and i am learning %d my age is %s%(course,name,age)\n"
          ]
        }
      ]
    },
    {
      "cell_type": "markdown",
      "source": [
        "- 'TWO MORE PRINT CONDITIONS ARE ADDED IN VERSION **3**:\n",
        "\n",
        "  - \"USING {}\""
      ],
      "metadata": {
        "id": "gJNunplinBHs"
      }
    },
    {
      "cell_type": "code",
      "source": [
        "a = 20\n",
        "\n",
        "print(\"My Age is {}\".format(a))"
      ],
      "metadata": {
        "colab": {
          "base_uri": "https://localhost:8080/"
        },
        "id": "yjddlI4Hm4DC",
        "outputId": "f02927c7-49e6-4162-df51-91925dad3a1a"
      },
      "execution_count": 36,
      "outputs": [
        {
          "output_type": "stream",
          "name": "stdout",
          "text": [
            "My Age is 20\n"
          ]
        }
      ]
    },
    {
      "cell_type": "code",
      "source": [
        "name='Dhana sri'\n",
        "age =20\n",
        "course='python'\n",
        "\n",
        "print(\"My Name is {} and i am learning {} my age is {}\".format(course,name,age))"
      ],
      "metadata": {
        "colab": {
          "base_uri": "https://localhost:8080/"
        },
        "id": "y_2Oi31FpGlz",
        "outputId": "f048ca6f-9a7e-48fd-a659-898bf602e15b"
      },
      "execution_count": 39,
      "outputs": [
        {
          "output_type": "stream",
          "name": "stdout",
          "text": [
            "My Name is python and i am learning Dhana sri my age is 20\n"
          ]
        }
      ]
    },
    {
      "cell_type": "markdown",
      "source": [
        "     - **\"USING KEYWORD f\"**"
      ],
      "metadata": {
        "id": "CNR5W3uTolsG"
      }
    },
    {
      "cell_type": "code",
      "source": [
        "Age = 20\n",
        "\n",
        "print(f\"My Age Is {Age}\")"
      ],
      "metadata": {
        "colab": {
          "base_uri": "https://localhost:8080/"
        },
        "id": "qqsog_4hqKXs",
        "outputId": "1b44d0b0-654a-49bc-9fb0-c9fc6d3a5284"
      },
      "execution_count": 42,
      "outputs": [
        {
          "output_type": "stream",
          "name": "stdout",
          "text": [
            "My Age Is 20\n"
          ]
        }
      ]
    },
    {
      "cell_type": "code",
      "source": [
        "name='Dhana sri'\n",
        "age =20\n",
        "course='python'\n",
        "\n",
        "print(f\"My Name is {name} and i am learning {age} my age is {course}\")"
      ],
      "metadata": {
        "colab": {
          "base_uri": "https://localhost:8080/"
        },
        "id": "MbGcMqemo0_X",
        "outputId": "2c43835e-2039-48e0-d004-cc11196da25b"
      },
      "execution_count": 43,
      "outputs": [
        {
          "output_type": "stream",
          "name": "stdout",
          "text": [
            "My Name is Dhana sri and i am learning 20 my age is python\n"
          ]
        }
      ]
    }
  ]
}