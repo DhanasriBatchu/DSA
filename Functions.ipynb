{
  "nbformat": 4,
  "nbformat_minor": 0,
  "metadata": {
    "colab": {
      "provenance": [],
      "authorship_tag": "ABX9TyNcy46zrpNFA1Kl2ObzG9Y5",
      "include_colab_link": true
    },
    "kernelspec": {
      "name": "python3",
      "display_name": "Python 3"
    },
    "language_info": {
      "name": "python"
    }
  },
  "cells": [
    {
      "cell_type": "markdown",
      "metadata": {
        "id": "view-in-github",
        "colab_type": "text"
      },
      "source": [
        "<a href=\"https://colab.research.google.com/github/DhanasriBatchu/DSA/blob/main/Functions.ipynb\" target=\"_parent\"><img src=\"https://colab.research.google.com/assets/colab-badge.svg\" alt=\"Open In Colab\"/></a>"
      ]
    },
    {
      "cell_type": "markdown",
      "source": [
        "**Functions**\n",
        "-  functions meanse writing the code one time and we can excecute the same code many times\n",
        "-  the functions representation will be with key word called 'def'\n",
        "- any use? - we can save memory space andtime complexity"
      ],
      "metadata": {
        "id": "uq3PpRjetW3f"
      }
    },
    {
      "cell_type": "code",
      "execution_count": null,
      "metadata": {
        "colab": {
          "base_uri": "https://localhost:8080/"
        },
        "id": "jRIKlqEAsevD",
        "outputId": "12b714b2-5889-41ac-e267-6bc461169a66"
      },
      "outputs": [
        {
          "output_type": "stream",
          "name": "stdout",
          "text": [
            "30\n"
          ]
        }
      ],
      "source": [
        "a = 10\n",
        "b = 20\n",
        "print(a + b)"
      ]
    },
    {
      "cell_type": "code",
      "source": [
        "a = 50\n",
        "b = 60\n",
        "print(a + b)"
      ],
      "metadata": {
        "colab": {
          "base_uri": "https://localhost:8080/"
        },
        "id": "Z2RFvkTBsohw",
        "outputId": "21a322b4-708d-4d62-bbf0-f8f9dbf60ac0"
      },
      "execution_count": null,
      "outputs": [
        {
          "output_type": "stream",
          "name": "stdout",
          "text": [
            "110\n"
          ]
        }
      ]
    },
    {
      "cell_type": "markdown",
      "source": [
        "- syntax : def function_name (accept parameters if required or else empty:):\n",
        "    -  logic what we want:"
      ],
      "metadata": {
        "id": "qwbU83jwurDy"
      }
    },
    {
      "cell_type": "code",
      "source": [
        "# def\n",
        "def python():\n",
        "  print('good')"
      ],
      "metadata": {
        "id": "RIV8dLJewik6"
      },
      "execution_count": null,
      "outputs": []
    },
    {
      "cell_type": "code",
      "source": [
        "python()  # function calling"
      ],
      "metadata": {
        "colab": {
          "base_uri": "https://localhost:8080/"
        },
        "id": "164Ewj5-wl8a",
        "outputId": "144cbe07-41dc-44a8-d6a5-60c6b9c2884c"
      },
      "execution_count": null,
      "outputs": [
        {
          "output_type": "stream",
          "name": "stdout",
          "text": [
            "good\n"
          ]
        }
      ]
    },
    {
      "cell_type": "code",
      "source": [
        "# def\n",
        "def python():\n",
        "  print('good')\n",
        "python()   #  function calling"
      ],
      "metadata": {
        "colab": {
          "base_uri": "https://localhost:8080/"
        },
        "id": "CwyrBZ-Quic0",
        "outputId": "1340267a-63f7-41c9-d545-3a49a2f733ae"
      },
      "execution_count": null,
      "outputs": [
        {
          "output_type": "stream",
          "name": "stdout",
          "text": [
            "good\n"
          ]
        }
      ]
    },
    {
      "cell_type": "code",
      "source": [
        "def addition():\n",
        "  print(a+b)\n",
        "\n",
        "a = 50\n",
        "b = 60\n",
        "addition()"
      ],
      "metadata": {
        "colab": {
          "base_uri": "https://localhost:8080/"
        },
        "id": "0-hf2gC5x_Ng",
        "outputId": "be96ade7-2d6d-49eb-f819-8eb2279e4ef3"
      },
      "execution_count": null,
      "outputs": [
        {
          "output_type": "stream",
          "name": "stdout",
          "text": [
            "110\n"
          ]
        }
      ]
    },
    {
      "cell_type": "code",
      "source": [
        "def addition(a,b):\n",
        "  print(a+b)\n",
        "\n",
        "a = 50\n",
        "b = 60\n",
        "addition(a,b)"
      ],
      "metadata": {
        "colab": {
          "base_uri": "https://localhost:8080/"
        },
        "id": "9lhGuSh2v8Sq",
        "outputId": "31ba5ab4-2747-4cbc-f012-c528b34e927e"
      },
      "execution_count": null,
      "outputs": [
        {
          "output_type": "stream",
          "name": "stdout",
          "text": [
            "110\n"
          ]
        }
      ]
    },
    {
      "cell_type": "code",
      "source": [
        "def fun(x,y):\n",
        "  print(x+y)\n",
        "a = 10\n",
        "b = 30\n",
        "print(a,b)"
      ],
      "metadata": {
        "colab": {
          "base_uri": "https://localhost:8080/"
        },
        "id": "GgetkQE2wNiO",
        "outputId": "7990876a-bdff-4a3c-d555-3f5021e10037"
      },
      "execution_count": null,
      "outputs": [
        {
          "output_type": "stream",
          "name": "stdout",
          "text": [
            "10 30\n"
          ]
        }
      ]
    },
    {
      "cell_type": "code",
      "source": [
        "fun(2,4)"
      ],
      "metadata": {
        "colab": {
          "base_uri": "https://localhost:8080/"
        },
        "id": "JjLEsKjrw6wQ",
        "outputId": "23e034cd-98f0-417d-b760-554331a2a258"
      },
      "execution_count": null,
      "outputs": [
        {
          "output_type": "stream",
          "name": "stdout",
          "text": [
            "6\n"
          ]
        }
      ]
    },
    {
      "cell_type": "code",
      "source": [
        "fun(2000,4000)"
      ],
      "metadata": {
        "colab": {
          "base_uri": "https://localhost:8080/"
        },
        "id": "E7xYmEi5y22K",
        "outputId": "0b5d31b0-7c85-4393-cb1a-4fd12c960671"
      },
      "execution_count": null,
      "outputs": [
        {
          "output_type": "stream",
          "name": "stdout",
          "text": [
            "6000\n"
          ]
        }
      ]
    },
    {
      "cell_type": "code",
      "source": [
        "# lets solve some maths stuff\n",
        "\n",
        "# without functions\n",
        "\n",
        "number = 150\n",
        "if number % 2 == 0:\n",
        "  print('even')\n",
        "else:\n",
        "  print('odd')"
      ],
      "metadata": {
        "colab": {
          "base_uri": "https://localhost:8080/"
        },
        "id": "6zBKGxndy5tw",
        "outputId": "cc931a35-7bb5-489b-ed64-9efdcc741ad2"
      },
      "execution_count": null,
      "outputs": [
        {
          "output_type": "stream",
          "name": "stdout",
          "text": [
            "even\n"
          ]
        }
      ]
    },
    {
      "cell_type": "code",
      "source": [
        "#  i want to check like value 85 is even/odd\n",
        "\n",
        "number = 85\n",
        "if number % 2 == 0:\n",
        "  print('even')\n",
        "else:\n",
        "  print('odd')"
      ],
      "metadata": {
        "colab": {
          "base_uri": "https://localhost:8080/"
        },
        "id": "OUR3kjuhznmT",
        "outputId": "4de6edfa-fa10-45e4-afd1-01f84f108ed1"
      },
      "execution_count": null,
      "outputs": [
        {
          "output_type": "stream",
          "name": "stdout",
          "text": [
            "odd\n"
          ]
        }
      ]
    },
    {
      "cell_type": "code",
      "source": [
        "# with function\n",
        "\n",
        "def even_odd():\n",
        "  if number % 2 == 0:\n",
        "    print('even')\n",
        "  else:\n",
        "    print('odd')\n",
        "even_odd()"
      ],
      "metadata": {
        "colab": {
          "base_uri": "https://localhost:8080/"
        },
        "id": "I5DFwmlTz888",
        "outputId": "f3203cd5-6101-4698-d7fa-570cb6a204b6"
      },
      "execution_count": null,
      "outputs": [
        {
          "output_type": "stream",
          "name": "stdout",
          "text": [
            "odd\n"
          ]
        }
      ]
    },
    {
      "cell_type": "code",
      "source": [
        "even_odd()"
      ],
      "metadata": {
        "colab": {
          "base_uri": "https://localhost:8080/",
          "height": 141
        },
        "id": "ctobtHT90mAi",
        "outputId": "02895dfb-ce83-45be-9ccd-b457dd966f6b"
      },
      "execution_count": null,
      "outputs": [
        {
          "output_type": "error",
          "ename": "TypeError",
          "evalue": "even_odd() takes 0 positional arguments but 1 was given",
          "traceback": [
            "\u001b[0;31m---------------------------------------------------------------------------\u001b[0m",
            "\u001b[0;31mTypeError\u001b[0m                                 Traceback (most recent call last)",
            "\u001b[0;32m/tmp/ipython-input-27-920754059.py\u001b[0m in \u001b[0;36m<cell line: 0>\u001b[0;34m()\u001b[0m\n\u001b[0;32m----> 1\u001b[0;31m \u001b[0meven_odd\u001b[0m\u001b[0;34m(\u001b[0m\u001b[0;36m12\u001b[0m\u001b[0;34m)\u001b[0m\u001b[0;34m\u001b[0m\u001b[0;34m\u001b[0m\u001b[0m\n\u001b[0m",
            "\u001b[0;31mTypeError\u001b[0m: even_odd() takes 0 positional arguments but 1 was given"
          ]
        }
      ]
    },
    {
      "cell_type": "code",
      "source": [
        "# with function\n",
        "\n",
        "def even_odd(number):\n",
        "  if number % 2 == 0:\n",
        "    print('even')\n",
        "  else:\n",
        "    print('odd')\n",
        "even_odd(14)"
      ],
      "metadata": {
        "colab": {
          "base_uri": "https://localhost:8080/"
        },
        "id": "_q2IfK5W1-rY",
        "outputId": "fd6b3d4e-0721-44e1-e5d7-9e5e057988b0"
      },
      "execution_count": 20,
      "outputs": [
        {
          "output_type": "stream",
          "name": "stdout",
          "text": [
            "even\n"
          ]
        }
      ]
    },
    {
      "cell_type": "code",
      "source": [
        "even_odd(15)"
      ],
      "metadata": {
        "colab": {
          "base_uri": "https://localhost:8080/"
        },
        "id": "4ZMqZ6yu2Fu1",
        "outputId": "106f7370-9b66-4cdb-c374-219612930653"
      },
      "execution_count": null,
      "outputs": [
        {
          "output_type": "stream",
          "name": "stdout",
          "text": [
            "odd\n"
          ]
        }
      ]
    },
    {
      "cell_type": "code",
      "source": [
        "even_odd(500)"
      ],
      "metadata": {
        "colab": {
          "base_uri": "https://localhost:8080/"
        },
        "id": "0f_uBGZ52NVG",
        "outputId": "c7c3c763-c020-420d-b6b6-4664ca134333"
      },
      "execution_count": null,
      "outputs": [
        {
          "output_type": "stream",
          "name": "stdout",
          "text": [
            "even\n"
          ]
        }
      ]
    },
    {
      "cell_type": "code",
      "source": [
        "# printing odd and even from 11-25 'without functions'\n",
        "for i in range(11,25):\n",
        "  if i % 2 == 0:\n",
        "    print(\"even\",i)\n",
        "  else:\n",
        "    print(\"odd\",i)"
      ],
      "metadata": {
        "id": "_rj4BXCR23qX",
        "colab": {
          "base_uri": "https://localhost:8080/"
        },
        "outputId": "838c8a7d-2495-4c29-a281-c20a7caaa371"
      },
      "execution_count": 1,
      "outputs": [
        {
          "output_type": "stream",
          "name": "stdout",
          "text": [
            "odd 11\n",
            "even 12\n",
            "odd 13\n",
            "even 14\n",
            "odd 15\n",
            "even 16\n",
            "odd 17\n",
            "even 18\n",
            "odd 19\n",
            "even 20\n",
            "odd 21\n",
            "even 22\n",
            "odd 23\n",
            "even 24\n"
          ]
        }
      ]
    },
    {
      "cell_type": "code",
      "source": [
        "for i in range(41,51):\n",
        "  if i % 2 == 0:\n",
        "    print(\"even\",i)\n",
        "  else:\n",
        "    print(\"odd\",i)"
      ],
      "metadata": {
        "colab": {
          "base_uri": "https://localhost:8080/"
        },
        "id": "OQ08uBJzCH-Q",
        "outputId": "c3d58cb8-91fd-46b3-b608-08de9ee667d1"
      },
      "execution_count": 2,
      "outputs": [
        {
          "output_type": "stream",
          "name": "stdout",
          "text": [
            "odd 41\n",
            "even 42\n",
            "odd 43\n",
            "even 44\n",
            "odd 45\n",
            "even 46\n",
            "odd 47\n",
            "even 48\n",
            "odd 49\n",
            "even 50\n"
          ]
        }
      ]
    },
    {
      "cell_type": "code",
      "source": [
        "def fun1(a,b):\n",
        " for i in range(a,b):\n",
        "   if i % 2 == 0:\n",
        "     print(\"even\",i)\n",
        "   else:\n",
        "     print(\"odd\",i)"
      ],
      "metadata": {
        "id": "in6MekWjCU62"
      },
      "execution_count": 21,
      "outputs": []
    },
    {
      "cell_type": "code",
      "source": [
        "fun(11,26)"
      ],
      "metadata": {
        "colab": {
          "base_uri": "https://localhost:8080/"
        },
        "id": "Bo50cquHCbHj",
        "outputId": "66fe73e3-4edd-4f6c-e33c-e4d700c445bc"
      },
      "execution_count": 12,
      "outputs": [
        {
          "output_type": "stream",
          "name": "stdout",
          "text": [
            "odd 11\n",
            "even 12\n",
            "odd 13\n",
            "even 14\n",
            "odd 15\n",
            "even 16\n",
            "odd 17\n",
            "even 18\n",
            "odd 19\n",
            "even 20\n",
            "odd 21\n",
            "even 22\n",
            "odd 23\n",
            "even 24\n",
            "odd 25\n"
          ]
        }
      ]
    },
    {
      "cell_type": "code",
      "source": [
        "fun(1,6)"
      ],
      "metadata": {
        "colab": {
          "base_uri": "https://localhost:8080/"
        },
        "id": "McBl9_a1Cfkf",
        "outputId": "34249b7e-d6b4-483c-83bf-289180542485"
      },
      "execution_count": 23,
      "outputs": [
        {
          "output_type": "stream",
          "name": "stdout",
          "text": [
            "odd 1\n",
            "even 2\n",
            "odd 3\n",
            "even 4\n",
            "odd 5\n"
          ]
        }
      ]
    },
    {
      "cell_type": "code",
      "source": [
        "fun1(23,34)"
      ],
      "metadata": {
        "colab": {
          "base_uri": "https://localhost:8080/"
        },
        "id": "h42WGKOPD9Vl",
        "outputId": "5f1db9cf-54e4-434f-a097-5306db58ddd3"
      },
      "execution_count": 25,
      "outputs": [
        {
          "output_type": "stream",
          "name": "stdout",
          "text": [
            "odd 23\n",
            "even 24\n",
            "odd 25\n",
            "even 26\n",
            "odd 27\n",
            "even 28\n",
            "odd 29\n",
            "even 30\n",
            "odd 31\n",
            "even 32\n",
            "odd 33\n"
          ]
        }
      ]
    },
    {
      "cell_type": "code",
      "source": [
        "even_odd(15)"
      ],
      "metadata": {
        "colab": {
          "base_uri": "https://localhost:8080/"
        },
        "id": "gYTY1xQkEFY0",
        "outputId": "815f75dd-8fa2-46ff-ef95-dadadf27c788"
      },
      "execution_count": 26,
      "outputs": [
        {
          "output_type": "stream",
          "name": "stdout",
          "text": [
            "odd\n"
          ]
        }
      ]
    },
    {
      "cell_type": "code",
      "source": [
        "even_odd(16)"
      ],
      "metadata": {
        "colab": {
          "base_uri": "https://localhost:8080/"
        },
        "id": "4FXxmCl1E27z",
        "outputId": "ddf10e9f-2287-4ba0-c453-0840386bfc9a"
      },
      "execution_count": 27,
      "outputs": [
        {
          "output_type": "stream",
          "name": "stdout",
          "text": [
            "even\n"
          ]
        }
      ]
    },
    {
      "cell_type": "markdown",
      "source": [
        "- return statements in functions\n",
        "\n",
        "- when we are using functions its better to use return keywords instead of print conditions"
      ],
      "metadata": {
        "id": "qXPyHW3qGFss"
      }
    },
    {
      "cell_type": "code",
      "source": [
        "def value(a):\n",
        "  print(a)\n"
      ],
      "metadata": {
        "id": "lnVQ1W3sE570"
      },
      "execution_count": 31,
      "outputs": []
    },
    {
      "cell_type": "code",
      "source": [
        "value(10)"
      ],
      "metadata": {
        "colab": {
          "base_uri": "https://localhost:8080/"
        },
        "id": "0PMHPj61GzeI",
        "outputId": "bdff5f1c-3174-4c98-f27e-ccc1e9375600"
      },
      "execution_count": 32,
      "outputs": [
        {
          "output_type": "stream",
          "name": "stdout",
          "text": [
            "10\n"
          ]
        }
      ]
    },
    {
      "cell_type": "code",
      "source": [
        "def value(a):\n",
        "  return(a)"
      ],
      "metadata": {
        "id": "AfOVILOjG05A"
      },
      "execution_count": 33,
      "outputs": []
    },
    {
      "cell_type": "code",
      "source": [
        "value(20)"
      ],
      "metadata": {
        "colab": {
          "base_uri": "https://localhost:8080/"
        },
        "id": "Gqfhv4EjG_pM",
        "outputId": "c63e1173-d466-4780-df4e-2b04a08fd992"
      },
      "execution_count": 34,
      "outputs": [
        {
          "output_type": "execute_result",
          "data": {
            "text/plain": [
              "20"
            ]
          },
          "metadata": {},
          "execution_count": 34
        }
      ]
    },
    {
      "cell_type": "code",
      "source": [
        "# multiplication\n",
        "\n",
        "def Multiply(a, b):\n",
        "  print(a *b)"
      ],
      "metadata": {
        "id": "TWnsSQ7CHCq5"
      },
      "execution_count": 38,
      "outputs": []
    },
    {
      "cell_type": "code",
      "source": [
        "number1 = 10\n",
        "number2 = 20\n",
        "\n",
        "Multiply(number1, number2)\n"
      ],
      "metadata": {
        "colab": {
          "base_uri": "https://localhost:8080/"
        },
        "id": "ZihmFZm9JNaz",
        "outputId": "294ac47f-0321-4a48-f4f6-5203bf4158b7"
      },
      "execution_count": 40,
      "outputs": [
        {
          "output_type": "stream",
          "name": "stdout",
          "text": [
            "200\n"
          ]
        }
      ]
    },
    {
      "cell_type": "code",
      "source": [
        "def multiply(a , b):\n",
        "  result1 = a * b\n",
        "  result2 = a + b\n",
        "  return result1,result2\n",
        "\n",
        "number1 = 10\n",
        "number2 = 20\n",
        "\n",
        "multiply(number1, number2)"
      ],
      "metadata": {
        "colab": {
          "base_uri": "https://localhost:8080/"
        },
        "id": "x9ZR5W35Je36",
        "outputId": "3087c4a4-d898-480d-a639-cea6cb130360"
      },
      "execution_count": 42,
      "outputs": [
        {
          "output_type": "execute_result",
          "data": {
            "text/plain": [
              "(200, 30)"
            ]
          },
          "metadata": {},
          "execution_count": 42
        }
      ]
    },
    {
      "cell_type": "code",
      "source": [
        "def multiply(a , b):\n",
        "  result1 = a * b\n",
        "  result2 = a + b\n",
        "  return result1,result2\n",
        "\n",
        "number1 = 10\n",
        "number2 = 20\n",
        "\n",
        "product, sum=multiply(number1, number2)\n",
        "print(sum)\n",
        "print(product)"
      ],
      "metadata": {
        "colab": {
          "base_uri": "https://localhost:8080/"
        },
        "id": "An4bjoaFK1vS",
        "outputId": "806422e5-32c2-40ef-f6f6-e2ef4819ca7d"
      },
      "execution_count": 3,
      "outputs": [
        {
          "output_type": "stream",
          "name": "stdout",
          "text": [
            "30\n",
            "200\n"
          ]
        }
      ]
    },
    {
      "cell_type": "code",
      "source": [
        "def data(name,age):\n",
        "  print('my name is' ,name,'and my age is',age)\n",
        "\n",
        "data('Dhanu',20)"
      ],
      "metadata": {
        "colab": {
          "base_uri": "https://localhost:8080/"
        },
        "id": "9IixY4ZRPoJW",
        "outputId": "97ababbc-8121-4dec-acff-6d2b54d93fa5"
      },
      "execution_count": 5,
      "outputs": [
        {
          "output_type": "stream",
          "name": "stdout",
          "text": [
            "my name is Dhanu and my age is 20\n"
          ]
        }
      ]
    },
    {
      "cell_type": "code",
      "source": [
        "def data(name,age=20):\n",
        "  print('my name is' ,name,'and my age is',age)\n",
        "\n",
        "data('Dhanu')"
      ],
      "metadata": {
        "colab": {
          "base_uri": "https://localhost:8080/"
        },
        "id": "D41k6JNvudMn",
        "outputId": "fa099f82-0b23-47dc-9da5-e2cf16a86c7b"
      },
      "execution_count": 6,
      "outputs": [
        {
          "output_type": "stream",
          "name": "stdout",
          "text": [
            "my name is Dhanu and my age is 20\n"
          ]
        }
      ]
    },
    {
      "cell_type": "code",
      "source": [
        "def data(name,age):\n",
        "  print('my name is' ,name,'and my age is',age)\n",
        "data(20,'Dhanu')"
      ],
      "metadata": {
        "colab": {
          "base_uri": "https://localhost:8080/"
        },
        "id": "1pQFGqCyvQnO",
        "outputId": "6574fa86-d843-4ee8-982d-98eb3ef72c5d"
      },
      "execution_count": 7,
      "outputs": [
        {
          "output_type": "stream",
          "name": "stdout",
          "text": [
            "my name is 20 and my age is Dhanu\n"
          ]
        }
      ]
    },
    {
      "cell_type": "code",
      "source": [
        "def final(name,age,country):\n",
        "  print('my name is',name,'and my age is',age,'country',country)\n",
        "\n",
        "final(name = 'Dhanu',country = 'India',age = 20)\n"
      ],
      "metadata": {
        "colab": {
          "base_uri": "https://localhost:8080/"
        },
        "id": "iXkUpFRbv06m",
        "outputId": "2f18f275-f0e0-4c1a-dbec-d3d0afaef95f"
      },
      "execution_count": 15,
      "outputs": [
        {
          "output_type": "stream",
          "name": "stdout",
          "text": [
            "my name is Dhanu and my age is 20 country India\n"
          ]
        }
      ]
    },
    {
      "cell_type": "code",
      "source": [
        "def final(name,age,country):\n",
        "  print('my name is',name,'and my age is',age,'country',country)\n",
        "\n",
        "final(name = 'Dhanu',country = 'India',age = 20)\n"
      ],
      "metadata": {
        "colab": {
          "base_uri": "https://localhost:8080/"
        },
        "id": "VMYEneH3whMJ",
        "outputId": "3c54b8bd-4bb2-4b77-f384-e55b75777043"
      },
      "execution_count": 16,
      "outputs": [
        {
          "output_type": "stream",
          "name": "stdout",
          "text": [
            "my name is Dhanu and my age is 20 country India\n"
          ]
        }
      ]
    },
    {
      "cell_type": "code",
      "source": [],
      "metadata": {
        "id": "CVXCpg4-zJrv"
      },
      "execution_count": null,
      "outputs": []
    }
  ]
}