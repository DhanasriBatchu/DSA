{
  "nbformat": 4,
  "nbformat_minor": 0,
  "metadata": {
    "colab": {
      "provenance": [],
      "authorship_tag": "ABX9TyOpoe9/au45EkvkMUJ0Xr7i",
      "include_colab_link": true
    },
    "kernelspec": {
      "name": "python3",
      "display_name": "Python 3"
    },
    "language_info": {
      "name": "python"
    }
  },
  "cells": [
    {
      "cell_type": "markdown",
      "metadata": {
        "id": "view-in-github",
        "colab_type": "text"
      },
      "source": [
        "<a href=\"https://colab.research.google.com/github/DhanasriBatchu/DSA/blob/main/Sets.ipynb\" target=\"_parent\"><img src=\"https://colab.research.google.com/assets/colab-badge.svg\" alt=\"Open In Colab\"/></a>"
      ]
    },
    {
      "cell_type": "markdown",
      "source": [
        "**Sets**\n",
        "- sets are immutable data types\n",
        "- representation of sets is w.r.to : {} but not empty set"
      ],
      "metadata": {
        "id": "W-YRmsBA6XKe"
      }
    },
    {
      "cell_type": "code",
      "execution_count": null,
      "metadata": {
        "colab": {
          "base_uri": "https://localhost:8080/"
        },
        "id": "8sF86vRX6EQZ",
        "outputId": "87983e68-ff29-43fe-f9b9-23744adccef0"
      },
      "outputs": [
        {
          "output_type": "execute_result",
          "data": {
            "text/plain": [
              "str"
            ]
          },
          "metadata": {},
          "execution_count": 1
        }
      ],
      "source": [
        "a = 'python'\n",
        "type(a)"
      ]
    },
    {
      "cell_type": "code",
      "source": [
        "a = [1,2,3]\n",
        "type(a)"
      ],
      "metadata": {
        "colab": {
          "base_uri": "https://localhost:8080/"
        },
        "id": "7giimQOm6vXx",
        "outputId": "a65945f1-bf1e-4f85-b108-57092bbc132d"
      },
      "execution_count": null,
      "outputs": [
        {
          "output_type": "execute_result",
          "data": {
            "text/plain": [
              "list"
            ]
          },
          "metadata": {},
          "execution_count": 4
        }
      ]
    },
    {
      "cell_type": "code",
      "source": [
        "a = (1,2,3,4)\n",
        "print(type(a))"
      ],
      "metadata": {
        "colab": {
          "base_uri": "https://localhost:8080/"
        },
        "id": "YuqBdhna6012",
        "outputId": "bdeb7689-c22a-4165-8ce9-23daa36508c9"
      },
      "execution_count": null,
      "outputs": [
        {
          "output_type": "stream",
          "name": "stdout",
          "text": [
            "<class 'tuple'>\n"
          ]
        }
      ]
    },
    {
      "cell_type": "code",
      "source": [
        "a={1,2,4,3}\n",
        "print(type(a))"
      ],
      "metadata": {
        "colab": {
          "base_uri": "https://localhost:8080/"
        },
        "id": "DHQrUknG68iZ",
        "outputId": "ed47bcbe-298b-460d-c950-68f6a8ffb944"
      },
      "execution_count": null,
      "outputs": [
        {
          "output_type": "stream",
          "name": "stdout",
          "text": [
            "<class 'set'>\n"
          ]
        }
      ]
    },
    {
      "cell_type": "code",
      "source": [
        "a = {10,20,50,80,100,12.5,\"python\"}\n",
        "print(a)\n",
        "print(type(a))"
      ],
      "metadata": {
        "colab": {
          "base_uri": "https://localhost:8080/"
        },
        "id": "7H33WmeC7EFg",
        "outputId": "44edfd85-d77f-4814-c12d-4fa2292fe9f6"
      },
      "execution_count": null,
      "outputs": [
        {
          "output_type": "stream",
          "name": "stdout",
          "text": [
            "{80, 50, 100, 20, 'python', 10, 12.5}\n",
            "<class 'set'>\n"
          ]
        }
      ]
    },
    {
      "cell_type": "markdown",
      "source": [
        "**Rules in set**\n",
        "- Rule 1:  \n",
        "           - values are not going to store in memory allocation as in order\n",
        "           - sets are unordered pair concept\n"
      ],
      "metadata": {
        "id": "mgvWAGOm7R8V"
      }
    },
    {
      "cell_type": "code",
      "source": [
        "a = {10,20,30,50,80,100,24.6,\"python\"}\n",
        "print(a)"
      ],
      "metadata": {
        "colab": {
          "base_uri": "https://localhost:8080/"
        },
        "id": "DhwkvTM27QSk",
        "outputId": "cecb9415-84ac-425b-eee5-ebfcb594fc52"
      },
      "execution_count": null,
      "outputs": [
        {
          "output_type": "stream",
          "name": "stdout",
          "text": [
            "{100, 10, 80, 50, 20, 'python', 24.6, 30}\n"
          ]
        }
      ]
    },
    {
      "cell_type": "markdown",
      "source": [
        "- the values will not accessed with index position because the values are different and saving in memory space is different"
      ],
      "metadata": {
        "id": "kUZ481pZ8Hwr"
      }
    },
    {
      "cell_type": "code",
      "source": [
        "a = {10,20,30,50,80,100,24.6,\"python\"}\n",
        "print(a[1])"
      ],
      "metadata": {
        "colab": {
          "base_uri": "https://localhost:8080/",
          "height": 158
        },
        "id": "Ybdz5fje7_AC",
        "outputId": "090f79a8-0eff-4502-aa1f-b22e81067cc0"
      },
      "execution_count": null,
      "outputs": [
        {
          "output_type": "error",
          "ename": "TypeError",
          "evalue": "'set' object is not subscriptable",
          "traceback": [
            "\u001b[0;31m---------------------------------------------------------------------------\u001b[0m",
            "\u001b[0;31mTypeError\u001b[0m                                 Traceback (most recent call last)",
            "\u001b[0;32m/tmp/ipython-input-10-2110479153.py\u001b[0m in \u001b[0;36m<cell line: 0>\u001b[0;34m()\u001b[0m\n\u001b[1;32m      1\u001b[0m \u001b[0ma\u001b[0m \u001b[0;34m=\u001b[0m \u001b[0;34m{\u001b[0m\u001b[0;36m10\u001b[0m\u001b[0;34m,\u001b[0m\u001b[0;36m20\u001b[0m\u001b[0;34m,\u001b[0m\u001b[0;36m30\u001b[0m\u001b[0;34m,\u001b[0m\u001b[0;36m50\u001b[0m\u001b[0;34m,\u001b[0m\u001b[0;36m80\u001b[0m\u001b[0;34m,\u001b[0m\u001b[0;36m100\u001b[0m\u001b[0;34m,\u001b[0m\u001b[0;36m24.6\u001b[0m\u001b[0;34m,\u001b[0m\u001b[0;34m\"python\"\u001b[0m\u001b[0;34m}\u001b[0m\u001b[0;34m\u001b[0m\u001b[0;34m\u001b[0m\u001b[0m\n\u001b[0;32m----> 2\u001b[0;31m \u001b[0mprint\u001b[0m\u001b[0;34m(\u001b[0m\u001b[0ma\u001b[0m\u001b[0;34m[\u001b[0m\u001b[0;36m1\u001b[0m\u001b[0;34m]\u001b[0m\u001b[0;34m)\u001b[0m\u001b[0;34m\u001b[0m\u001b[0;34m\u001b[0m\u001b[0m\n\u001b[0m",
            "\u001b[0;31mTypeError\u001b[0m: 'set' object is not subscriptable"
          ]
        }
      ]
    },
    {
      "cell_type": "code",
      "source": [
        "a = {10,20,30,50,80,100,24.6,\"python\"}\n",
        "print(a[1])"
      ],
      "metadata": {
        "colab": {
          "base_uri": "https://localhost:8080/",
          "height": 158
        },
        "id": "X4Nn3Ago8i6t",
        "outputId": "270a79c8-900f-4fa8-d3be-88e9a168e64d"
      },
      "execution_count": null,
      "outputs": [
        {
          "output_type": "error",
          "ename": "TypeError",
          "evalue": "'set' object is not subscriptable",
          "traceback": [
            "\u001b[0;31m---------------------------------------------------------------------------\u001b[0m",
            "\u001b[0;31mTypeError\u001b[0m                                 Traceback (most recent call last)",
            "\u001b[0;32m/tmp/ipython-input-11-2110479153.py\u001b[0m in \u001b[0;36m<cell line: 0>\u001b[0;34m()\u001b[0m\n\u001b[1;32m      1\u001b[0m \u001b[0ma\u001b[0m \u001b[0;34m=\u001b[0m \u001b[0;34m{\u001b[0m\u001b[0;36m10\u001b[0m\u001b[0;34m,\u001b[0m\u001b[0;36m20\u001b[0m\u001b[0;34m,\u001b[0m\u001b[0;36m30\u001b[0m\u001b[0;34m,\u001b[0m\u001b[0;36m50\u001b[0m\u001b[0;34m,\u001b[0m\u001b[0;36m80\u001b[0m\u001b[0;34m,\u001b[0m\u001b[0;36m100\u001b[0m\u001b[0;34m,\u001b[0m\u001b[0;36m24.6\u001b[0m\u001b[0;34m,\u001b[0m\u001b[0;34m\"python\"\u001b[0m\u001b[0;34m}\u001b[0m\u001b[0;34m\u001b[0m\u001b[0;34m\u001b[0m\u001b[0m\n\u001b[0;32m----> 2\u001b[0;31m \u001b[0mprint\u001b[0m\u001b[0;34m(\u001b[0m\u001b[0ma\u001b[0m\u001b[0;34m[\u001b[0m\u001b[0;36m1\u001b[0m\u001b[0;34m]\u001b[0m\u001b[0;34m)\u001b[0m\u001b[0;34m\u001b[0m\u001b[0;34m\u001b[0m\u001b[0m\n\u001b[0m",
            "\u001b[0;31mTypeError\u001b[0m: 'set' object is not subscriptable"
          ]
        }
      ]
    },
    {
      "cell_type": "markdown",
      "source": [
        "- **Rule 2**:\n",
        "       - duplicate values are not allowed\n",
        "       "
      ],
      "metadata": {
        "id": "gNRTtOIZ8qU1"
      }
    },
    {
      "cell_type": "code",
      "source": [
        "a = {10,20,10,30,40,10}\n",
        "print(a)"
      ],
      "metadata": {
        "colab": {
          "base_uri": "https://localhost:8080/"
        },
        "id": "Ua6-RYTz8o1V",
        "outputId": "9b40fd53-8e3d-4a45-e016-baf8a699f6a1"
      },
      "execution_count": null,
      "outputs": [
        {
          "output_type": "stream",
          "name": "stdout",
          "text": [
            "{40, 10, 20, 30}\n"
          ]
        }
      ]
    },
    {
      "cell_type": "markdown",
      "source": [
        "- Duplicates removed and outcomes un ordered"
      ],
      "metadata": {
        "id": "QVLB46849DBW"
      }
    },
    {
      "cell_type": "markdown",
      "source": [],
      "metadata": {
        "id": "jaH2-LaX9UXi"
      }
    },
    {
      "cell_type": "code",
      "source": [],
      "metadata": {
        "colab": {
          "base_uri": "https://localhost:8080/"
        },
        "id": "AD7ovHVa8-9K",
        "outputId": "d7f2c212-44aa-447c-8f12-e77cddbdbbf8"
      },
      "execution_count": null,
      "outputs": [
        {
          "output_type": "stream",
          "name": "stdout",
          "text": [
            "{40, 10, 20, 30}\n"
          ]
        }
      ]
    },
    {
      "cell_type": "markdown",
      "source": [
        "**Rule 3**\n",
        "- you can give int,str,float and immutable data types to the set\n",
        "\n"
      ],
      "metadata": {
        "id": "9B4NJZ3m9c85"
      }
    },
    {
      "cell_type": "code",
      "source": [
        "a = {10,12.5,'python',(100,200,300)}\n",
        "print(a)"
      ],
      "metadata": {
        "colab": {
          "base_uri": "https://localhost:8080/"
        },
        "id": "EgiAk33T9R94",
        "outputId": "493a5f6b-2325-4751-89e3-dbfe78a81f4d"
      },
      "execution_count": null,
      "outputs": [
        {
          "output_type": "stream",
          "name": "stdout",
          "text": [
            "{'python', 10, 12.5, (100, 200, 300)}\n"
          ]
        }
      ]
    },
    {
      "cell_type": "markdown",
      "source": [
        "**Rule 4**\n",
        "- you cannot assain mutable data type to a set"
      ],
      "metadata": {
        "id": "bsH3b3gEHFKA"
      }
    },
    {
      "cell_type": "code",
      "source": [
        "a = {10,12.5,'python',[200,100,300]}\n",
        "print(a)     #List is mutable"
      ],
      "metadata": {
        "colab": {
          "base_uri": "https://localhost:8080/",
          "height": 158
        },
        "id": "P3WjB2JvGnRR",
        "outputId": "c283f57c-3fa1-4782-deb8-8aae051c0f1f"
      },
      "execution_count": null,
      "outputs": [
        {
          "output_type": "error",
          "ename": "TypeError",
          "evalue": "unhashable type: 'list'",
          "traceback": [
            "\u001b[0;31m---------------------------------------------------------------------------\u001b[0m",
            "\u001b[0;31mTypeError\u001b[0m                                 Traceback (most recent call last)",
            "\u001b[0;32m/tmp/ipython-input-16-1483196990.py\u001b[0m in \u001b[0;36m<cell line: 0>\u001b[0;34m()\u001b[0m\n\u001b[0;32m----> 1\u001b[0;31m \u001b[0ma\u001b[0m \u001b[0;34m=\u001b[0m \u001b[0;34m{\u001b[0m\u001b[0;36m10\u001b[0m\u001b[0;34m,\u001b[0m\u001b[0;36m12.5\u001b[0m\u001b[0;34m,\u001b[0m\u001b[0;34m'python'\u001b[0m\u001b[0;34m,\u001b[0m\u001b[0;34m[\u001b[0m\u001b[0;36m200\u001b[0m\u001b[0;34m,\u001b[0m\u001b[0;36m100\u001b[0m\u001b[0;34m,\u001b[0m\u001b[0;36m300\u001b[0m\u001b[0;34m]\u001b[0m\u001b[0;34m}\u001b[0m\u001b[0;34m\u001b[0m\u001b[0;34m\u001b[0m\u001b[0m\n\u001b[0m\u001b[1;32m      2\u001b[0m \u001b[0mprint\u001b[0m\u001b[0;34m(\u001b[0m\u001b[0ma\u001b[0m\u001b[0;34m)\u001b[0m     \u001b[0;31m#List is mutable\u001b[0m\u001b[0;34m\u001b[0m\u001b[0;34m\u001b[0m\u001b[0m\n",
            "\u001b[0;31mTypeError\u001b[0m: unhashable type: 'list'"
          ]
        }
      ]
    },
    {
      "cell_type": "markdown",
      "source": [
        "- sets are mutable we have to verify\n",
        "    - Add a value to existing a memory space\n",
        "    - delete a value from a memory space\n",
        "    - replacing a value from the memory space"
      ],
      "metadata": {
        "id": "zl2tUkLrJTOB"
      }
    },
    {
      "cell_type": "code",
      "source": [
        "b  = {10,12.5,50.4,'python','science'}\n",
        "print(b)"
      ],
      "metadata": {
        "colab": {
          "base_uri": "https://localhost:8080/"
        },
        "id": "DMDdbJNNJKqu",
        "outputId": "3f0b21b6-2634-4374-c3ea-6f366e4a2bfe"
      },
      "execution_count": null,
      "outputs": [
        {
          "output_type": "stream",
          "name": "stdout",
          "text": [
            "{50.4, 'science', 'python', 10, 12.5}\n"
          ]
        }
      ]
    },
    {
      "cell_type": "code",
      "source": [
        "b  = {10,12.5,50.4,'python','science'}\n",
        "print(b)\n",
        "b.add(500.8)  #we cannot say where the data added but the memory space will be increased\n",
        "print(b)"
      ],
      "metadata": {
        "colab": {
          "base_uri": "https://localhost:8080/"
        },
        "id": "3UFoXjhiJ3SK",
        "outputId": "371c9b05-e408-41c2-d19c-da0910481256"
      },
      "execution_count": null,
      "outputs": [
        {
          "output_type": "stream",
          "name": "stdout",
          "text": [
            "{50.4, 'science', 'python', 10, 12.5}\n",
            "{50.4, 500.8, 'science', 'python', 10, 12.5}\n"
          ]
        }
      ]
    },
    {
      "cell_type": "code",
      "source": [
        "b  = {10,12.5,50.4,'python','science'}\n",
        "del b[0]   #it doesent support item deletion in index we can use any other approach\n",
        "print(b)"
      ],
      "metadata": {
        "colab": {
          "base_uri": "https://localhost:8080/",
          "height": 176
        },
        "id": "9xgYNdRgJ-kT",
        "outputId": "b3131638-cfd0-4d9e-bced-285450a709da"
      },
      "execution_count": null,
      "outputs": [
        {
          "output_type": "error",
          "ename": "TypeError",
          "evalue": "'set' object doesn't support item deletion",
          "traceback": [
            "\u001b[0;31m---------------------------------------------------------------------------\u001b[0m",
            "\u001b[0;31mTypeError\u001b[0m                                 Traceback (most recent call last)",
            "\u001b[0;32m/tmp/ipython-input-28-2312251275.py\u001b[0m in \u001b[0;36m<cell line: 0>\u001b[0;34m()\u001b[0m\n\u001b[1;32m      1\u001b[0m \u001b[0mb\u001b[0m  \u001b[0;34m=\u001b[0m \u001b[0;34m{\u001b[0m\u001b[0;36m10\u001b[0m\u001b[0;34m,\u001b[0m\u001b[0;36m12.5\u001b[0m\u001b[0;34m,\u001b[0m\u001b[0;36m50.4\u001b[0m\u001b[0;34m,\u001b[0m\u001b[0;34m'python'\u001b[0m\u001b[0;34m,\u001b[0m\u001b[0;34m'science'\u001b[0m\u001b[0;34m}\u001b[0m\u001b[0;34m\u001b[0m\u001b[0;34m\u001b[0m\u001b[0m\n\u001b[0;32m----> 2\u001b[0;31m \u001b[0;32mdel\u001b[0m \u001b[0mb\u001b[0m\u001b[0;34m[\u001b[0m\u001b[0;36m0\u001b[0m\u001b[0;34m]\u001b[0m   \u001b[0;31m#it doesent support item deletion in index we can use any other approach\u001b[0m\u001b[0;34m\u001b[0m\u001b[0;34m\u001b[0m\u001b[0m\n\u001b[0m\u001b[1;32m      3\u001b[0m \u001b[0mprint\u001b[0m\u001b[0;34m(\u001b[0m\u001b[0mb\u001b[0m\u001b[0;34m)\u001b[0m\u001b[0;34m\u001b[0m\u001b[0;34m\u001b[0m\u001b[0m\n",
            "\u001b[0;31mTypeError\u001b[0m: 'set' object doesn't support item deletion"
          ]
        }
      ]
    },
    {
      "cell_type": "markdown",
      "source": [
        "- Discard - find the value and delete the value"
      ],
      "metadata": {
        "id": "AvoTDiFwLJZL"
      }
    },
    {
      "cell_type": "code",
      "source": [
        "b  = {10,12.5,50.4,'python','science'}\n",
        "b.discard(10)\n",
        "print(b)"
      ],
      "metadata": {
        "colab": {
          "base_uri": "https://localhost:8080/"
        },
        "id": "SnnfFseHKiKL",
        "outputId": "46de8816-8122-400e-a5ad-0ff7a3949bf3"
      },
      "execution_count": null,
      "outputs": [
        {
          "output_type": "stream",
          "name": "stdout",
          "text": [
            "{50.4, 'science', 'python', 12.5}\n"
          ]
        }
      ]
    },
    {
      "cell_type": "code",
      "source": [
        "# replace\n",
        "\n",
        "b  = {10,12.5,50.4,'python','science'}\n",
        "b [1] = 1221\n",
        "print(b)"
      ],
      "metadata": {
        "colab": {
          "base_uri": "https://localhost:8080/",
          "height": 193
        },
        "id": "xNGG5CqyLVgi",
        "outputId": "29a1c792-efc1-4a84-a115-8f7e90370da6"
      },
      "execution_count": null,
      "outputs": [
        {
          "output_type": "error",
          "ename": "TypeError",
          "evalue": "'set' object does not support item assignment",
          "traceback": [
            "\u001b[0;31m---------------------------------------------------------------------------\u001b[0m",
            "\u001b[0;31mTypeError\u001b[0m                                 Traceback (most recent call last)",
            "\u001b[0;32m/tmp/ipython-input-32-997305744.py\u001b[0m in \u001b[0;36m<cell line: 0>\u001b[0;34m()\u001b[0m\n\u001b[1;32m      2\u001b[0m \u001b[0;34m\u001b[0m\u001b[0m\n\u001b[1;32m      3\u001b[0m \u001b[0mb\u001b[0m  \u001b[0;34m=\u001b[0m \u001b[0;34m{\u001b[0m\u001b[0;36m10\u001b[0m\u001b[0;34m,\u001b[0m\u001b[0;36m12.5\u001b[0m\u001b[0;34m,\u001b[0m\u001b[0;36m50.4\u001b[0m\u001b[0;34m,\u001b[0m\u001b[0;34m'python'\u001b[0m\u001b[0;34m,\u001b[0m\u001b[0;34m'science'\u001b[0m\u001b[0;34m}\u001b[0m\u001b[0;34m\u001b[0m\u001b[0;34m\u001b[0m\u001b[0m\n\u001b[0;32m----> 4\u001b[0;31m \u001b[0mb\u001b[0m \u001b[0;34m[\u001b[0m\u001b[0;36m1\u001b[0m\u001b[0;34m]\u001b[0m \u001b[0;34m=\u001b[0m \u001b[0;36m1221\u001b[0m\u001b[0;34m\u001b[0m\u001b[0;34m\u001b[0m\u001b[0m\n\u001b[0m\u001b[1;32m      5\u001b[0m \u001b[0mprint\u001b[0m\u001b[0;34m(\u001b[0m\u001b[0mb\u001b[0m\u001b[0;34m)\u001b[0m\u001b[0;34m\u001b[0m\u001b[0;34m\u001b[0m\u001b[0m\n",
            "\u001b[0;31mTypeError\u001b[0m: 'set' object does not support item assignment"
          ]
        }
      ]
    },
    {
      "cell_type": "markdown",
      "source": [
        "-  with index replace is not possible and there is no pre trained methods.\n",
        "-  because it is not following an order so it cannot replace a value in the memory space\n",
        "- but if you want to change then change set to list and replace it"
      ],
      "metadata": {
        "id": "Z9dLI2TQLuAj"
      }
    },
    {
      "cell_type": "markdown",
      "source": [
        "**Important pre trained methods**"
      ],
      "metadata": {
        "id": "GgWsQMAdNnCA"
      }
    },
    {
      "cell_type": "code",
      "source": [
        "b  = {10,12.5,50.4,'python','science'}\n",
        "print(b)\n",
        "b.add(55.8)\n",
        "print(b)"
      ],
      "metadata": {
        "colab": {
          "base_uri": "https://localhost:8080/"
        },
        "id": "n3mMY7nmLiEH",
        "outputId": "cf02e824-8fc8-4faa-aa9c-f47fa6218574"
      },
      "execution_count": null,
      "outputs": [
        {
          "output_type": "stream",
          "name": "stdout",
          "text": [
            "{50.4, 'science', 'python', 10, 12.5}\n",
            "{50.4, 55.8, 'science', 'python', 10, 12.5}\n"
          ]
        }
      ]
    },
    {
      "cell_type": "code",
      "source": [
        "b ={10,12.5,50.4,'data','science'}\n",
        "b.update(10,300)\n",
        "print(b)"
      ],
      "metadata": {
        "colab": {
          "base_uri": "https://localhost:8080/",
          "height": 176
        },
        "id": "ZIYuVyAiMgGd",
        "outputId": "a1188a97-e581-410c-97fb-1d705836971b"
      },
      "execution_count": null,
      "outputs": [
        {
          "output_type": "error",
          "ename": "TypeError",
          "evalue": "'int' object is not iterable",
          "traceback": [
            "\u001b[0;31m---------------------------------------------------------------------------\u001b[0m",
            "\u001b[0;31mTypeError\u001b[0m                                 Traceback (most recent call last)",
            "\u001b[0;32m/tmp/ipython-input-35-159102120.py\u001b[0m in \u001b[0;36m<cell line: 0>\u001b[0;34m()\u001b[0m\n\u001b[1;32m      1\u001b[0m \u001b[0mb\u001b[0m \u001b[0;34m=\u001b[0m\u001b[0;34m{\u001b[0m\u001b[0;36m10\u001b[0m\u001b[0;34m,\u001b[0m\u001b[0;36m12.5\u001b[0m\u001b[0;34m,\u001b[0m\u001b[0;36m50.4\u001b[0m\u001b[0;34m,\u001b[0m\u001b[0;34m'data'\u001b[0m\u001b[0;34m,\u001b[0m\u001b[0;34m'science'\u001b[0m\u001b[0;34m}\u001b[0m\u001b[0;34m\u001b[0m\u001b[0;34m\u001b[0m\u001b[0m\n\u001b[0;32m----> 2\u001b[0;31m \u001b[0mb\u001b[0m\u001b[0;34m.\u001b[0m\u001b[0mupdate\u001b[0m\u001b[0;34m(\u001b[0m\u001b[0;36m10\u001b[0m\u001b[0;34m,\u001b[0m\u001b[0;36m300\u001b[0m\u001b[0;34m)\u001b[0m\u001b[0;34m\u001b[0m\u001b[0;34m\u001b[0m\u001b[0m\n\u001b[0m\u001b[1;32m      3\u001b[0m \u001b[0mprint\u001b[0m\u001b[0;34m(\u001b[0m\u001b[0mb\u001b[0m\u001b[0;34m)\u001b[0m\u001b[0;34m\u001b[0m\u001b[0;34m\u001b[0m\u001b[0m\n",
            "\u001b[0;31mTypeError\u001b[0m: 'int' object is not iterable"
          ]
        }
      ]
    },
    {
      "cell_type": "markdown",
      "source": [
        "- ADD - adding a value to the memory space but we cannot guess where the value is going to assain\n",
        "- UPDATE - insted of adding a single value we can add multiple value\n",
        "- clear - It is going to remove each value in aset and memory space will be empty"
      ],
      "metadata": {
        "id": "0V08eC3YODcV"
      }
    },
    {
      "cell_type": "code",
      "source": [
        "b  = {10,12.5,50.4,'python','science'}\n",
        "b.clear()\n",
        "print(b)      # it meanse an empty set"
      ],
      "metadata": {
        "colab": {
          "base_uri": "https://localhost:8080/"
        },
        "id": "Yji1GMVtN-9d",
        "outputId": "83d67678-770d-4bb1-ef1c-d855456463f7"
      },
      "execution_count": null,
      "outputs": [
        {
          "output_type": "stream",
          "name": "stdout",
          "text": [
            "set()\n"
          ]
        }
      ]
    },
    {
      "cell_type": "code",
      "source": [
        "# copy - assaining a value of 1variable to another\n",
        "\n",
        "b  = {10,12.5,50.4,'python','science'}\n",
        "c = b.copy()\n",
        "print(b)\n",
        "print(c)\n",
        "\n",
        "\n"
      ],
      "metadata": {
        "colab": {
          "base_uri": "https://localhost:8080/"
        },
        "id": "U0v8BE9NP8kd",
        "outputId": "447d3d75-e5dc-4ed5-f3b2-790c21b50e17"
      },
      "execution_count": null,
      "outputs": [
        {
          "output_type": "stream",
          "name": "stdout",
          "text": [
            "{50.4, 'science', 'python', 10, 12.5}\n",
            "{50.4, 'science', 'python', 10, 12.5}\n"
          ]
        }
      ]
    },
    {
      "cell_type": "code",
      "source": [
        "# remove - remove method will remove a value if it exists or else it throughs an error\n",
        "\n",
        "b  = {10,12.5,50.4,'python','science'}\n",
        "b.remove(10)\n",
        "print(b)"
      ],
      "metadata": {
        "colab": {
          "base_uri": "https://localhost:8080/"
        },
        "id": "OWmKAhCyQoEf",
        "outputId": "fe87382a-f1d0-4863-f08c-9978aa366d88"
      },
      "execution_count": null,
      "outputs": [
        {
          "output_type": "stream",
          "name": "stdout",
          "text": [
            "{50.4, 'science', 'python', 12.5}\n"
          ]
        }
      ]
    },
    {
      "cell_type": "code",
      "source": [
        "# discard - if a value present in variable it is going to delete or else it will\n",
        "#print the same variable as an outcome and it is going to throughs an error\n",
        "b  = {10,12.5,50.4,'python','science'}\n",
        "b.discard(10)\n",
        "print(b)"
      ],
      "metadata": {
        "colab": {
          "base_uri": "https://localhost:8080/"
        },
        "id": "xX3ZWWIhQurE",
        "outputId": "c5a8fafe-b099-4d3c-c554-b41b53903796"
      },
      "execution_count": null,
      "outputs": [
        {
          "output_type": "stream",
          "name": "stdout",
          "text": [
            "{50.4, 'science', 'python', 12.5}\n"
          ]
        }
      ]
    },
    {
      "cell_type": "code",
      "source": [
        "b  = {10,12.5,50.4,'python','science'}\n",
        "b.discard(15)\n",
        "print(b)"
      ],
      "metadata": {
        "colab": {
          "base_uri": "https://localhost:8080/"
        },
        "id": "qVC9tvhWReJ8",
        "outputId": "c76b39bf-7a6f-4786-a027-371997ce1131"
      },
      "execution_count": null,
      "outputs": [
        {
          "output_type": "stream",
          "name": "stdout",
          "text": [
            "{50.4, 'science', 'python', 10, 12.5}\n"
          ]
        }
      ]
    },
    {
      "cell_type": "code",
      "source": [
        "b  = {10,12.5,50.4,'python','science'}\n",
        "b.remove(10)\n",
        "print(b)"
      ],
      "metadata": {
        "colab": {
          "base_uri": "https://localhost:8080/"
        },
        "id": "75ARkafcR8jq",
        "outputId": "c3ae5e8f-1617-42ca-c53f-17714dbbea3f"
      },
      "execution_count": null,
      "outputs": [
        {
          "output_type": "stream",
          "name": "stdout",
          "text": [
            "{50.4, 'science', 'python', 12.5}\n"
          ]
        }
      ]
    },
    {
      "cell_type": "code",
      "source": [
        "b  = {10,12.5,50.4,'python','science'}\n",
        "b.remove(100)\n",
        "print(b)"
      ],
      "metadata": {
        "colab": {
          "base_uri": "https://localhost:8080/",
          "height": 176
        },
        "id": "y9SU4RTxSERK",
        "outputId": "e76ac47d-5025-415b-f8d4-9e0ddbe9e0a8"
      },
      "execution_count": null,
      "outputs": [
        {
          "output_type": "error",
          "ename": "KeyError",
          "evalue": "100",
          "traceback": [
            "\u001b[0;31m---------------------------------------------------------------------------\u001b[0m",
            "\u001b[0;31mKeyError\u001b[0m                                  Traceback (most recent call last)",
            "\u001b[0;32m/tmp/ipython-input-51-2887498633.py\u001b[0m in \u001b[0;36m<cell line: 0>\u001b[0;34m()\u001b[0m\n\u001b[1;32m      1\u001b[0m \u001b[0mb\u001b[0m  \u001b[0;34m=\u001b[0m \u001b[0;34m{\u001b[0m\u001b[0;36m10\u001b[0m\u001b[0;34m,\u001b[0m\u001b[0;36m12.5\u001b[0m\u001b[0;34m,\u001b[0m\u001b[0;36m50.4\u001b[0m\u001b[0;34m,\u001b[0m\u001b[0;34m'python'\u001b[0m\u001b[0;34m,\u001b[0m\u001b[0;34m'science'\u001b[0m\u001b[0;34m}\u001b[0m\u001b[0;34m\u001b[0m\u001b[0;34m\u001b[0m\u001b[0m\n\u001b[0;32m----> 2\u001b[0;31m \u001b[0mb\u001b[0m\u001b[0;34m.\u001b[0m\u001b[0mremove\u001b[0m\u001b[0;34m(\u001b[0m\u001b[0;36m100\u001b[0m\u001b[0;34m)\u001b[0m\u001b[0;34m\u001b[0m\u001b[0;34m\u001b[0m\u001b[0m\n\u001b[0m\u001b[1;32m      3\u001b[0m \u001b[0mprint\u001b[0m\u001b[0;34m(\u001b[0m\u001b[0mb\u001b[0m\u001b[0;34m)\u001b[0m\u001b[0;34m\u001b[0m\u001b[0;34m\u001b[0m\u001b[0m\n",
            "\u001b[0;31mKeyError\u001b[0m: 100"
          ]
        }
      ]
    },
    {
      "cell_type": "code",
      "source": [
        "b  = {10,50.4,'dragon','python','science'}\n",
        "b.pop()\n",
        "print(b)"
      ],
      "metadata": {
        "colab": {
          "base_uri": "https://localhost:8080/"
        },
        "id": "nInz575hSMXf",
        "outputId": "11c63d29-5261-49c0-8766-b6e4e0e04996"
      },
      "execution_count": null,
      "outputs": [
        {
          "output_type": "stream",
          "name": "stdout",
          "text": [
            "{'dragon', 'science', 'python', 10}\n"
          ]
        }
      ]
    },
    {
      "cell_type": "markdown",
      "source": [
        "- pop - in list pop method defaultly going to remove the last value and if pop(2) meanse 2 is an index the value in 2nd index is going to remove\n",
        "\n",
        "- pop - in set pop method will remove the random value which is in memory space and like list you cannot remove a value with index"
      ],
      "metadata": {
        "id": "HYu1lXQQSs4S"
      }
    },
    {
      "cell_type": "code",
      "source": [
        "b  = {10,12.5,50.4,'python','science','data'}\n",
        "print(b)\n",
        "b.pop()\n",
        "print(b)"
      ],
      "metadata": {
        "colab": {
          "base_uri": "https://localhost:8080/"
        },
        "id": "IPyRFfTkST2m",
        "outputId": "f6e4898f-aca1-4904-ea36-ecd9218c426f"
      },
      "execution_count": null,
      "outputs": [
        {
          "output_type": "stream",
          "name": "stdout",
          "text": [
            "{50.4, 'science', 'python', 10, 12.5, 'data'}\n",
            "{'science', 'python', 10, 12.5, 'data'}\n"
          ]
        }
      ]
    },
    {
      "cell_type": "code",
      "source": [
        "# Union\n",
        "\n",
        "a ={1,2,3,4,5,6,7}\n",
        "b ={9,10,11,12,13,14}\n",
        "print(a.union(b))"
      ],
      "metadata": {
        "colab": {
          "base_uri": "https://localhost:8080/"
        },
        "id": "mLRNvrK_Tk7g",
        "outputId": "cedcf90e-6d45-40f5-c6f0-20ec38bad0a3"
      },
      "execution_count": null,
      "outputs": [
        {
          "output_type": "stream",
          "name": "stdout",
          "text": [
            "{1, 2, 3, 4, 5, 6, 7, 9, 10, 11, 12, 13, 14}\n"
          ]
        }
      ]
    },
    {
      "cell_type": "code",
      "source": [
        "a ={1,2,3,4,5,6,7}\n",
        "b = {10,11,12,6}   # common values removed & we use union symbol as |\n",
        "print(a | b)"
      ],
      "metadata": {
        "colab": {
          "base_uri": "https://localhost:8080/"
        },
        "id": "gxo7doh8UNyz",
        "outputId": "d432489b-ea7f-41d9-e2bb-9a0d8bce0e3b"
      },
      "execution_count": null,
      "outputs": [
        {
          "output_type": "stream",
          "name": "stdout",
          "text": [
            "{1, 2, 3, 4, 5, 6, 7, 10, 11, 12}\n"
          ]
        }
      ]
    },
    {
      "cell_type": "code",
      "source": [
        "a ={1,2,3,4,5,6,7,9}\n",
        "b ={9,10,11,12,13,14}   # 2 sets having same values\n",
        "print(a.intersection(b))"
      ],
      "metadata": {
        "colab": {
          "base_uri": "https://localhost:8080/"
        },
        "id": "0es003dEUdwJ",
        "outputId": "1380d4a4-4c08-44dc-8f7a-b1ca5a2a65e8"
      },
      "execution_count": null,
      "outputs": [
        {
          "output_type": "stream",
          "name": "stdout",
          "text": [
            "{9}\n"
          ]
        }
      ]
    },
    {
      "cell_type": "code",
      "source": [
        "# intersection\n",
        "\n",
        "a= {1,2,3,4,5,6}\n",
        "b = {10,11,12,6}\n",
        "a.intersection(b)\n",
        "print(a)"
      ],
      "metadata": {
        "id": "QJ4L3V_UU6k3",
        "colab": {
          "base_uri": "https://localhost:8080/"
        },
        "outputId": "f87ec67c-1c19-4b66-b588-651d30014330"
      },
      "execution_count": 1,
      "outputs": [
        {
          "output_type": "stream",
          "name": "stdout",
          "text": [
            "{1, 2, 3, 4, 5, 6}\n"
          ]
        }
      ]
    },
    {
      "cell_type": "code",
      "source": [
        "a = {1,2,3,4,5,6}\n",
        "b = {10,11,12,6}\n",
        "print(a & b)"
      ],
      "metadata": {
        "colab": {
          "base_uri": "https://localhost:8080/"
        },
        "id": "WLyjBQfgUQjp",
        "outputId": "66190e13-807c-45e8-f6dc-c30307b82cb5"
      },
      "execution_count": 2,
      "outputs": [
        {
          "output_type": "stream",
          "name": "stdout",
          "text": [
            "{6}\n"
          ]
        }
      ]
    },
    {
      "cell_type": "code",
      "source": [
        "# empty set\n",
        "\n",
        "a = set()\n",
        "a.update([10,20,30])\n",
        "print(a)"
      ],
      "metadata": {
        "colab": {
          "base_uri": "https://localhost:8080/"
        },
        "id": "k_KWx8jJUUYG",
        "outputId": "6a51d166-5364-43f5-b07a-39bdb9536364"
      },
      "execution_count": 3,
      "outputs": [
        {
          "output_type": "stream",
          "name": "stdout",
          "text": [
            "{10, 20, 30}\n"
          ]
        }
      ]
    },
    {
      "cell_type": "code",
      "source": [],
      "metadata": {
        "id": "WFp5P_X2UkpO"
      },
      "execution_count": null,
      "outputs": []
    }
  ]
}