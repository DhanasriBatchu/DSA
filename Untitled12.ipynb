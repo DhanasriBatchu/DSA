{
  "cells": [
    {
      "cell_type": "markdown",
      "metadata": {
        "id": "view-in-github",
        "colab_type": "text"
      },
      "source": [
        "<a href=\"https://colab.research.google.com/github/DhanasriBatchu/DSA/blob/main/Untitled12.ipynb\" target=\"_parent\"><img src=\"https://colab.research.google.com/assets/colab-badge.svg\" alt=\"Open In Colab\"/></a>"
      ]
    },
    {
      "cell_type": "markdown",
      "metadata": {
        "id": "UH5JQMFlM2N8"
      },
      "source": [
        "--- **check if a Number Is Positive Or Negative**\n",
        "\n",
        "- Given an integer input, the objective is check whether the given integer is Positive or Negative. In order to do so we have the following method,\n",
        "\n",
        " -  Method 1: Using Brute Force\n",
        " -  Method 2: Using Nested if-else Statements\n",
        " **bold text**-  Method 3: Using ternary operator"
      ]
    },
    {
      "cell_type": "code",
      "execution_count": null,
      "metadata": {
        "colab": {
          "base_uri": "https://localhost:8080/"
        },
        "id": "EihG9Z-NM13x",
        "outputId": "8277e331-ca0a-45be-bd10-515930026705"
      },
      "outputs": [
        {
          "name": "stdout",
          "output_type": "stream",
          "text": [
            "Positive\n"
          ]
        }
      ],
      "source": [
        "# 1.Brute fource\n",
        "\n",
        "n =15\n",
        "if n>0:\n",
        "  print(\"Positive\")\n",
        "elif n==0:\n",
        "  print(\"Negative\")\n",
        "else:\n",
        "  print(\"Negative\")"
      ]
    },
    {
      "cell_type": "code",
      "execution_count": null,
      "metadata": {
        "colab": {
          "base_uri": "https://localhost:8080/"
        },
        "id": "OzF5_SB3My3o",
        "outputId": "19d36187-854f-4eb5-a1ba-99e11f9ff68b"
      },
      "outputs": [
        {
          "name": "stdout",
          "output_type": "stream",
          "text": [
            "Positive\n"
          ]
        }
      ],
      "source": [
        "# Nested if else method\n",
        "\n",
        "n = 15\n",
        "if n>0:\n",
        "  if n == 0:\n",
        "    print(\"Zero\")\n",
        "  else:\n",
        "    print(\"Positive\")\n",
        "else:\n",
        "  print(\"Negative\")"
      ]
    },
    {
      "cell_type": "code",
      "execution_count": null,
      "metadata": {
        "colab": {
          "base_uri": "https://localhost:8080/"
        },
        "id": "t07FViWAOP1B",
        "outputId": "64cd6906-391c-4b4b-b2a6-7ac329959a20"
      },
      "outputs": [
        {
          "name": "stdout",
          "output_type": "stream",
          "text": [
            "Positive\n"
          ]
        }
      ],
      "source": [
        "# terinary operator\n",
        "\n",
        "n =15\n",
        "print(\"Positive\" if n >= 0 else \"Negative\")"
      ]
    },
    {
      "cell_type": "markdown",
      "metadata": {
        "id": "HY12HCXyO-25"
      },
      "source": [
        "---**Check Whether a Number is Even or Odd**\n",
        " -  Given an integer input the objective is to write a Python code to Check Whether a Number is Even or Odd. To do so the main idea is to divide the number by 2 and check if it’s divisible or not. It’s an Even number is it’s perfectly divisible by 2 or an Odd number otherwise.\n",
        "\n",
        "- Here are the Methods to solve the above mentioned problem,\n",
        "\n",
        "   -  Method 1 : Using Brute Force\n",
        "   -  Method 2 : Using Ternary Operator\n",
        "   -  Method 3 : Using Bitwise Operators"
      ]
    },
    {
      "cell_type": "code",
      "execution_count": null,
      "metadata": {
        "colab": {
          "base_uri": "https://localhost:8080/"
        },
        "id": "rNsPTelhOfmo",
        "outputId": "16e3bb35-3fb6-4a81-c15d-f572cec5047d"
      },
      "outputs": [
        {
          "name": "stdout",
          "output_type": "stream",
          "text": [
            "2\n",
            "even\n"
          ]
        }
      ],
      "source": [
        "# Brute fource method\n",
        "\n",
        "n = int(input())\n",
        "if n%2 == 0:\n",
        "  print(\"even\")\n",
        "else:\n",
        "  print(\"Odd\")"
      ]
    },
    {
      "cell_type": "code",
      "execution_count": null,
      "metadata": {
        "colab": {
          "background_save": true
        },
        "id": "4ExU-PBzP1eb",
        "outputId": "d9939cf6-08f4-4fbb-ff24-1c8ad5d245c8"
      },
      "outputs": [
        {
          "name": "stdout",
          "output_type": "stream",
          "text": [
            "Even\n"
          ]
        }
      ],
      "source": [
        "# n = int(input())\n",
        "print(\"Even\" if n %2 == 0 else \"Odd\")"
      ]
    },
    {
      "cell_type": "code",
      "execution_count": null,
      "metadata": {
        "id": "xH_JqaslQJz_"
      },
      "outputs": [],
      "source": []
    }
  ],
  "metadata": {
    "colab": {
      "provenance": [],
      "authorship_tag": "ABX9TyM28SHGUPCazKvtEh6Ly5aG",
      "include_colab_link": true
    },
    "kernelspec": {
      "display_name": "Python 3",
      "name": "python3"
    },
    "language_info": {
      "name": "python"
    }
  },
  "nbformat": 4,
  "nbformat_minor": 0
}