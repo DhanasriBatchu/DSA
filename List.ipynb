{
  "nbformat": 4,
  "nbformat_minor": 0,
  "metadata": {
    "colab": {
      "provenance": [],
      "authorship_tag": "ABX9TyM8GXEcWdGT+f0+7gw3pxzG",
      "include_colab_link": true
    },
    "kernelspec": {
      "name": "python3",
      "display_name": "Python 3"
    },
    "language_info": {
      "name": "python"
    }
  },
  "cells": [
    {
      "cell_type": "markdown",
      "metadata": {
        "id": "view-in-github",
        "colab_type": "text"
      },
      "source": [
        "<a href=\"https://colab.research.google.com/github/DhanasriBatchu/DSA/blob/main/List.ipynb\" target=\"_parent\"><img src=\"https://colab.research.google.com/assets/colab-badge.svg\" alt=\"Open In Colab\"/></a>"
      ]
    },
    {
      "cell_type": "markdown",
      "source": [
        "**LIST**\n",
        "- List is the most powerfull data structures we are having\n",
        "- using list we can play with intigers,float and strings\n",
        "\n",
        "-List is an Mutable data type[change memory allocation\n",
        "-syntax : the way of representing a list is with[]"
      ],
      "metadata": {
        "id": "EORJSfVpwcj_"
      }
    },
    {
      "cell_type": "code",
      "execution_count": null,
      "metadata": {
        "colab": {
          "base_uri": "https://localhost:8080/"
        },
        "id": "lUHZhAwowVzq",
        "outputId": "942fc3e6-8973-4373-c786-aaf6c8bb0d0c"
      },
      "outputs": [
        {
          "output_type": "execute_result",
          "data": {
            "text/plain": [
              "str"
            ]
          },
          "metadata": {},
          "execution_count": 1
        }
      ],
      "source": [
        "a = 'python 120'\n",
        "type(a)"
      ]
    },
    {
      "cell_type": "markdown",
      "source": [
        "-No index space for comma and space"
      ],
      "metadata": {
        "id": "ZUn7JnBkziXQ"
      }
    },
    {
      "cell_type": "code",
      "source": [
        "a=[10,100,1000]  #10=0,100=1,1000=2\n",
        "print(type(a))"
      ],
      "metadata": {
        "colab": {
          "base_uri": "https://localhost:8080/"
        },
        "id": "PXovo3XAysEE",
        "outputId": "fbf13ad0-733b-4c9f-a69e-7c05b3995f34"
      },
      "execution_count": null,
      "outputs": [
        {
          "output_type": "stream",
          "name": "stdout",
          "text": [
            "<class 'list'>\n"
          ]
        }
      ]
    },
    {
      "cell_type": "markdown",
      "source": [
        "- we can give any data type"
      ],
      "metadata": {
        "id": "hmz1TIWBz2up"
      }
    },
    {
      "cell_type": "code",
      "source": [
        "a = [10,12.5,'python']\n",
        "print(a)"
      ],
      "metadata": {
        "colab": {
          "base_uri": "https://localhost:8080/"
        },
        "id": "K3kURQf_yys9",
        "outputId": "cbcc4c56-255f-457d-a612-4911afd2f4fc"
      },
      "execution_count": null,
      "outputs": [
        {
          "output_type": "stream",
          "name": "stdout",
          "text": [
            "[10, 12.5, 'python']\n"
          ]
        }
      ]
    },
    {
      "cell_type": "code",
      "source": [
        "a = [10,12.5,1000,144.9,'python','data_science']\n",
        "print(a)"
      ],
      "metadata": {
        "colab": {
          "base_uri": "https://localhost:8080/"
        },
        "id": "fHcXcAsd0CpW",
        "outputId": "7fe4fab7-c0c2-4d68-9abb-2fc8e8e1d734"
      },
      "execution_count": null,
      "outputs": [
        {
          "output_type": "stream",
          "name": "stdout",
          "text": [
            "[10, 12.5, 1000, 144.9, 'python', 'data_science']\n"
          ]
        }
      ]
    },
    {
      "cell_type": "code",
      "source": [
        "#Accessing items in the list with there index possition:\n",
        "a = [10,12.5,1000,144.9,'python','data_science']\n",
        "print(a[2])\n",
        "print(a[-3])"
      ],
      "metadata": {
        "colab": {
          "base_uri": "https://localhost:8080/"
        },
        "id": "CWXop-oR0d8m",
        "outputId": "51294978-9ce7-4b47-c93e-d1f29270ebab"
      },
      "execution_count": null,
      "outputs": [
        {
          "output_type": "stream",
          "name": "stdout",
          "text": [
            "1000\n",
            "144.9\n"
          ]
        }
      ]
    },
    {
      "cell_type": "code",
      "source": [
        "a = [10,12.5,1000,144.9,'python','data_science'] #Accessing the char in string which is in a list\n",
        "print(a[4][1])\n"
      ],
      "metadata": {
        "colab": {
          "base_uri": "https://localhost:8080/"
        },
        "id": "RXqsGrQy02Ze",
        "outputId": "db88b1a6-0a8f-4a9a-c0f0-8b4fb0e4874b"
      },
      "execution_count": null,
      "outputs": [
        {
          "output_type": "stream",
          "name": "stdout",
          "text": [
            "y\n"
          ]
        }
      ]
    },
    {
      "cell_type": "code",
      "source": [
        "print(a[5][3])  #Accessing the char in string which is in a list"
      ],
      "metadata": {
        "colab": {
          "base_uri": "https://localhost:8080/"
        },
        "id": "9ApZJVeU1wK-",
        "outputId": "c355c2eb-6b9b-4c59-a6e9-a883395ab644"
      },
      "execution_count": null,
      "outputs": [
        {
          "output_type": "stream",
          "name": "stdout",
          "text": [
            "a\n"
          ]
        }
      ]
    },
    {
      "cell_type": "code",
      "source": [
        "a = [10,'12.5',1000,144.9,'python','data_science'] #if U want to print float values want to be in str\n",
        "print(a[1][2])"
      ],
      "metadata": {
        "colab": {
          "base_uri": "https://localhost:8080/"
        },
        "id": "jKH6n8ye2TAo",
        "outputId": "57e50a15-bef0-4466-e22e-998e7e76b15e"
      },
      "execution_count": null,
      "outputs": [
        {
          "output_type": "stream",
          "name": "stdout",
          "text": [
            ".\n"
          ]
        }
      ]
    },
    {
      "cell_type": "markdown",
      "source": [
        "**Slicing operation using List**\n"
      ],
      "metadata": {
        "id": "wMyD5qhC5OSM"
      }
    },
    {
      "cell_type": "code",
      "source": [
        "a = [10,'12.5',1000,144.9,'python','data_science']\n",
        "print(a[1:5])"
      ],
      "metadata": {
        "colab": {
          "base_uri": "https://localhost:8080/"
        },
        "id": "peDNuwTG2zbi",
        "outputId": "c6411c5e-2595-4dcd-8d28-2f3ba6773809"
      },
      "execution_count": null,
      "outputs": [
        {
          "output_type": "stream",
          "name": "stdout",
          "text": [
            "['12.5', 1000, 144.9, 'python']\n"
          ]
        }
      ]
    },
    {
      "cell_type": "code",
      "source": [
        "a = [10,'12.5',1000,144.9,'python','data_science']\n",
        "print(a[1:5])"
      ],
      "metadata": {
        "colab": {
          "base_uri": "https://localhost:8080/"
        },
        "id": "M7dcMQzH3QLF",
        "outputId": "59e3ec3e-e6ec-4f9f-e8b1-1703d61c51b6"
      },
      "execution_count": null,
      "outputs": [
        {
          "output_type": "stream",
          "name": "stdout",
          "text": [
            "['12.5', 1000, 144.9, 'python']\n"
          ]
        }
      ]
    },
    {
      "cell_type": "code",
      "source": [
        "a = [10,'12.5',1000,144.9,'python','data_science']\n",
        "print(a[::2])  # from starting till end step size 2"
      ],
      "metadata": {
        "colab": {
          "base_uri": "https://localhost:8080/"
        },
        "id": "foMpQnKX6lqY",
        "outputId": "6a79bb5f-1497-43a5-fb4b-660415740387"
      },
      "execution_count": null,
      "outputs": [
        {
          "output_type": "stream",
          "name": "stdout",
          "text": [
            "[10, 1000, 'python']\n"
          ]
        }
      ]
    },
    {
      "cell_type": "code",
      "source": [
        "a = [10,'12.5',1000,144.9,'python','data_science']\n",
        "print(a[::-1])  # from starting till end -1"
      ],
      "metadata": {
        "colab": {
          "base_uri": "https://localhost:8080/"
        },
        "id": "5DdItGYK6-3e",
        "outputId": "0428b9c8-d922-498a-dd6a-8ca0ed8b90f5"
      },
      "execution_count": null,
      "outputs": [
        {
          "output_type": "stream",
          "name": "stdout",
          "text": [
            "['data_science', 'python', 144.9, 1000, '12.5', 10]\n"
          ]
        }
      ]
    },
    {
      "cell_type": "markdown",
      "source": [
        "- is this mutable-\n",
        "    - adding memory space\n",
        "    - replace in the same memory space\n",
        "    - delete memory space"
      ],
      "metadata": {
        "id": "YsOn16fL7qUU"
      }
    },
    {
      "cell_type": "code",
      "source": [
        "#adding memory space\n",
        "\n",
        "a = a = [10,'12.5',1000,144.9,'python','data_science']\n",
        "\n",
        "a.append(500)  #this method is to create at the end if we want to create where ever u want use insert method\n",
        "print(a)"
      ],
      "metadata": {
        "colab": {
          "base_uri": "https://localhost:8080/"
        },
        "id": "cT9AVFTM_Y8m",
        "outputId": "2796e1ac-b4f5-4754-8ec7-e9b133e57cf1"
      },
      "execution_count": null,
      "outputs": [
        {
          "output_type": "stream",
          "name": "stdout",
          "text": [
            "[10, '12.5', 1000, 144.9, 'python', 'data_science', 500]\n"
          ]
        }
      ]
    },
    {
      "cell_type": "code",
      "source": [
        "#adding memory space\n",
        "\n",
        "#a = a = [10,'12.5',1000,144.9,'python','data_science']\n",
        "\n",
        "a.append(500)  #this method is to create at the end if we want to create where ever u want use insert method\n",
        "print(a)"
      ],
      "metadata": {
        "colab": {
          "base_uri": "https://localhost:8080/"
        },
        "id": "Evwe4qka7jqU",
        "outputId": "501c41f7-2f23-4820-a804-08b69729c44f"
      },
      "execution_count": null,
      "outputs": [
        {
          "output_type": "stream",
          "name": "stdout",
          "text": [
            "[10, '12.5', 1000, 144.9, 'python', 'data_science', 500, 500, 500, 500]\n"
          ]
        }
      ]
    },
    {
      "cell_type": "code",
      "source": [
        "# Replacing memory space\n",
        "a = [10,'12.5',1000,144.9,'python','data_science']\n",
        "a[2]\n",
        "print(a)\n",
        "a[2] =2000\n",
        "print(a)\n"
      ],
      "metadata": {
        "colab": {
          "base_uri": "https://localhost:8080/"
        },
        "id": "YLtRDwAW8KtA",
        "outputId": "397b80d2-4623-42ef-9208-c323cc10f6b2"
      },
      "execution_count": null,
      "outputs": [
        {
          "output_type": "stream",
          "name": "stdout",
          "text": [
            "[10, '12.5', 1000, 144.9, 'python', 'data_science']\n",
            "[10, '12.5', 2000, 144.9, 'python', 'data_science']\n"
          ]
        }
      ]
    },
    {
      "cell_type": "code",
      "source": [
        "#Deleting the memory space\n",
        "a = [10,'12.5',1000,144.9,'python','data_science']\n",
        "del a[1]\n",
        "print(a)"
      ],
      "metadata": {
        "colab": {
          "base_uri": "https://localhost:8080/"
        },
        "id": "ezOc5r5U9CRy",
        "outputId": "a785bd63-40f3-455c-965c-10862ec4f781"
      },
      "execution_count": null,
      "outputs": [
        {
          "output_type": "stream",
          "name": "stdout",
          "text": [
            "[10, 1000, 144.9, 'python', 'data_science']\n"
          ]
        }
      ]
    },
    {
      "cell_type": "markdown",
      "source": [
        "**PRE DEFINED METHODS**\n"
      ],
      "metadata": {
        "id": "JFn8wGiVpuyS"
      }
    },
    {
      "cell_type": "code",
      "source": [
        "# append\n",
        "\n",
        "a=[10,'12.5',1000,144.9,'python','data_science']\n",
        "a.append(20000)  #append will add the given value at the end   (only single value)\n",
        "print(a)"
      ],
      "metadata": {
        "colab": {
          "base_uri": "https://localhost:8080/"
        },
        "id": "vlAIoSm4AFHp",
        "outputId": "b0ff3d59-4e34-46d9-9b97-ebb527565e84"
      },
      "execution_count": null,
      "outputs": [
        {
          "output_type": "stream",
          "name": "stdout",
          "text": [
            "[10, '12.5', 1000, 144.9, 'python', 'data_science', 20000]\n"
          ]
        }
      ]
    },
    {
      "cell_type": "code",
      "source": [
        "# insert : use to add memory space where ever we want\n",
        "\n",
        "a=[10,'12.5',1000,144.9,'python','data_science']\n",
        "a[2]=20000  #append will add the given value at the end\n",
        "print(a)"
      ],
      "metadata": {
        "colab": {
          "base_uri": "https://localhost:8080/"
        },
        "id": "0GTyjrFfoVl0",
        "outputId": "7d1bed05-1693-4088-dd70-37d5d16c69c3"
      },
      "execution_count": null,
      "outputs": [
        {
          "output_type": "stream",
          "name": "stdout",
          "text": [
            "[10, '12.5', 20000, 144.9, 'python', 'data_science']\n"
          ]
        }
      ]
    },
    {
      "cell_type": "code",
      "source": [
        "#insert : use to add memory space where ever we want\n",
        "\n",
        "a=[10,'12.5',1000,144.9,'python','data_science']\n",
        "a.insert(2,20000)  #append will add the given value at the end\n",
        "print(a)"
      ],
      "metadata": {
        "colab": {
          "base_uri": "https://localhost:8080/"
        },
        "id": "LEr7pFa5EHwd",
        "outputId": "90172ba9-ce38-49df-a1f4-73ca920c6d1d"
      },
      "execution_count": null,
      "outputs": [
        {
          "output_type": "stream",
          "name": "stdout",
          "text": [
            "[10, '12.5', 20000, 1000, 144.9, 'python', 'data_science']\n"
          ]
        }
      ]
    },
    {
      "cell_type": "code",
      "source": [
        "a=[10,'12.5',1000,144.9,'python','data_science']\n",
        "\n",
        "a.insert(3,'java')\n",
        "print(a)"
      ],
      "metadata": {
        "colab": {
          "base_uri": "https://localhost:8080/"
        },
        "id": "5R0zWgE9FI3U",
        "outputId": "ef970192-f366-4a7c-b6e4-f38a446f140a"
      },
      "execution_count": null,
      "outputs": [
        {
          "output_type": "stream",
          "name": "stdout",
          "text": [
            "[10, '12.5', 1000, 'java', 144.9, 'python', 'data_science']\n"
          ]
        }
      ]
    },
    {
      "cell_type": "code",
      "source": [
        "a=[10,'12.5',1000,144.9,'python','data_science']\n",
        "\n",
        "a.insert(0,'C++')\n",
        "print(a)"
      ],
      "metadata": {
        "id": "e-b311m7HbcT",
        "colab": {
          "base_uri": "https://localhost:8080/"
        },
        "outputId": "8dee2618-0041-4797-fec4-3983a0bf850e"
      },
      "execution_count": null,
      "outputs": [
        {
          "output_type": "stream",
          "name": "stdout",
          "text": [
            "['C++', 10, '12.5', 1000, 144.9, 'python', 'data_science']\n"
          ]
        }
      ]
    },
    {
      "cell_type": "code",
      "source": [
        "# clear : meanse removing the list it will be empty\n",
        "\n",
        "a=[10,'12.5',1000,144.9,'python','data_science']\n",
        "\n",
        "a.clear()"
      ],
      "metadata": {
        "id": "Wu_wDsXNo_8L"
      },
      "execution_count": null,
      "outputs": []
    },
    {
      "cell_type": "code",
      "source": [
        "# clear : meanse removing the list it will be empty\n",
        "\n",
        "a=[10, 12.5, 'python']\n",
        "\n",
        "print(a)\n",
        "\n",
        "a.clear()\n",
        "print(a)"
      ],
      "metadata": {
        "colab": {
          "base_uri": "https://localhost:8080/"
        },
        "id": "kY27MHEkqlKi",
        "outputId": "1b287dad-a497-4c32-d152-ada9ebe0638e"
      },
      "execution_count": null,
      "outputs": [
        {
          "output_type": "stream",
          "name": "stdout",
          "text": [
            "[10, 12.5, 'python']\n",
            "[]\n"
          ]
        }
      ]
    },
    {
      "cell_type": "code",
      "source": [
        "#copy : copying the data from 1 variable to another variable\n",
        "# clear : meanse removing the list it will be empty\n",
        "\n",
        "a=[10, 12.5, 'python']\n",
        "\n",
        "print(a)\n",
        "b=a.copy()\n",
        "print()\n",
        "print(b)"
      ],
      "metadata": {
        "colab": {
          "base_uri": "https://localhost:8080/"
        },
        "id": "E26JcGnFrLqg",
        "outputId": "ff172d12-a376-46ba-bfc2-ffba62bddd29"
      },
      "execution_count": null,
      "outputs": [
        {
          "output_type": "stream",
          "name": "stdout",
          "text": [
            "[10, 12.5, 'python']\n",
            "\n",
            "[10, 12.5, 'python']\n"
          ]
        }
      ]
    },
    {
      "cell_type": "code",
      "source": [
        "#Count : counting the number of occurances\n",
        "a = [10, 12.5, 'python']\n",
        "print(a.count(1))"
      ],
      "metadata": {
        "colab": {
          "base_uri": "https://localhost:8080/"
        },
        "id": "oSiD04yZr504",
        "outputId": "48fda634-27d7-4bdc-df97-737f2ab63945"
      },
      "execution_count": null,
      "outputs": [
        {
          "output_type": "stream",
          "name": "stdout",
          "text": [
            "0\n"
          ]
        }
      ]
    },
    {
      "cell_type": "code",
      "source": [
        "#Count : counting the number of occurances\n",
        "a = [10, 12.5, 'python']\n",
        "print(a.count(10))"
      ],
      "metadata": {
        "colab": {
          "base_uri": "https://localhost:8080/"
        },
        "id": "wP1RosdLscfT",
        "outputId": "f610d752-0a9e-493d-c3b1-fba2c8faf319"
      },
      "execution_count": null,
      "outputs": [
        {
          "output_type": "stream",
          "name": "stdout",
          "text": [
            "1\n"
          ]
        }
      ]
    },
    {
      "cell_type": "code",
      "source": [
        "# index : finding the index position\n",
        "\n",
        "a= [10,12.5,'python']\n",
        "\n",
        "print(a.index(12.5))"
      ],
      "metadata": {
        "colab": {
          "base_uri": "https://localhost:8080/"
        },
        "id": "zMmRB-rZsjuW",
        "outputId": "4d2dc22c-38c3-41ef-a737-a898185f1ce1"
      },
      "execution_count": null,
      "outputs": [
        {
          "output_type": "stream",
          "name": "stdout",
          "text": [
            "1\n"
          ]
        }
      ]
    },
    {
      "cell_type": "code",
      "source": [
        "# extend : extend method is used to add a list to existing list\n",
        "#Append can add a single value and extend can add multiple values\n",
        "a = [10,12.5,'python']\n",
        "a.extend([1000,2000,3000])\n",
        "print(a)"
      ],
      "metadata": {
        "colab": {
          "base_uri": "https://localhost:8080/"
        },
        "id": "fdCEf3ops6Ys",
        "outputId": "a12f2dc1-6114-42b4-a9f5-f68e3373425d"
      },
      "execution_count": null,
      "outputs": [
        {
          "output_type": "stream",
          "name": "stdout",
          "text": [
            "[10, 12.5, 'python', 1000, 2000, 3000]\n"
          ]
        }
      ]
    },
    {
      "cell_type": "code",
      "source": [
        "a = [10,12.5,'python']\n",
        "a.insert(2 , [1000,2000,3000])\n",
        "print(a)"
      ],
      "metadata": {
        "colab": {
          "base_uri": "https://localhost:8080/"
        },
        "id": "9HnDBfUtulD5",
        "outputId": "6d299d33-32d6-4133-d6df-1d960fa74363"
      },
      "execution_count": null,
      "outputs": [
        {
          "output_type": "stream",
          "name": "stdout",
          "text": [
            "[10, 12.5, [1000, 2000, 3000], 'python']\n"
          ]
        }
      ]
    },
    {
      "cell_type": "code",
      "source": [
        "a = [10,12.5,'python']\n",
        "a.insert(2 , 1000,2000,3000)\n",
        "print(a)"
      ],
      "metadata": {
        "colab": {
          "base_uri": "https://localhost:8080/",
          "height": 176
        },
        "id": "MTYB_p9U2qWf",
        "outputId": "c02a5aab-3168-4082-be57-1133348bf7a8"
      },
      "execution_count": null,
      "outputs": [
        {
          "output_type": "error",
          "ename": "TypeError",
          "evalue": "insert expected 2 arguments, got 4",
          "traceback": [
            "\u001b[0;31m---------------------------------------------------------------------------\u001b[0m",
            "\u001b[0;31mTypeError\u001b[0m                                 Traceback (most recent call last)",
            "\u001b[0;32m/tmp/ipython-input-5-2464285880.py\u001b[0m in \u001b[0;36m<cell line: 0>\u001b[0;34m()\u001b[0m\n\u001b[1;32m      1\u001b[0m \u001b[0ma\u001b[0m \u001b[0;34m=\u001b[0m \u001b[0;34m[\u001b[0m\u001b[0;36m10\u001b[0m\u001b[0;34m,\u001b[0m\u001b[0;36m12.5\u001b[0m\u001b[0;34m,\u001b[0m\u001b[0;34m'python'\u001b[0m\u001b[0;34m]\u001b[0m\u001b[0;34m\u001b[0m\u001b[0;34m\u001b[0m\u001b[0m\n\u001b[0;32m----> 2\u001b[0;31m \u001b[0ma\u001b[0m\u001b[0;34m.\u001b[0m\u001b[0minsert\u001b[0m\u001b[0;34m(\u001b[0m\u001b[0;36m2\u001b[0m \u001b[0;34m,\u001b[0m \u001b[0;36m1000\u001b[0m\u001b[0;34m,\u001b[0m\u001b[0;36m2000\u001b[0m\u001b[0;34m,\u001b[0m\u001b[0;36m3000\u001b[0m\u001b[0;34m)\u001b[0m\u001b[0;34m\u001b[0m\u001b[0;34m\u001b[0m\u001b[0m\n\u001b[0m\u001b[1;32m      3\u001b[0m \u001b[0mprint\u001b[0m\u001b[0;34m(\u001b[0m\u001b[0ma\u001b[0m\u001b[0;34m)\u001b[0m\u001b[0;34m\u001b[0m\u001b[0;34m\u001b[0m\u001b[0m\n",
            "\u001b[0;31mTypeError\u001b[0m: insert expected 2 arguments, got 4"
          ]
        }
      ]
    },
    {
      "cell_type": "code",
      "source": [
        "a = [10,12.5,'python']\n",
        "a.extend([1000,2000,3000])\n",
        "print(a)"
      ],
      "metadata": {
        "colab": {
          "base_uri": "https://localhost:8080/"
        },
        "id": "TKjV7e822xmX",
        "outputId": "d6bbe8cd-7248-44c9-906f-fb2b6a62c071"
      },
      "execution_count": null,
      "outputs": [
        {
          "output_type": "stream",
          "name": "stdout",
          "text": [
            "[10, 12.5, 'python', 1000, 2000, 3000]\n"
          ]
        }
      ]
    },
    {
      "cell_type": "markdown",
      "source": [
        "- Need to add multiple values where ever u want"
      ],
      "metadata": {
        "id": "Nin95h7P3SCZ"
      }
    },
    {
      "cell_type": "code",
      "source": [
        "# pop:pop method is used to remove the data\n",
        "a = [10,12.5,\"  Python\"]\n",
        "a.pop()\n",
        "print(a)"
      ],
      "metadata": {
        "id": "HJxdRZk83MHs",
        "colab": {
          "base_uri": "https://localhost:8080/"
        },
        "outputId": "646e3b0c-b24b-4517-87f5-84b661035093"
      },
      "execution_count": 1,
      "outputs": [
        {
          "output_type": "stream",
          "name": "stdout",
          "text": [
            "[10, 12.5]\n"
          ]
        }
      ]
    },
    {
      "cell_type": "markdown",
      "source": [
        "- # pop:pop method is used to remove the data\n",
        "- Default it will remove the last value\n",
        "- if you want to remove the specified value you can use the index position"
      ],
      "metadata": {
        "id": "L9ebWDMH8z8p"
      }
    },
    {
      "cell_type": "code",
      "source": [
        "# pop:pop method is used to remove the data\n",
        "a = [10,12.5,\"Python\"]\n",
        "a.pop(1)\n",
        "print(a)"
      ],
      "metadata": {
        "colab": {
          "base_uri": "https://localhost:8080/"
        },
        "id": "cEZ3Tolk9O33",
        "outputId": "7b2917f1-a498-40c1-a9f7-136419f0e188"
      },
      "execution_count": 5,
      "outputs": [
        {
          "output_type": "stream",
          "name": "stdout",
          "text": [
            "[10, 'Python']\n"
          ]
        }
      ]
    },
    {
      "cell_type": "markdown",
      "source": [
        "- #Remove : we can directly give the data points insted of index\n",
        "- #pop : it will remove the last value and using index it will remove specific value"
      ],
      "metadata": {
        "id": "e8ZVbyQJ9t94"
      }
    },
    {
      "cell_type": "code",
      "source": [
        "a=[10,12.5,'python']\n",
        "a.remove(12.5)\n",
        "print(a)"
      ],
      "metadata": {
        "colab": {
          "base_uri": "https://localhost:8080/"
        },
        "id": "8YRp7rQQ9m6d",
        "outputId": "52c0d3f7-a555-4d14-b05f-643da3a2aa9a"
      },
      "execution_count": 6,
      "outputs": [
        {
          "output_type": "stream",
          "name": "stdout",
          "text": [
            "[10, 'python']\n"
          ]
        }
      ]
    },
    {
      "cell_type": "code",
      "source": [
        " #Reverse : it is used to reverse the text\n",
        "a = [10,12.5,\"Python\"]\n",
        "a.reverse()\n",
        "print(a)"
      ],
      "metadata": {
        "colab": {
          "base_uri": "https://localhost:8080/"
        },
        "id": "-4qNwxby-cc6",
        "outputId": "4adc78c6-b756-43df-8b08-c66c30dbe798"
      },
      "execution_count": 8,
      "outputs": [
        {
          "output_type": "stream",
          "name": "stdout",
          "text": [
            "['Python', 12.5, 10]\n"
          ]
        }
      ]
    },
    {
      "cell_type": "code",
      "source": [
        " #Reverse : it is used to reverse the text\n",
        "a = [10,12.5,\"Python\"]\n",
        "a[::-1]\n",
        "print(a)"
      ],
      "metadata": {
        "colab": {
          "base_uri": "https://localhost:8080/"
        },
        "id": "XBug1j0f-vRZ",
        "outputId": "685fd071-a9dd-4f12-a30a-55f15e50e288"
      },
      "execution_count": 15,
      "outputs": [
        {
          "output_type": "stream",
          "name": "stdout",
          "text": [
            "[10, 12.5, 'Python']\n"
          ]
        }
      ]
    },
    {
      "cell_type": "markdown",
      "source": [
        "- Sort:assending order(s-b) and decending order(b-s) concept\n",
        "- by default we can use decending order(b-s)\n"
      ],
      "metadata": {
        "id": "P_BsHQIh_ZB-"
      }
    },
    {
      "cell_type": "code",
      "source": [
        "#Assending order\n",
        "a = [1,12,7,16,44,8]\n",
        "a.sort()\n",
        "print(a)"
      ],
      "metadata": {
        "colab": {
          "base_uri": "https://localhost:8080/"
        },
        "id": "X_J09US7-9Oh",
        "outputId": "f03f39a6-6a7a-4918-a596-841834bf6e4c"
      },
      "execution_count": 16,
      "outputs": [
        {
          "output_type": "stream",
          "name": "stdout",
          "text": [
            "[1, 7, 8, 12, 16, 44]\n"
          ]
        }
      ]
    },
    {
      "cell_type": "code",
      "source": [
        "#Desending order\n",
        "a = [1,12,7,16,44,8]\n",
        "a.sort(reverse=True)\n",
        "print(a)"
      ],
      "metadata": {
        "colab": {
          "base_uri": "https://localhost:8080/"
        },
        "id": "MwXjC1vdABeb",
        "outputId": "af8ccbd9-a241-464f-d755-99a0b4e827b8"
      },
      "execution_count": 18,
      "outputs": [
        {
          "output_type": "stream",
          "name": "stdout",
          "text": [
            "[44, 16, 12, 8, 7, 1]\n"
          ]
        }
      ]
    },
    {
      "cell_type": "code",
      "source": [
        "a = [1,12,7,16,44,8]\n",
        "b = [100,100,400,600]\n",
        "a.extend(b[::2])\n",
        "\n",
        "print(a)\n",
        ""
      ],
      "metadata": {
        "colab": {
          "base_uri": "https://localhost:8080/"
        },
        "id": "fQfgROAWAJml",
        "outputId": "c4349f35-14d1-48b3-c113-d54de667281f"
      },
      "execution_count": 27,
      "outputs": [
        {
          "output_type": "stream",
          "name": "stdout",
          "text": [
            "[1, 12, 7, 16, 44, 8, 100, 400]\n"
          ]
        }
      ]
    },
    {
      "cell_type": "code",
      "source": [
        "# math operations\n",
        "a = [1,2,3,4,5,6]\n",
        "print(len(a))\n",
        "print(min(a))\n",
        "print(max(a))\n",
        "print(sum(a))"
      ],
      "metadata": {
        "colab": {
          "base_uri": "https://localhost:8080/"
        },
        "id": "ddNsQ0v9AwuN",
        "outputId": "3ddf0cfb-d1cc-45cb-ee3a-e6bb2e53e715"
      },
      "execution_count": 29,
      "outputs": [
        {
          "output_type": "stream",
          "name": "stdout",
          "text": [
            "6\n",
            "1\n",
            "6\n",
            "21\n"
          ]
        }
      ]
    },
    {
      "cell_type": "code",
      "source": [],
      "metadata": {
        "id": "FydFFFuOBcYX"
      },
      "execution_count": null,
      "outputs": []
    }
  ]
}