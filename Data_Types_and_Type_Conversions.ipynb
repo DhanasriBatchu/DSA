{
  "nbformat": 4,
  "nbformat_minor": 0,
  "metadata": {
    "colab": {
      "provenance": [],
      "authorship_tag": "ABX9TyPUZ7DjaXcMNOvNZmZkWW7D",
      "include_colab_link": true
    },
    "kernelspec": {
      "name": "python3",
      "display_name": "Python 3"
    },
    "language_info": {
      "name": "python"
    }
  },
  "cells": [
    {
      "cell_type": "markdown",
      "metadata": {
        "id": "view-in-github",
        "colab_type": "text"
      },
      "source": [
        "<a href=\"https://colab.research.google.com/github/DhanasriBatchu/DSA/blob/main/Data_Types_and_Type_Conversions.ipynb\" target=\"_parent\"><img src=\"https://colab.research.google.com/assets/colab-badge.svg\" alt=\"Open In Colab\"/></a>"
      ]
    },
    {
      "cell_type": "markdown",
      "source": [
        "***PYTHON***\n",
        "* 'Python was easy to understand'\n",
        "* 'Lines of code,syntax is easy to understand.'\n",
        "```\n",
        "# This is formatted as code\n",
        "```\n",
        "**DATA TYPES**\n",
        "* 'int :**bold text** having a single value'\n",
        "* 'float : having a decimal value'\n",
        "* 'string : test in blw rhe codes'"
      ],
      "metadata": {
        "id": "tFZVKJm4_0D-"
      }
    },
    {
      "cell_type": "code",
      "source": [
        "a=12 #it will save in a memory allocation and we calling it\n",
        "print(a)"
      ],
      "metadata": {
        "colab": {
          "base_uri": "https://localhost:8080/"
        },
        "id": "dND4J3OzC2Bj",
        "outputId": "cd57812f-e810-4e33-b35d-942b10fd885a"
      },
      "execution_count": null,
      "outputs": [
        {
          "output_type": "stream",
          "name": "stdout",
          "text": [
            "12\n"
          ]
        }
      ]
    },
    {
      "cell_type": "code",
      "source": [
        "#intiger\n",
        "\n",
        "a =13\n",
        "print(a)\n",
        "print(type(a))"
      ],
      "metadata": {
        "colab": {
          "base_uri": "https://localhost:8080/"
        },
        "id": "GHCXUnHADyBA",
        "outputId": "67be46d6-b333-4a9b-97f6-36ee08803511"
      },
      "execution_count": null,
      "outputs": [
        {
          "output_type": "stream",
          "name": "stdout",
          "text": [
            "13\n",
            "<class 'int'>\n"
          ]
        }
      ]
    },
    {
      "cell_type": "code",
      "source": [
        "#float\n",
        "\n",
        "a=12.5\n",
        "print(a)\n",
        "print(type(a))"
      ],
      "metadata": {
        "id": "B7wwUEb8EAlx",
        "colab": {
          "base_uri": "https://localhost:8080/"
        },
        "outputId": "466e86e4-bcbe-41c3-e1b4-42acd4364906"
      },
      "execution_count": null,
      "outputs": [
        {
          "output_type": "stream",
          "name": "stdout",
          "text": [
            "12.5\n",
            "<class 'float'>\n"
          ]
        }
      ]
    },
    {
      "cell_type": "markdown",
      "source": [
        "bold text"
      ],
      "metadata": {
        "id": "JulVzvl8B9qW"
      }
    },
    {
      "cell_type": "code",
      "source": [
        "#string\n",
        "a=\"Hi I am learning python\"\n",
        "print(a)\n",
        "print(type(a))"
      ],
      "metadata": {
        "id": "KZt0NtgeEz0J",
        "colab": {
          "base_uri": "https://localhost:8080/"
        },
        "outputId": "234ba623-deed-4db3-80ae-dcda044a139a"
      },
      "execution_count": null,
      "outputs": [
        {
          "output_type": "stream",
          "name": "stdout",
          "text": [
            "Hi I am learning python\n",
            "<class 'str'>\n"
          ]
        }
      ]
    },
    {
      "cell_type": "markdown",
      "source": [
        "***VARIABLE RULES***\n",
        "- 'Rule 1 : Never start a variable with a number'\n",
        "- 'Rule 2 : variable always starts with number'\n",
        "- 'Rule 3 : variables can start with a underscore\n",
        "- 'Rule 4 : 'space is not allowed if U want Use an Underscore'\n",
        "- 'Rule 5 : 'case sensitive shows diff variables in a,A'\n",
        "- 'Rule 6 : 'Dont use symbols as a variables"
      ],
      "metadata": {
        "id": "z0nj4IGeGnr2"
      }
    },
    {
      "cell_type": "code",
      "source": [
        "#'''strings like'''\n",
        "import string\n",
        "string.punctuation"
      ],
      "metadata": {
        "id": "6K3cjnjiI6ch",
        "colab": {
          "base_uri": "https://localhost:8080/",
          "height": 35
        },
        "outputId": "6ed36528-0329-46d2-9d05-eb167fd10773"
      },
      "execution_count": null,
      "outputs": [
        {
          "output_type": "execute_result",
          "data": {
            "text/plain": [
              "'!\"#$%&\\'()*+,-./:;<=>?@[\\\\]^_`{|}~'"
            ],
            "application/vnd.google.colaboratory.intrinsic+json": {
              "type": "string"
            }
          },
          "metadata": {},
          "execution_count": 40
        }
      ]
    },
    {
      "cell_type": "code",
      "source": [
        "#'''VARIABLE RULES'''\n",
        "#sytax meanse the rules we follow to write the code\n",
        "\n",
        "#Rule 2\n",
        "a120=\"python\"\n",
        "print(a120)\n",
        "\n",
        "\n",
        "#Rule 3\n",
        "_a1=\"python\"\n",
        "print(_a1)\n",
        "\n",
        "#Rule 4\n",
        "a_1=\"python\"\n",
        "print(a_1)\n",
        "\n",
        "#Rule 5\n",
        "a=100\n",
        "print(a)\n",
        "\n"
      ],
      "metadata": {
        "id": "kLRAfebLFQAU",
        "colab": {
          "base_uri": "https://localhost:8080/"
        },
        "outputId": "efb48198-081e-4305-bca5-a5ca1a07d2e4"
      },
      "execution_count": null,
      "outputs": [
        {
          "output_type": "stream",
          "name": "stdout",
          "text": [
            "python\n",
            "python\n",
            "python\n",
            "100\n"
          ]
        }
      ]
    },
    {
      "cell_type": "code",
      "source": [
        "\n",
        "\n",
        "#Rule 6\n",
        "$=10\n",
        "print($)\n",
        "\n",
        "#Rule 1\n",
        "120a=\"python\"\n",
        "print(120a)\n"
      ],
      "metadata": {
        "colab": {
          "base_uri": "https://localhost:8080/",
          "height": 106
        },
        "id": "GSbgd6mgZPba",
        "outputId": "9d0813e3-22ed-4d06-bbbe-073db11d6a0e"
      },
      "execution_count": null,
      "outputs": [
        {
          "output_type": "error",
          "ename": "SyntaxError",
          "evalue": "invalid decimal literal (<ipython-input-42-292d1e176f79>, line 6)",
          "traceback": [
            "\u001b[0;36m  File \u001b[0;32m\"<ipython-input-42-292d1e176f79>\"\u001b[0;36m, line \u001b[0;32m6\u001b[0m\n\u001b[0;31m    120a=\"python\"\u001b[0m\n\u001b[0m      ^\u001b[0m\n\u001b[0;31mSyntaxError\u001b[0m\u001b[0;31m:\u001b[0m invalid decimal literal\n"
          ]
        }
      ]
    },
    {
      "cell_type": "markdown",
      "source": [
        "***Conversions***\n",
        "- 'int-float'\n",
        "- 'float-int'\n",
        "- 'int-str'\n",
        "- 'float-str'\n",
        "* with some rule we have to do\n",
        "    - 'string-float\n",
        "    - 'str-int"
      ],
      "metadata": {
        "id": "9wDc4w3pLiF2"
      }
    },
    {
      "cell_type": "code",
      "source": [
        "#int-float\n",
        "a=12\n",
        "print(a)\n",
        "print(type(a))\n",
        "b=float(a)\n",
        "print(b)\n",
        "print(type(b))"
      ],
      "metadata": {
        "id": "fHX5HFCKOTgP",
        "colab": {
          "base_uri": "https://localhost:8080/"
        },
        "outputId": "9fd11433-8be3-4895-ca7f-e1eb3d81df89"
      },
      "execution_count": null,
      "outputs": [
        {
          "output_type": "stream",
          "name": "stdout",
          "text": [
            "12\n",
            "<class 'int'>\n",
            "12.0\n",
            "<class 'float'>\n"
          ]
        }
      ]
    },
    {
      "cell_type": "code",
      "source": [
        "#float-int\n",
        "a=12.5\n",
        "print(a)\n",
        "print(type(a))\n",
        "b=int(a)\n",
        "print(b)\n",
        "print(type(b))"
      ],
      "metadata": {
        "id": "xGJQGClWLNl_",
        "colab": {
          "base_uri": "https://localhost:8080/"
        },
        "outputId": "1677dade-6416-4201-9e7f-8c170fba1061"
      },
      "execution_count": null,
      "outputs": [
        {
          "output_type": "stream",
          "name": "stdout",
          "text": [
            "12.5\n",
            "<class 'float'>\n",
            "12\n",
            "<class 'int'>\n"
          ]
        }
      ]
    },
    {
      "cell_type": "code",
      "source": [
        "#str-int\n",
        "a=12\n",
        "print(a)\n",
        "print(type(a))\n",
        "b=str(a)\n",
        "print(b)\n",
        "print(type(b))\n"
      ],
      "metadata": {
        "id": "rPqBaGs7O-x9",
        "colab": {
          "base_uri": "https://localhost:8080/"
        },
        "outputId": "5287447b-5f8b-4378-c973-f456aef9cbcd"
      },
      "execution_count": null,
      "outputs": [
        {
          "output_type": "stream",
          "name": "stdout",
          "text": [
            "12\n",
            "<class 'int'>\n",
            "12\n",
            "<class 'str'>\n"
          ]
        }
      ]
    },
    {
      "cell_type": "code",
      "source": [
        "#str-int\n",
        "#cant convert invalid literal\n",
        "a=\"hi\"\n",
        "print(a)\n",
        "print(type(a))\n",
        "b=str(a)\n",
        "print(b)\n",
        "print(type(b))\n"
      ],
      "metadata": {
        "id": "GbRcyq9eSaQW",
        "colab": {
          "base_uri": "https://localhost:8080/"
        },
        "outputId": "a84bcb02-50b2-4bf3-97ea-deb8cbbb8a0e"
      },
      "execution_count": null,
      "outputs": [
        {
          "output_type": "stream",
          "name": "stdout",
          "text": [
            "hi\n",
            "<class 'str'>\n",
            "hi\n",
            "<class 'str'>\n"
          ]
        }
      ]
    },
    {
      "cell_type": "code",
      "source": [
        "#str-int\n",
        "#cant convert invalid literal\n",
        "a=\"HI000\"\n",
        "print(a)\n",
        "print(type(a))\n",
        "b=str(a)\n",
        "print(b)\n",
        "print(type(b))"
      ],
      "metadata": {
        "id": "QBVJf7jTP9Dz",
        "colab": {
          "base_uri": "https://localhost:8080/"
        },
        "outputId": "ab58a75d-dfdc-49e3-fb45-caff93817478"
      },
      "execution_count": null,
      "outputs": [
        {
          "output_type": "stream",
          "name": "stdout",
          "text": [
            "HI000\n",
            "<class 'str'>\n",
            "HI000\n",
            "<class 'str'>\n"
          ]
        }
      ]
    },
    {
      "cell_type": "code",
      "source": [
        "#str-float\n",
        "a=12.0\n",
        "print(a)\n",
        "print(type(a))\n",
        "b=str(a)\n",
        "print(b)\n",
        "print(type(b))"
      ],
      "metadata": {
        "id": "soPp1I1eSwqf",
        "colab": {
          "base_uri": "https://localhost:8080/"
        },
        "outputId": "bc8597d3-655c-44e4-9211-26d62c35d20f"
      },
      "execution_count": null,
      "outputs": [
        {
          "output_type": "stream",
          "name": "stdout",
          "text": [
            "12.0\n",
            "<class 'float'>\n",
            "12.0\n",
            "<class 'str'>\n"
          ]
        }
      ]
    },
    {
      "cell_type": "code",
      "source": [
        "#str-float\n",
        "#yes we can change but the string must be in numbers only,text cant cange to int\n",
        "\n",
        "a=\"1000\"\n",
        "print(a)\n",
        "print(type(a))\n",
        "b=float(a)\n",
        "print(b)\n",
        "print(type(b))"
      ],
      "metadata": {
        "id": "PfECl7p3QjWi",
        "colab": {
          "base_uri": "https://localhost:8080/"
        },
        "outputId": "aaa7d747-ebb0-445f-f28b-fd203f7c0266"
      },
      "execution_count": null,
      "outputs": [
        {
          "output_type": "stream",
          "name": "stdout",
          "text": [
            "1000\n",
            "<class 'str'>\n",
            "1000.0\n",
            "<class 'float'>\n"
          ]
        }
      ]
    }
  ]
}