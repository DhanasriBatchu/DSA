{
  "nbformat": 4,
  "nbformat_minor": 0,
  "metadata": {
    "colab": {
      "provenance": [],
      "authorship_tag": "ABX9TyMNwwGDPpwZWRtH8vgp/C0G",
      "include_colab_link": true
    },
    "kernelspec": {
      "name": "python3",
      "display_name": "Python 3"
    },
    "language_info": {
      "name": "python"
    }
  },
  "cells": [
    {
      "cell_type": "markdown",
      "metadata": {
        "id": "view-in-github",
        "colab_type": "text"
      },
      "source": [
        "<a href=\"https://colab.research.google.com/github/DhanasriBatchu/DSA/blob/main/python_dictionary.ipynb\" target=\"_parent\"><img src=\"https://colab.research.google.com/assets/colab-badge.svg\" alt=\"Open In Colab\"/></a>"
      ]
    },
    {
      "cell_type": "markdown",
      "source": [
        "- python dictionary -\n",
        "     - it is used access the data or to correct the data\n",
        "     [we can see it in an excel sheet]\n",
        "     - it is a mutable data type\n",
        "      - represented with {} but with keys and value pairs\n"
      ],
      "metadata": {
        "id": "sHSrwHM1VByR"
      }
    },
    {
      "cell_type": "code",
      "execution_count": 2,
      "metadata": {
        "colab": {
          "base_uri": "https://localhost:8080/"
        },
        "id": "J6DePEXqU4Ix",
        "outputId": "ed7f7360-4e03-4092-96b3-339559416b94"
      },
      "outputs": [
        {
          "output_type": "stream",
          "name": "stdout",
          "text": [
            "{10, 20, 12.3}\n"
          ]
        }
      ],
      "source": [
        "a = {10,20,12.3}\n",
        "print(a)"
      ]
    },
    {
      "cell_type": "code",
      "source": [
        "a= {'python':100,'java':200,'c':300}\n",
        "print(a)\n",
        "type(a)"
      ],
      "metadata": {
        "colab": {
          "base_uri": "https://localhost:8080/"
        },
        "id": "ICAjWxl8V076",
        "outputId": "6d9cdbed-b467-4640-f5c0-b3ba3d0e11c6"
      },
      "execution_count": 3,
      "outputs": [
        {
          "output_type": "stream",
          "name": "stdout",
          "text": [
            "{'python': 100, 'java': 200, 'c': 300}\n"
          ]
        },
        {
          "output_type": "execute_result",
          "data": {
            "text/plain": [
              "dict"
            ]
          },
          "metadata": {},
          "execution_count": 3
        }
      ]
    },
    {
      "cell_type": "markdown",
      "source": [
        "keys can be strings,intigers,float:"
      ],
      "metadata": {
        "id": "ctbIQryqWOXz"
      }
    },
    {
      "cell_type": "code",
      "source": [
        "a = {'python':100,'java':200,'c':300}\n",
        "print(a)"
      ],
      "metadata": {
        "colab": {
          "base_uri": "https://localhost:8080/"
        },
        "id": "QlOUCQrqVzuH",
        "outputId": "3085895a-fedf-4055-809c-04eef8e80c7e"
      },
      "execution_count": 5,
      "outputs": [
        {
          "output_type": "stream",
          "name": "stdout",
          "text": [
            "{'python': 100, 'java': 200, 'c': 300}\n"
          ]
        }
      ]
    },
    {
      "cell_type": "markdown",
      "source": [
        "values  be strings,intigers,float:"
      ],
      "metadata": {
        "id": "Csp2A7PrWmot"
      }
    },
    {
      "cell_type": "code",
      "source": [
        "a = {'python':100,'java':200,'c':300}\n",
        "print(a)"
      ],
      "metadata": {
        "colab": {
          "base_uri": "https://localhost:8080/"
        },
        "id": "w7VQ8vqAWjes",
        "outputId": "dc0a14f4-d08a-495b-a164-13be0a3a1b30"
      },
      "execution_count": 6,
      "outputs": [
        {
          "output_type": "stream",
          "name": "stdout",
          "text": [
            "{'python': 100, 'java': 200, 'c': 300}\n"
          ]
        }
      ]
    },
    {
      "cell_type": "markdown",
      "source": [
        "keys should be unique"
      ],
      "metadata": {
        "id": "ofauEMGGWy6d"
      }
    },
    {
      "cell_type": "code",
      "source": [
        "a = {'python':100,'java':200,'c':300,'python':400}\n",
        "print(a)"
      ],
      "metadata": {
        "colab": {
          "base_uri": "https://localhost:8080/"
        },
        "id": "kc6Cf8EYWuqX",
        "outputId": "38c81046-04f1-4525-ae00-3d2fbe824917"
      },
      "execution_count": 7,
      "outputs": [
        {
          "output_type": "stream",
          "name": "stdout",
          "text": [
            "{'python': 400, 'java': 200, 'c': 300}\n"
          ]
        }
      ]
    },
    {
      "cell_type": "code",
      "source": [
        "a = {'python':100,'java':200,'data science':300,'python':400}\n",
        "print(a)"
      ],
      "metadata": {
        "colab": {
          "base_uri": "https://localhost:8080/"
        },
        "id": "yIj8x6KBW7CZ",
        "outputId": "36a1a51e-72e4-496d-d9cd-6a2e06c76220"
      },
      "execution_count": 9,
      "outputs": [
        {
          "output_type": "stream",
          "name": "stdout",
          "text": [
            "{'python': 400, 'java': 200, 'data science': 300}\n"
          ]
        }
      ]
    },
    {
      "cell_type": "markdown",
      "source": [
        "keys can be immutable"
      ],
      "metadata": {
        "id": "BWV5q_CJXSea"
      }
    },
    {
      "cell_type": "code",
      "source": [
        "a = {'python':100,'java':200,'data science':300,'python':400,(1,2):200.18}\n",
        "print(a)"
      ],
      "metadata": {
        "colab": {
          "base_uri": "https://localhost:8080/"
        },
        "id": "8CmjuggNXCoy",
        "outputId": "6650518c-5085-44bf-b4bb-afe29c13e83a"
      },
      "execution_count": 10,
      "outputs": [
        {
          "output_type": "stream",
          "name": "stdout",
          "text": [
            "{'python': 400, 'java': 200, 'data science': 300, (1, 2): 200.18}\n"
          ]
        }
      ]
    },
    {
      "cell_type": "markdown",
      "source": [
        "#if keys are mutable"
      ],
      "metadata": {
        "id": "yzw5NiE7XjdL"
      }
    },
    {
      "cell_type": "code",
      "source": [
        "a = {'python':100,'java':200,'data science':300,'python':400,[1,2]:200.18}\n",
        "print(a)"
      ],
      "metadata": {
        "colab": {
          "base_uri": "https://localhost:8080/",
          "height": 158
        },
        "id": "ED3PR341Xhnk",
        "outputId": "3f858927-5cdb-444b-e74a-d19f57f822ac"
      },
      "execution_count": 11,
      "outputs": [
        {
          "output_type": "error",
          "ename": "TypeError",
          "evalue": "unhashable type: 'list'",
          "traceback": [
            "\u001b[0;31m---------------------------------------------------------------------------\u001b[0m",
            "\u001b[0;31mTypeError\u001b[0m                                 Traceback (most recent call last)",
            "\u001b[0;32m/tmp/ipython-input-11-3556933095.py\u001b[0m in \u001b[0;36m<cell line: 0>\u001b[0;34m()\u001b[0m\n\u001b[0;32m----> 1\u001b[0;31m \u001b[0ma\u001b[0m \u001b[0;34m=\u001b[0m \u001b[0;34m{\u001b[0m\u001b[0;34m'python'\u001b[0m\u001b[0;34m:\u001b[0m\u001b[0;36m100\u001b[0m\u001b[0;34m,\u001b[0m\u001b[0;34m'java'\u001b[0m\u001b[0;34m:\u001b[0m\u001b[0;36m200\u001b[0m\u001b[0;34m,\u001b[0m\u001b[0;34m'data science'\u001b[0m\u001b[0;34m:\u001b[0m\u001b[0;36m300\u001b[0m\u001b[0;34m,\u001b[0m\u001b[0;34m'python'\u001b[0m\u001b[0;34m:\u001b[0m\u001b[0;36m400\u001b[0m\u001b[0;34m,\u001b[0m\u001b[0;34m[\u001b[0m\u001b[0;36m1\u001b[0m\u001b[0;34m,\u001b[0m\u001b[0;36m2\u001b[0m\u001b[0;34m]\u001b[0m\u001b[0;34m:\u001b[0m\u001b[0;36m200.18\u001b[0m\u001b[0;34m}\u001b[0m\u001b[0;34m\u001b[0m\u001b[0;34m\u001b[0m\u001b[0m\n\u001b[0m\u001b[1;32m      2\u001b[0m \u001b[0mprint\u001b[0m\u001b[0;34m(\u001b[0m\u001b[0ma\u001b[0m\u001b[0;34m)\u001b[0m\u001b[0;34m\u001b[0m\u001b[0;34m\u001b[0m\u001b[0m\n",
            "\u001b[0;31mTypeError\u001b[0m: unhashable type: 'list'"
          ]
        }
      ]
    },
    {
      "cell_type": "code",
      "source": [
        "a = {'python':100,'java':200,'data science':300,'python':400,{1,2}:200.18}\n",
        "print(a)"
      ],
      "metadata": {
        "colab": {
          "base_uri": "https://localhost:8080/",
          "height": 158
        },
        "id": "b8z_uZfpXsbZ",
        "outputId": "04b8bc4d-5c50-488a-f8a4-d2c44724a032"
      },
      "execution_count": 12,
      "outputs": [
        {
          "output_type": "error",
          "ename": "TypeError",
          "evalue": "unhashable type: 'set'",
          "traceback": [
            "\u001b[0;31m---------------------------------------------------------------------------\u001b[0m",
            "\u001b[0;31mTypeError\u001b[0m                                 Traceback (most recent call last)",
            "\u001b[0;32m/tmp/ipython-input-12-1771413238.py\u001b[0m in \u001b[0;36m<cell line: 0>\u001b[0;34m()\u001b[0m\n\u001b[0;32m----> 1\u001b[0;31m \u001b[0ma\u001b[0m \u001b[0;34m=\u001b[0m \u001b[0;34m{\u001b[0m\u001b[0;34m'python'\u001b[0m\u001b[0;34m:\u001b[0m\u001b[0;36m100\u001b[0m\u001b[0;34m,\u001b[0m\u001b[0;34m'java'\u001b[0m\u001b[0;34m:\u001b[0m\u001b[0;36m200\u001b[0m\u001b[0;34m,\u001b[0m\u001b[0;34m'data science'\u001b[0m\u001b[0;34m:\u001b[0m\u001b[0;36m300\u001b[0m\u001b[0;34m,\u001b[0m\u001b[0;34m'python'\u001b[0m\u001b[0;34m:\u001b[0m\u001b[0;36m400\u001b[0m\u001b[0;34m,\u001b[0m\u001b[0;34m{\u001b[0m\u001b[0;36m1\u001b[0m\u001b[0;34m,\u001b[0m\u001b[0;36m2\u001b[0m\u001b[0;34m}\u001b[0m\u001b[0;34m:\u001b[0m\u001b[0;36m200.18\u001b[0m\u001b[0;34m}\u001b[0m\u001b[0;34m\u001b[0m\u001b[0;34m\u001b[0m\u001b[0m\n\u001b[0m\u001b[1;32m      2\u001b[0m \u001b[0mprint\u001b[0m\u001b[0;34m(\u001b[0m\u001b[0ma\u001b[0m\u001b[0;34m)\u001b[0m\u001b[0;34m\u001b[0m\u001b[0;34m\u001b[0m\u001b[0m\n",
            "\u001b[0;31mTypeError\u001b[0m: unhashable type: 'set'"
          ]
        }
      ]
    },
    {
      "cell_type": "code",
      "source": [
        "a = {'python':100,'java':200,'data science':300,'python':400,(1,2):200.18}\n",
        "print(a)"
      ],
      "metadata": {
        "colab": {
          "base_uri": "https://localhost:8080/"
        },
        "id": "MEBIxnx2Xzsd",
        "outputId": "77b4d216-ae23-4d68-eb6b-3eeb0ade0110"
      },
      "execution_count": 13,
      "outputs": [
        {
          "output_type": "stream",
          "name": "stdout",
          "text": [
            "{'python': 400, 'java': 200, 'data science': 300, (1, 2): 200.18}\n"
          ]
        }
      ]
    },
    {
      "cell_type": "markdown",
      "source": [
        "- mutable keys are not allowed\n",
        "- values may be any things keys must be immutable(cant change)"
      ],
      "metadata": {
        "id": "T0X8gr5WX9jT"
      }
    },
    {
      "cell_type": "code",
      "source": [
        "a = {'python':100,'java':200,'data science':300,'python':400,(1,20):200.18}\n",
        "print(a)"
      ],
      "metadata": {
        "colab": {
          "base_uri": "https://localhost:8080/"
        },
        "id": "9HbzKIcxX7Hs",
        "outputId": "014972d1-d209-4a7b-e922-6d25ac813256"
      },
      "execution_count": 16,
      "outputs": [
        {
          "output_type": "stream",
          "name": "stdout",
          "text": [
            "{'python': 400, 'java': 200, 'data science': 300, (1, 20): 200.18}\n"
          ]
        }
      ]
    },
    {
      "cell_type": "code",
      "source": [
        "# accessing values with keys:\n",
        "a = {'python':100,'java':200,'data science':300,'python':400,(1,20):200.18}\n",
        "print(a)\n",
        "print(a['python'])\n",
        "print(a[(1,20)])"
      ],
      "metadata": {
        "colab": {
          "base_uri": "https://localhost:8080/"
        },
        "id": "cgRngKwcYPq_",
        "outputId": "a5a4aef5-9c60-4e16-a322-94df20f91d04"
      },
      "execution_count": 17,
      "outputs": [
        {
          "output_type": "stream",
          "name": "stdout",
          "text": [
            "{'python': 400, 'java': 200, 'data science': 300, (1, 20): 200.18}\n",
            "400\n",
            "200.18\n"
          ]
        }
      ]
    },
    {
      "cell_type": "markdown",
      "source": [
        "- it is mutable\n",
        "- adding a new key and a value\n",
        "- replacing a key in existing dictionary\n",
        "- deleting a key and a value"
      ],
      "metadata": {
        "id": "sLijLcgGYsWO"
      }
    },
    {
      "cell_type": "code",
      "source": [
        "a = {'python':100,'java':200,'data science':300,'python':400,(1,20):200.18}\n",
        "a['python']=1000\n",
        "print(a)"
      ],
      "metadata": {
        "colab": {
          "base_uri": "https://localhost:8080/"
        },
        "id": "vx3YDIVkYqCh",
        "outputId": "a204fb36-31f8-46bb-a051-c7a3bf70f01b"
      },
      "execution_count": 18,
      "outputs": [
        {
          "output_type": "stream",
          "name": "stdout",
          "text": [
            "{'python': 1000, 'java': 200, 'data science': 300, (1, 20): 200.18}\n"
          ]
        }
      ]
    },
    {
      "cell_type": "markdown",
      "source": [
        "- we can add the key and a value at the end only"
      ],
      "metadata": {
        "id": "2h2Sz8iuZS9A"
      }
    },
    {
      "cell_type": "code",
      "source": [
        "# create a empty dictionary &fill it\n",
        "courses = {}\n",
        "courses['python'] = 100\n",
        "courses ['java']= 200\n",
        "courses['ai'] = 300\n",
        "print(courses)"
      ],
      "metadata": {
        "colab": {
          "base_uri": "https://localhost:8080/"
        },
        "id": "ZalKl3WpZQuW",
        "outputId": "dc3b6719-6611-4202-bb7a-d216d6721260"
      },
      "execution_count": 19,
      "outputs": [
        {
          "output_type": "stream",
          "name": "stdout",
          "text": [
            "{'python': 100, 'java': 200, 'ai': 300}\n"
          ]
        }
      ]
    },
    {
      "cell_type": "code",
      "source": [
        "a = {'python':100,'java':200,'data science':300,'ai':400}\n",
        "a['ai']=50000\n",
        "print(a)"
      ],
      "metadata": {
        "colab": {
          "base_uri": "https://localhost:8080/"
        },
        "id": "a917cN7AZ3-c",
        "outputId": "904d1cad-644a-47fe-d76a-5ff111a06283"
      },
      "execution_count": 22,
      "outputs": [
        {
          "output_type": "stream",
          "name": "stdout",
          "text": [
            "{'python': 100, 'java': 200, 'data science': 300, 'ai': 50000}\n"
          ]
        }
      ]
    },
    {
      "cell_type": "code",
      "source": [
        "# delete a memory space\n",
        "\n",
        "a = {'python':100,'java':200,'data science':300,'ai':400}\n",
        "del a['python']\n",
        "print(a)\n"
      ],
      "metadata": {
        "colab": {
          "base_uri": "https://localhost:8080/"
        },
        "id": "DvWwdYYNaJVy",
        "outputId": "2f12dd7e-6e0e-4441-f62e-6ed22fb0a17d"
      },
      "execution_count": 26,
      "outputs": [
        {
          "output_type": "stream",
          "name": "stdout",
          "text": [
            "{'java': 200, 'data science': 300, 'ai': 400}\n"
          ]
        }
      ]
    },
    {
      "cell_type": "markdown",
      "source": [
        "- METHODS\n"
      ],
      "metadata": {
        "id": "JOTJQn8raxGn"
      }
    },
    {
      "cell_type": "code",
      "source": [
        "# printing only keys\n",
        "\n",
        "a = {'python':100,'java':200,'data science':300,'ai':400}\n",
        "print(a.keys())"
      ],
      "metadata": {
        "colab": {
          "base_uri": "https://localhost:8080/"
        },
        "id": "z71bhx04alXu",
        "outputId": "fb789205-541c-494d-838a-33b77ae2dba4"
      },
      "execution_count": 27,
      "outputs": [
        {
          "output_type": "stream",
          "name": "stdout",
          "text": [
            "dict_keys(['python', 'java', 'data science', 'ai'])\n"
          ]
        }
      ]
    },
    {
      "cell_type": "code",
      "source": [
        "#only values\n",
        "a ={'python':100,'java':200,'data science':300,'ai':400}\n",
        "print(a.values())"
      ],
      "metadata": {
        "colab": {
          "base_uri": "https://localhost:8080/"
        },
        "id": "N7mf2t9WbEqC",
        "outputId": "a21c6683-6ef0-4cee-e91f-174546968020"
      },
      "execution_count": 28,
      "outputs": [
        {
          "output_type": "stream",
          "name": "stdout",
          "text": [
            "dict_values([100, 200, 300, 400])\n"
          ]
        }
      ]
    },
    {
      "cell_type": "code",
      "source": [
        "#both keys and values\n",
        "a = {'python':100,'java':200,'data science':300,'ai':400}\n",
        "print(a.items())"
      ],
      "metadata": {
        "colab": {
          "base_uri": "https://localhost:8080/"
        },
        "id": "CQlU2O-ubJOM",
        "outputId": "72d838ce-b7f5-48d1-ed12-7d20be887eb3"
      },
      "execution_count": 29,
      "outputs": [
        {
          "output_type": "stream",
          "name": "stdout",
          "text": [
            "dict_items([('python', 100), ('java', 200), ('data science', 300), ('ai', 400)])\n"
          ]
        }
      ]
    },
    {
      "cell_type": "markdown",
      "source": [
        "Get- used to access the value if keys are not available it shows none"
      ],
      "metadata": {
        "id": "geFuIfpU6v5o"
      }
    },
    {
      "cell_type": "code",
      "source": [
        "#get-\n",
        "a = {'python':100,'java':200,'data science':300,'ai':400}\n",
        "print(a.get('python'))"
      ],
      "metadata": {
        "colab": {
          "base_uri": "https://localhost:8080/"
        },
        "id": "_9rCCTiKbPNE",
        "outputId": "39e03aa7-0b9f-4e1a-89ea-6a0aa41ca74b"
      },
      "execution_count": 32,
      "outputs": [
        {
          "output_type": "stream",
          "name": "stdout",
          "text": [
            "100\n"
          ]
        }
      ]
    },
    {
      "cell_type": "code",
      "source": [
        "a = {'python':100,'java':200,'data science':300,'ai':400}\n",
        "print(a.get('python12'))"
      ],
      "metadata": {
        "id": "JaUCI-zL5qVj",
        "outputId": "0ae044a1-b263-41d6-c6fd-fdc9cb2d18dc",
        "colab": {
          "base_uri": "https://localhost:8080/"
        }
      },
      "execution_count": 42,
      "outputs": [
        {
          "output_type": "stream",
          "name": "stdout",
          "text": [
            "None\n"
          ]
        }
      ]
    },
    {
      "cell_type": "code",
      "source": [
        "a = {'python':100,'java':200,'data science':300,'ai':400}\n",
        "print(a['topgun'])"
      ],
      "metadata": {
        "id": "x99d6B8X53Us",
        "outputId": "4d5c3d4d-db4a-4421-a7d6-35f87c454bde",
        "colab": {
          "base_uri": "https://localhost:8080/",
          "height": 158
        }
      },
      "execution_count": 44,
      "outputs": [
        {
          "output_type": "error",
          "ename": "KeyError",
          "evalue": "'topgun'",
          "traceback": [
            "\u001b[0;31m---------------------------------------------------------------------------\u001b[0m",
            "\u001b[0;31mKeyError\u001b[0m                                  Traceback (most recent call last)",
            "\u001b[0;32m/tmp/ipython-input-44-3446282050.py\u001b[0m in \u001b[0;36m<cell line: 0>\u001b[0;34m()\u001b[0m\n\u001b[1;32m      1\u001b[0m \u001b[0ma\u001b[0m \u001b[0;34m=\u001b[0m \u001b[0;34m{\u001b[0m\u001b[0;34m'python'\u001b[0m\u001b[0;34m:\u001b[0m\u001b[0;36m100\u001b[0m\u001b[0;34m,\u001b[0m\u001b[0;34m'java'\u001b[0m\u001b[0;34m:\u001b[0m\u001b[0;36m200\u001b[0m\u001b[0;34m,\u001b[0m\u001b[0;34m'data science'\u001b[0m\u001b[0;34m:\u001b[0m\u001b[0;36m300\u001b[0m\u001b[0;34m,\u001b[0m\u001b[0;34m'ai'\u001b[0m\u001b[0;34m:\u001b[0m\u001b[0;36m400\u001b[0m\u001b[0;34m}\u001b[0m\u001b[0;34m\u001b[0m\u001b[0;34m\u001b[0m\u001b[0m\n\u001b[0;32m----> 2\u001b[0;31m \u001b[0mprint\u001b[0m\u001b[0;34m(\u001b[0m\u001b[0ma\u001b[0m\u001b[0;34m[\u001b[0m\u001b[0;34m'topgun'\u001b[0m\u001b[0;34m]\u001b[0m\u001b[0;34m)\u001b[0m\u001b[0;34m\u001b[0m\u001b[0;34m\u001b[0m\u001b[0m\n\u001b[0m",
            "\u001b[0;31mKeyError\u001b[0m: 'topgun'"
          ]
        }
      ]
    },
    {
      "cell_type": "code",
      "source": [
        "a = {'python':100,'java':200,'data science':300,'ai':400}\n",
        "print(a.get('topgun'))"
      ],
      "metadata": {
        "id": "hfEfwDZY6lTy",
        "outputId": "a10943bc-d421-4155-f325-7e0e5d0b5f81",
        "colab": {
          "base_uri": "https://localhost:8080/"
        }
      },
      "execution_count": 45,
      "outputs": [
        {
          "output_type": "stream",
          "name": "stdout",
          "text": [
            "None\n"
          ]
        }
      ]
    },
    {
      "cell_type": "markdown",
      "source": [
        "update-used to update the existing value for keys"
      ],
      "metadata": {
        "id": "gmRk9vof7AnG"
      }
    },
    {
      "cell_type": "code",
      "source": [
        "a = {'python':100,'java':200,'data science':300,'ai':400}\n",
        "a.update({'python':1000})\n",
        "print(a)"
      ],
      "metadata": {
        "id": "-Z7fuakt6rGs",
        "outputId": "28ecd1a1-aba1-40e8-b0c3-601eaaa3526e",
        "colab": {
          "base_uri": "https://localhost:8080/"
        }
      },
      "execution_count": 46,
      "outputs": [
        {
          "output_type": "stream",
          "name": "stdout",
          "text": [
            "{'python': 1000, 'java': 200, 'data science': 300, 'ai': 400}\n"
          ]
        }
      ]
    },
    {
      "cell_type": "code",
      "source": [
        "a = {'python':100,'java':200,'data science':300,'ai':400}\n",
        "a['ai'] = 5000\n",
        "print(a)"
      ],
      "metadata": {
        "id": "_2XaSIbV7UZV",
        "outputId": "8b0105d9-c143-463a-91a1-344d84f1450d",
        "colab": {
          "base_uri": "https://localhost:8080/"
        }
      },
      "execution_count": 47,
      "outputs": [
        {
          "output_type": "stream",
          "name": "stdout",
          "text": [
            "{'python': 100, 'java': 200, 'data science': 300, 'ai': 5000}\n"
          ]
        }
      ]
    },
    {
      "cell_type": "markdown",
      "source": [
        "pop - you can remove the existing memory space"
      ],
      "metadata": {
        "id": "xKEmG0sF7mMA"
      }
    },
    {
      "cell_type": "code",
      "source": [
        "a = {'python':100,'java':200,'data science':300,'ai':400}\n",
        "a.pop('python')\n",
        "print(a)"
      ],
      "metadata": {
        "id": "pXH30SE17ihh",
        "outputId": "b8faf6f2-f550-4060-ffda-ac734903546b",
        "colab": {
          "base_uri": "https://localhost:8080/"
        }
      },
      "execution_count": 48,
      "outputs": [
        {
          "output_type": "stream",
          "name": "stdout",
          "text": [
            "{'java': 200, 'data science': 300, 'ai': 400}\n"
          ]
        }
      ]
    },
    {
      "cell_type": "code",
      "source": [
        "a = {'python':100,'java':200,'data science':300,'ai':400}\n",
        "del a['python']\n",
        "print(a)"
      ],
      "metadata": {
        "id": "RhaizTKk7xoE",
        "outputId": "49c5d0dd-89c1-4e70-aad7-bb661bd957c2",
        "colab": {
          "base_uri": "https://localhost:8080/"
        }
      },
      "execution_count": 54,
      "outputs": [
        {
          "output_type": "stream",
          "name": "stdout",
          "text": [
            "{'java': 200, 'data science': 300, 'ai': 400}\n"
          ]
        }
      ]
    },
    {
      "cell_type": "markdown",
      "source": [
        "-we can remove the last key value"
      ],
      "metadata": {
        "id": "c716FWh68yCl"
      }
    },
    {
      "cell_type": "code",
      "source": [
        "a = {'python':100,'java':200,'data science':300,'ai':400}\n",
        "a.popitem()\n",
        "print(a)"
      ],
      "metadata": {
        "id": "aZDy1n2I77Ui",
        "outputId": "c0d71172-9c77-4bd5-d037-82e7ed71062d",
        "colab": {
          "base_uri": "https://localhost:8080/"
        }
      },
      "execution_count": 55,
      "outputs": [
        {
          "output_type": "stream",
          "name": "stdout",
          "text": [
            "{'python': 100, 'java': 200, 'data science': 300}\n"
          ]
        }
      ]
    },
    {
      "cell_type": "code",
      "source": [
        "a = {'python':100,'java':200,'data science':300,'ai':400}\n",
        "a.pop('python')\n",
        "print(a)"
      ],
      "metadata": {
        "id": "IOIW1Iaj8YV8",
        "outputId": "507d2670-64f4-44e6-bdc0-b116a36e96ec",
        "colab": {
          "base_uri": "https://localhost:8080/"
        }
      },
      "execution_count": 56,
      "outputs": [
        {
          "output_type": "stream",
          "name": "stdout",
          "text": [
            "{'java': 200, 'data science': 300, 'ai': 400}\n"
          ]
        }
      ]
    },
    {
      "cell_type": "code",
      "source": [
        "a = {'python':100,'java':200,'data science':300,'ai':400}\n",
        "print(a.pop())"
      ],
      "metadata": {
        "id": "DcPAfnxD8fvd",
        "outputId": "1aad0129-5f47-49e8-bf1d-8bcd3f7328d8",
        "colab": {
          "base_uri": "https://localhost:8080/",
          "height": 158
        }
      },
      "execution_count": 58,
      "outputs": [
        {
          "output_type": "error",
          "ename": "TypeError",
          "evalue": "pop expected at least 1 argument, got 0",
          "traceback": [
            "\u001b[0;31m---------------------------------------------------------------------------\u001b[0m",
            "\u001b[0;31mTypeError\u001b[0m                                 Traceback (most recent call last)",
            "\u001b[0;32m/tmp/ipython-input-58-2326613712.py\u001b[0m in \u001b[0;36m<cell line: 0>\u001b[0;34m()\u001b[0m\n\u001b[1;32m      1\u001b[0m \u001b[0ma\u001b[0m \u001b[0;34m=\u001b[0m \u001b[0;34m{\u001b[0m\u001b[0;34m'python'\u001b[0m\u001b[0;34m:\u001b[0m\u001b[0;36m100\u001b[0m\u001b[0;34m,\u001b[0m\u001b[0;34m'java'\u001b[0m\u001b[0;34m:\u001b[0m\u001b[0;36m200\u001b[0m\u001b[0;34m,\u001b[0m\u001b[0;34m'data science'\u001b[0m\u001b[0;34m:\u001b[0m\u001b[0;36m300\u001b[0m\u001b[0;34m,\u001b[0m\u001b[0;34m'ai'\u001b[0m\u001b[0;34m:\u001b[0m\u001b[0;36m400\u001b[0m\u001b[0;34m}\u001b[0m\u001b[0;34m\u001b[0m\u001b[0;34m\u001b[0m\u001b[0m\n\u001b[0;32m----> 2\u001b[0;31m \u001b[0mprint\u001b[0m\u001b[0;34m(\u001b[0m\u001b[0ma\u001b[0m\u001b[0;34m.\u001b[0m\u001b[0mpop\u001b[0m\u001b[0;34m(\u001b[0m\u001b[0;34m)\u001b[0m\u001b[0;34m)\u001b[0m\u001b[0;34m\u001b[0m\u001b[0;34m\u001b[0m\u001b[0m\n\u001b[0m",
            "\u001b[0;31mTypeError\u001b[0m: pop expected at least 1 argument, got 0"
          ]
        }
      ]
    },
    {
      "cell_type": "markdown",
      "source": [
        "clear - will clear entire data and variable will be empty"
      ],
      "metadata": {
        "id": "k2J3XZhn8siJ"
      }
    },
    {
      "cell_type": "code",
      "source": [
        "a = {'python':100,'java':200,'data science':300,'ai':400}\n",
        "print(a.clear())\n",
        "print(a)"
      ],
      "metadata": {
        "id": "y4qYXFNy8kBN",
        "outputId": "c5a40d01-0f18-4ba5-a5f9-a75e32e8f2c0",
        "colab": {
          "base_uri": "https://localhost:8080/"
        }
      },
      "execution_count": 60,
      "outputs": [
        {
          "output_type": "stream",
          "name": "stdout",
          "text": [
            "None\n",
            "{}\n"
          ]
        }
      ]
    },
    {
      "cell_type": "markdown",
      "source": [
        "copy - copy data from 1 variable to another"
      ],
      "metadata": {
        "id": "flKvtO4h9LVM"
      }
    },
    {
      "cell_type": "code",
      "source": [
        "a = {'python':100,'java':200,'data science':300,'ai':400}\n",
        "b=a.copy()\n",
        "print(a)\n",
        "print(b)"
      ],
      "metadata": {
        "id": "IZMxq3kn9FPG",
        "outputId": "21b153d1-4603-4df8-8ef1-229a8add9a2c",
        "colab": {
          "base_uri": "https://localhost:8080/"
        }
      },
      "execution_count": 67,
      "outputs": [
        {
          "output_type": "stream",
          "name": "stdout",
          "text": [
            "{'python': 100, 'java': 200, 'data science': 300, 'ai': 400}\n",
            "{'python': 100, 'java': 200, 'data science': 300, 'ai': 400}\n"
          ]
        }
      ]
    },
    {
      "cell_type": "code",
      "source": [
        "# length\n",
        "a = {'python':100,'java':200,'data science':300,'ai':400}\n",
        "print(len(a))\n",
        "print(a)\n",
        "print(b)"
      ],
      "metadata": {
        "id": "tv7_LU149b8n",
        "outputId": "22cfbf65-e36e-4347-b37f-25642e88ed0d",
        "colab": {
          "base_uri": "https://localhost:8080/"
        }
      },
      "execution_count": 71,
      "outputs": [
        {
          "output_type": "stream",
          "name": "stdout",
          "text": [
            "4\n",
            "{'python': 100, 'java': 200, 'data science': 300, 'ai': 400}\n",
            "{'python': 100, 'java': 200, 'data science': 300, 'ai': 400}\n"
          ]
        }
      ]
    },
    {
      "cell_type": "code",
      "source": [
        "a = {'python':100,'java':200,'data science':300,'ai':400}\n",
        "print(min(a))\n",
        "print(max(a))\n",
        "print(len(a))"
      ],
      "metadata": {
        "id": "QbvlJzPh98aT",
        "outputId": "af9fe4cf-219d-4f4f-b581-d167e5177bf4",
        "colab": {
          "base_uri": "https://localhost:8080/"
        }
      },
      "execution_count": 76,
      "outputs": [
        {
          "output_type": "stream",
          "name": "stdout",
          "text": [
            "ai\n",
            "python\n",
            "4\n"
          ]
        }
      ]
    },
    {
      "cell_type": "markdown",
      "source": [
        "-there is no sort method we can use sorted method"
      ],
      "metadata": {
        "id": "YLzy9Rxp-YQW"
      }
    },
    {
      "cell_type": "code",
      "source": [
        "a = {'python':100,'java':200,'data science':300,'ai':400}\n",
        "print(sorted(a))"
      ],
      "metadata": {
        "id": "SRPJtLRe-ICU",
        "outputId": "d4d092fd-3693-4d2d-b1f3-c05f09f5de64",
        "colab": {
          "base_uri": "https://localhost:8080/"
        }
      },
      "execution_count": 78,
      "outputs": [
        {
          "output_type": "stream",
          "name": "stdout",
          "text": [
            "['ai', 'data science', 'java', 'python']\n"
          ]
        }
      ]
    },
    {
      "cell_type": "code",
      "source": [
        "a = {'python':100,'java':200,'data science':300,'ai':400}\n",
        "print(sorted(a, reverse=True))"
      ],
      "metadata": {
        "id": "BpX3QJj3-mzH",
        "outputId": "3110795c-56a3-418e-d0eb-3511ecadc116",
        "colab": {
          "base_uri": "https://localhost:8080/"
        }
      },
      "execution_count": 80,
      "outputs": [
        {
          "output_type": "stream",
          "name": "stdout",
          "text": [
            "['python', 'java', 'data science', 'ai']\n"
          ]
        }
      ]
    },
    {
      "cell_type": "code",
      "source": [],
      "metadata": {
        "id": "Hpz2OqxN-46s"
      },
      "execution_count": null,
      "outputs": []
    }
  ]
}